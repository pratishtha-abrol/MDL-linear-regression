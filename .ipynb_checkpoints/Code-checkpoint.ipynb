{
 "cells": [
  {
   "cell_type": "markdown",
   "metadata": {},
   "source": [
    "## Task 1\n",
    "\n",
    "### method: LinearRegression().fit()\n",
    "\n"
   ]
  },
  {
   "cell_type": "markdown",
   "metadata": {},
   "source": [
    "The given method basically finds the best value of the intercept and the slope of the line that best fits the given data. Below is a code snippet for the same."
   ]
  },
  {
   "cell_type": "markdown",
   "metadata": {},
   "source": [
    "```\n",
    "from sklearn.linear_model import LinearRegression\n",
    "regressor = LinearRegression()\n",
    "regressor.fit(X_train, y_train)\n",
    "```"
   ]
  },
  {
   "cell_type": "markdown",
   "metadata": {},
   "source": [
    "*LinearRegression* fits a linear model with coefficients\n",
    "$$\\omega = ( \\omega _{1},..., \\omega _{p})$$\n",
    "to minimize the residual sum of squares between the observed targets in the dataset, and the targets predicted by the linear approximation.\n",
    "Mathematically it solves a problem of the form:\n",
    "$$ \\underset{\\omega}{\\textrm{min}} = ||X - \\omega y|| _{2} ^{2} $$"
   ]
  },
  {
   "cell_type": "markdown",
   "metadata": {},
   "source": [
    "The *fit()* method takes in arrays X, and y and store the coefficients in its ```coef_``` member and the intercept in the ```intercept_``` member."
   ]
  },
  {
   "cell_type": "markdown",
   "metadata": {},
   "source": [
    "## Task 2"
   ]
  },
  {
   "cell_type": "markdown",
   "metadata": {},
   "source": [
    "### Importing Data"
   ]
  },
  {
   "cell_type": "code",
   "execution_count": 1,
   "metadata": {},
   "outputs": [],
   "source": [
    "import pickle"
   ]
  },
  {
   "cell_type": "code",
   "execution_count": 2,
   "metadata": {},
   "outputs": [],
   "source": [
    "infile1 = open(\"train.pkl\", 'rb')\n",
    "train = pickle.load(infile1)\n",
    "infile1.close()"
   ]
  },
  {
   "cell_type": "code",
   "execution_count": 3,
   "metadata": {},
   "outputs": [],
   "source": [
    "infile2 = open(\"test.pkl\", 'rb')\n",
    "test_data = pickle.load(infile2)\n",
    "infile2.close()"
   ]
  },
  {
   "cell_type": "code",
   "execution_count": 4,
   "metadata": {},
   "outputs": [
    {
     "data": {
      "text/plain": [
       "array([[  39.18236666, 4765.40421584],\n",
       "       [  -7.08833508, 3782.0037892 ],\n",
       "       [ -39.80170787,  743.90527908],\n",
       "       ...,\n",
       "       [  39.35145933, 2470.61226356],\n",
       "       [  12.8210855 , 1806.34100101],\n",
       "       [ -28.09216372,  -77.523256  ]])"
      ]
     },
     "execution_count": 4,
     "metadata": {},
     "output_type": "execute_result"
    }
   ],
   "source": [
    "train"
   ]
  },
  {
   "cell_type": "code",
   "execution_count": 5,
   "metadata": {
    "scrolled": true
   },
   "outputs": [
    {
     "data": {
      "text/plain": [
       "array([[-2.14700000e+01, -5.02846044e+02],\n",
       "       [-3.71100000e+01, -2.58147766e+03],\n",
       "       [-6.40000000e+00, -1.28624000e+01],\n",
       "       [ 3.61000000e+00,  3.05555205e+00],\n",
       "       [ 2.57700000e+01,  8.43144144e+02],\n",
       "       [-3.68500000e+01, -2.52776216e+03],\n",
       "       [ 4.54200000e+01,  4.64430568e+03],\n",
       "       [ 9.72000000e+00,  4.49297344e+01],\n",
       "       [ 1.21600000e+01,  8.78233728e+01],\n",
       "       [ 3.21500000e+01,  1.64155422e+03],\n",
       "       [ 3.73700000e+01,  2.58208779e+03],\n",
       "       [ 3.30200000e+01,  1.77898237e+03],\n",
       "       [ 6.13000000e+00,  1.17044818e+01],\n",
       "       [-8.12000000e+00, -2.70068544e+01],\n",
       "       [-4.63000000e+01, -5.00405315e+03],\n",
       "       [ 3.81000000e+00,  3.43689505e+00],\n",
       "       [-2.39000000e+00,  2.27062050e-01],\n",
       "       [-5.01000000e+00, -5.73947705e+00],\n",
       "       [-4.98100000e+01, -6.22714303e+03],\n",
       "       [-1.44000000e+00,  8.23628800e-01],\n",
       "       [ 1.71000000e+00,  1.17442855e+00],\n",
       "       [-3.26900000e+01, -1.76673153e+03],\n",
       "       [ 3.87600000e+01,  2.88209592e+03],\n",
       "       [-6.51000000e+00, -1.35772246e+01],\n",
       "       [ 4.24000000e+00,  4.40929920e+00],\n",
       "       [-3.82100000e+01, -2.81715582e+03],\n",
       "       [ 1.05800000e+01,  5.78698276e+01],\n",
       "       [-2.98200000e+01, -1.34233196e+03],\n",
       "       [-4.88200000e+01, -5.86404050e+03],\n",
       "       [-3.28400000e+01, -1.79108143e+03],\n",
       "       [ 4.91000000e+01,  5.87083135e+03],\n",
       "       [-2.37200000e+01, -6.77304710e+02],\n",
       "       [ 3.93100000e+01,  3.00694155e+03],\n",
       "       [-1.61700000e+01, -2.15465284e+02],\n",
       "       [ 1.42900000e+01,  1.42676847e+02],\n",
       "       [-4.61900000e+01, -4.96856385e+03],\n",
       "       [ 4.20200000e+01,  3.67496071e+03],\n",
       "       [ 4.42300000e+01,  4.28777359e+03],\n",
       "       [-4.12500000e+01, -3.54209141e+03],\n",
       "       [-3.27000000e+01, -1.76834795e+03],\n",
       "       [ 3.70300000e+01,  2.51202078e+03],\n",
       "       [-8.13000000e+00, -2.71090279e+01],\n",
       "       [-4.87100000e+01, -5.82458960e+03],\n",
       "       [-3.00300000e+01, -1.37078977e+03],\n",
       "       [ 4.57300000e+01,  4.74032207e+03],\n",
       "       [ 2.40100000e+01,  6.81294658e+02],\n",
       "       [ 3.00700000e+01,  1.34208727e+03],\n",
       "       [-4.26400000e+01, -3.91127458e+03],\n",
       "       [ 2.63100000e+01,  8.97502858e+02],\n",
       "       [-4.63800000e+01, -5.02996939e+03],\n",
       "       [-4.69100000e+01, -5.20392743e+03],\n",
       "       [ 1.70300000e+01,  2.41982078e+02],\n",
       "       [ 3.20400000e+01,  1.62470005e+03],\n",
       "       [-1.97000000e+01, -3.88833450e+02],\n",
       "       [ 1.22200000e+01,  8.91308844e+01],\n",
       "       [ 3.19900000e+01,  1.61707738e+03],\n",
       "       [ 2.12800000e+01,  4.73550490e+02],\n",
       "       [ 2.16500000e+01,  4.98801156e+02],\n",
       "       [-1.13600000e+01, -7.47675648e+01],\n",
       "       [-4.02200000e+01, -3.28404170e+03],\n",
       "       [-1.06200000e+01, -6.10380044e+01],\n",
       "       [ 9.90000000e-01,  1.01901295e+00],\n",
       "       [-2.26300000e+01, -5.88476310e+02],\n",
       "       [ 1.35000000e+01,  1.20238750e+02],\n",
       "       [-6.65000000e+00, -1.45219313e+01],\n",
       "       [-4.92600000e+01, -6.02362509e+03],\n",
       "       [-8.38000000e+00, -2.97447116e+01],\n",
       "       [ 2.31000000e+00,  1.48649755e+00],\n",
       "       [ 3.64000000e+01,  2.38556400e+03],\n",
       "       [-2.72500000e+01, -1.02532016e+03],\n",
       "       [ 1.89100000e+01,  3.31758687e+02],\n",
       "       [-4.92800000e+01, -6.03094691e+03],\n",
       "       [-7.66000000e+00, -2.25696668e+01],\n",
       "       [ 2.91800000e+01,  1.22597698e+03],\n",
       "       [ 8.96000000e+00,  3.52709248e+01],\n",
       "       [ 3.20300000e+01,  1.62317360e+03],\n",
       "       [ 8.45000000e+00,  2.96550062e+01],\n",
       "       [ 1.29400000e+01,  1.05857737e+02],\n",
       "       [-4.43100000e+01, -4.38768417e+03],\n",
       "       [ 4.80000000e-01,  9.96121600e-01]])"
      ]
     },
     "execution_count": 5,
     "metadata": {},
     "output_type": "execute_result"
    }
   ],
   "source": [
    "test_data"
   ]
  },
  {
   "cell_type": "code",
   "execution_count": 6,
   "metadata": {},
   "outputs": [],
   "source": [
    "import pandas as pd"
   ]
  },
  {
   "cell_type": "code",
   "execution_count": 7,
   "metadata": {},
   "outputs": [
    {
     "data": {
      "text/html": [
       "<div>\n",
       "<style scoped>\n",
       "    .dataframe tbody tr th:only-of-type {\n",
       "        vertical-align: middle;\n",
       "    }\n",
       "\n",
       "    .dataframe tbody tr th {\n",
       "        vertical-align: top;\n",
       "    }\n",
       "\n",
       "    .dataframe thead th {\n",
       "        text-align: right;\n",
       "    }\n",
       "</style>\n",
       "<table border=\"1\" class=\"dataframe\">\n",
       "  <thead>\n",
       "    <tr style=\"text-align: right;\">\n",
       "      <th></th>\n",
       "      <th>X</th>\n",
       "      <th>y</th>\n",
       "    </tr>\n",
       "  </thead>\n",
       "  <tbody>\n",
       "    <tr>\n",
       "      <th>0</th>\n",
       "      <td>39.182367</td>\n",
       "      <td>4765.404216</td>\n",
       "    </tr>\n",
       "    <tr>\n",
       "      <th>1</th>\n",
       "      <td>-7.088335</td>\n",
       "      <td>3782.003789</td>\n",
       "    </tr>\n",
       "    <tr>\n",
       "      <th>2</th>\n",
       "      <td>-39.801708</td>\n",
       "      <td>743.905279</td>\n",
       "    </tr>\n",
       "    <tr>\n",
       "      <th>3</th>\n",
       "      <td>-21.923343</td>\n",
       "      <td>5027.035592</td>\n",
       "    </tr>\n",
       "    <tr>\n",
       "      <th>4</th>\n",
       "      <td>4.096181</td>\n",
       "      <td>-4596.715255</td>\n",
       "    </tr>\n",
       "    <tr>\n",
       "      <th>...</th>\n",
       "      <td>...</td>\n",
       "      <td>...</td>\n",
       "    </tr>\n",
       "    <tr>\n",
       "      <th>7995</th>\n",
       "      <td>23.063270</td>\n",
       "      <td>-1486.452375</td>\n",
       "    </tr>\n",
       "    <tr>\n",
       "      <th>7996</th>\n",
       "      <td>29.566674</td>\n",
       "      <td>909.864473</td>\n",
       "    </tr>\n",
       "    <tr>\n",
       "      <th>7997</th>\n",
       "      <td>39.351459</td>\n",
       "      <td>2470.612264</td>\n",
       "    </tr>\n",
       "    <tr>\n",
       "      <th>7998</th>\n",
       "      <td>12.821086</td>\n",
       "      <td>1806.341001</td>\n",
       "    </tr>\n",
       "    <tr>\n",
       "      <th>7999</th>\n",
       "      <td>-28.092164</td>\n",
       "      <td>-77.523256</td>\n",
       "    </tr>\n",
       "  </tbody>\n",
       "</table>\n",
       "<p>8000 rows × 2 columns</p>\n",
       "</div>"
      ],
      "text/plain": [
       "              X            y\n",
       "0     39.182367  4765.404216\n",
       "1     -7.088335  3782.003789\n",
       "2    -39.801708   743.905279\n",
       "3    -21.923343  5027.035592\n",
       "4      4.096181 -4596.715255\n",
       "...         ...          ...\n",
       "7995  23.063270 -1486.452375\n",
       "7996  29.566674   909.864473\n",
       "7997  39.351459  2470.612264\n",
       "7998  12.821086  1806.341001\n",
       "7999 -28.092164   -77.523256\n",
       "\n",
       "[8000 rows x 2 columns]"
      ]
     },
     "execution_count": 7,
     "metadata": {},
     "output_type": "execute_result"
    }
   ],
   "source": [
    "train_df = pd.DataFrame(train, columns=[\"X\",\"y\"])\n",
    "train_df"
   ]
  },
  {
   "cell_type": "code",
   "execution_count": 8,
   "metadata": {},
   "outputs": [
    {
     "data": {
      "text/html": [
       "<div>\n",
       "<style scoped>\n",
       "    .dataframe tbody tr th:only-of-type {\n",
       "        vertical-align: middle;\n",
       "    }\n",
       "\n",
       "    .dataframe tbody tr th {\n",
       "        vertical-align: top;\n",
       "    }\n",
       "\n",
       "    .dataframe thead th {\n",
       "        text-align: right;\n",
       "    }\n",
       "</style>\n",
       "<table border=\"1\" class=\"dataframe\">\n",
       "  <thead>\n",
       "    <tr style=\"text-align: right;\">\n",
       "      <th></th>\n",
       "      <th>X</th>\n",
       "      <th>y</th>\n",
       "    </tr>\n",
       "  </thead>\n",
       "  <tbody>\n",
       "    <tr>\n",
       "      <th>0</th>\n",
       "      <td>-21.47</td>\n",
       "      <td>-502.846044</td>\n",
       "    </tr>\n",
       "    <tr>\n",
       "      <th>1</th>\n",
       "      <td>-37.11</td>\n",
       "      <td>-2581.477664</td>\n",
       "    </tr>\n",
       "    <tr>\n",
       "      <th>2</th>\n",
       "      <td>-6.40</td>\n",
       "      <td>-12.862400</td>\n",
       "    </tr>\n",
       "    <tr>\n",
       "      <th>3</th>\n",
       "      <td>3.61</td>\n",
       "      <td>3.055552</td>\n",
       "    </tr>\n",
       "    <tr>\n",
       "      <th>4</th>\n",
       "      <td>25.77</td>\n",
       "      <td>843.144144</td>\n",
       "    </tr>\n",
       "    <tr>\n",
       "      <th>...</th>\n",
       "      <td>...</td>\n",
       "      <td>...</td>\n",
       "    </tr>\n",
       "    <tr>\n",
       "      <th>75</th>\n",
       "      <td>32.03</td>\n",
       "      <td>1623.173603</td>\n",
       "    </tr>\n",
       "    <tr>\n",
       "      <th>76</th>\n",
       "      <td>8.45</td>\n",
       "      <td>29.655006</td>\n",
       "    </tr>\n",
       "    <tr>\n",
       "      <th>77</th>\n",
       "      <td>12.94</td>\n",
       "      <td>105.857737</td>\n",
       "    </tr>\n",
       "    <tr>\n",
       "      <th>78</th>\n",
       "      <td>-44.31</td>\n",
       "      <td>-4387.684172</td>\n",
       "    </tr>\n",
       "    <tr>\n",
       "      <th>79</th>\n",
       "      <td>0.48</td>\n",
       "      <td>0.996122</td>\n",
       "    </tr>\n",
       "  </tbody>\n",
       "</table>\n",
       "<p>80 rows × 2 columns</p>\n",
       "</div>"
      ],
      "text/plain": [
       "        X            y\n",
       "0  -21.47  -502.846044\n",
       "1  -37.11 -2581.477664\n",
       "2   -6.40   -12.862400\n",
       "3    3.61     3.055552\n",
       "4   25.77   843.144144\n",
       "..    ...          ...\n",
       "75  32.03  1623.173603\n",
       "76   8.45    29.655006\n",
       "77  12.94   105.857737\n",
       "78 -44.31 -4387.684172\n",
       "79   0.48     0.996122\n",
       "\n",
       "[80 rows x 2 columns]"
      ]
     },
     "execution_count": 8,
     "metadata": {},
     "output_type": "execute_result"
    }
   ],
   "source": [
    "test = pd.DataFrame(test_data, columns=[\"X\",\"y\"])\n",
    "test"
   ]
  },
  {
   "cell_type": "code",
   "execution_count": 9,
   "metadata": {
    "scrolled": true
   },
   "outputs": [
    {
     "data": {
      "text/plain": [
       "<matplotlib.collections.PathCollection at 0x7fbfe0fb47f0>"
      ]
     },
     "execution_count": 9,
     "metadata": {},
     "output_type": "execute_result"
    },
    {
     "data": {
      "image/png": "[encoded data removed]",
      "text/plain": [
       "<Figure size 432x288 with 1 Axes>"
      ]
     },
     "metadata": {
      "needs_background": "light"
     },
     "output_type": "display_data"
    }
   ],
   "source": [
    "import matplotlib.pyplot as plt\n",
    "%matplotlib inline\n",
    "plt.scatter(train_df.X, train_df.y)"
   ]
  },
  {
   "cell_type": "code",
   "execution_count": 10,
   "metadata": {},
   "outputs": [
    {
     "data": {
      "text/plain": [
       "<matplotlib.collections.PathCollection at 0x7fbfe070b820>"
      ]
     },
     "execution_count": 10,
     "metadata": {},
     "output_type": "execute_result"
    },
    {
     "data": {
      "image/png": "[encoded data removed]",
      "text/plain": [
       "<Figure size 432x288 with 1 Axes>"
      ]
     },
     "metadata": {
      "needs_background": "light"
     },
     "output_type": "display_data"
    }
   ],
   "source": [
    "%matplotlib inline\n",
    "plt.scatter(test.X, test.y)"
   ]
  },
  {
   "cell_type": "markdown",
   "metadata": {},
   "source": [
    "### Splitting Data"
   ]
  },
  {
   "cell_type": "code",
   "execution_count": 11,
   "metadata": {},
   "outputs": [],
   "source": [
    "# from sklearn.model_selection import train_test_split\n",
    "import numpy as np "
   ]
  },
  {
   "cell_type": "code",
   "execution_count": 12,
   "metadata": {},
   "outputs": [],
   "source": [
    "# train,test=train_test_split(df,test_size=0.1,random_state=1)"
   ]
  },
  {
   "cell_type": "code",
   "execution_count": 13,
   "metadata": {},
   "outputs": [
    {
     "data": {
      "text/plain": [
       "10"
      ]
     },
     "execution_count": 13,
     "metadata": {},
     "output_type": "execute_result"
    }
   ],
   "source": [
    "# split the train set to 10 equal sets\n",
    "\n",
    "# uncommnent this later:\n",
    "\n",
    "train_dataset=np.split(train_df,10)\n",
    "len(train_dataset)"
   ]
  },
  {
   "cell_type": "markdown",
   "metadata": {},
   "source": [
    "## Polynomial Degree: 1"
   ]
  },
  {
   "cell_type": "code",
   "execution_count": 14,
   "metadata": {},
   "outputs": [],
   "source": [
    "from sklearn.linear_model import LinearRegression"
   ]
  },
  {
   "cell_type": "code",
   "execution_count": 15,
   "metadata": {},
   "outputs": [],
   "source": [
    "degree1bias = []\n",
    "degree1variance = []"
   ]
  },
  {
   "cell_type": "markdown",
   "metadata": {},
   "source": [
    "### Model 1"
   ]
  },
  {
   "cell_type": "code",
   "execution_count": 16,
   "metadata": {},
   "outputs": [],
   "source": [
    "clf1 = LinearRegression()"
   ]
  },
  {
   "cell_type": "code",
   "execution_count": 17,
   "metadata": {},
   "outputs": [
    {
     "data": {
      "text/plain": [
       "LinearRegression()"
      ]
     },
     "execution_count": 17,
     "metadata": {},
     "output_type": "execute_result"
    }
   ],
   "source": [
    "clf1.fit(train_dataset[0][[\"X\"]], train_dataset[0][[\"y\"]])"
   ]
  },
  {
   "cell_type": "code",
   "execution_count": 18,
   "metadata": {
    "scrolled": true
   },
   "outputs": [],
   "source": [
    "predict = clf1.predict(test[[\"X\"]])"
   ]
  },
  {
   "cell_type": "code",
   "execution_count": 19,
   "metadata": {},
   "outputs": [
    {
     "data": {
      "text/plain": [
       "0.8379216315589443"
      ]
     },
     "execution_count": 19,
     "metadata": {},
     "output_type": "execute_result"
    }
   ],
   "source": [
    "clf1.score(test[[\"X\"]],test[[\"y\"]])"
   ]
  },
  {
   "cell_type": "code",
   "execution_count": 20,
   "metadata": {},
   "outputs": [
    {
     "data": {
      "image/png": "[encoded data removed]",
      "text/plain": [
       "<Figure size 432x288 with 1 Axes>"
      ]
     },
     "metadata": {
      "needs_background": "light"
     },
     "output_type": "display_data"
    }
   ],
   "source": [
    "plt.title('Model 1, degree 1')\n",
    "plt.xlabel('X')\n",
    "plt.ylabel('y')\n",
    "plt.scatter(test[[\"X\"]], test[[\"y\"]], label='Test Data')\n",
    "plt.scatter(test[[\"X\"]], predict, c='#a3cfa3', label='Linear regression line')\n",
    "plt.legend(loc=\"upper left\")\n",
    "plt.show()"
   ]
  },
  {
   "cell_type": "code",
   "execution_count": 21,
   "metadata": {},
   "outputs": [
    {
     "data": {
      "text/plain": [
       "283.75851445861144"
      ]
     },
     "execution_count": 21,
     "metadata": {},
     "output_type": "execute_result"
    }
   ],
   "source": [
    "bias = (predict - test[[\"y\"]]).y.mean(axis=0)\n",
    "bias"
   ]
  },
  {
   "cell_type": "code",
   "execution_count": 22,
   "metadata": {},
   "outputs": [
    {
     "data": {
      "text/plain": [
       "4408628.75292792"
      ]
     },
     "execution_count": 22,
     "metadata": {},
     "output_type": "execute_result"
    }
   ],
   "source": [
    "# var = np.mean((np.square(predict))) - np.square(np.mean(predict))\n",
    "# var = np.mean(np.square(predict - np.mean(predict)))\n",
    "var = np.var(predict)\n",
    "var"
   ]
  },
  {
   "cell_type": "code",
   "execution_count": 23,
   "metadata": {},
   "outputs": [
    {
     "name": "stdout",
     "output_type": "stream",
     "text": [
      "[283.75851445861144]\n",
      "[4408628.75292792]\n"
     ]
    }
   ],
   "source": [
    "degree1bias.append(bias)\n",
    "print(degree1bias)\n",
    "degree1variance.append(var)\n",
    "print(degree1variance)"
   ]
  },
  {
   "cell_type": "markdown",
   "metadata": {},
   "source": [
    "### Model 2"
   ]
  },
  {
   "cell_type": "code",
   "execution_count": 24,
   "metadata": {},
   "outputs": [],
   "source": [
    "clf2 = LinearRegression()"
   ]
  },
  {
   "cell_type": "code",
   "execution_count": 25,
   "metadata": {},
   "outputs": [
    {
     "data": {
      "text/plain": [
       "LinearRegression()"
      ]
     },
     "execution_count": 25,
     "metadata": {},
     "output_type": "execute_result"
    }
   ],
   "source": [
    "clf2.fit(train_dataset[1][[\"X\"]], train_dataset[1][[\"y\"]])"
   ]
  },
  {
   "cell_type": "code",
   "execution_count": 26,
   "metadata": {
    "scrolled": true
   },
   "outputs": [],
   "source": [
    "predict = clf2.predict(test[[\"X\"]])"
   ]
  },
  {
   "cell_type": "code",
   "execution_count": 27,
   "metadata": {},
   "outputs": [
    {
     "data": {
      "text/plain": [
       "0.8602338315816415"
      ]
     },
     "execution_count": 27,
     "metadata": {},
     "output_type": "execute_result"
    }
   ],
   "source": [
    "clf2.score(test[[\"X\"]],test[[\"y\"]])"
   ]
  },
  {
   "cell_type": "code",
   "execution_count": 28,
   "metadata": {},
   "outputs": [
    {
     "data": {
      "image/png": "[encoded data removed]",
      "text/plain": [
       "<Figure size 432x288 with 1 Axes>"
      ]
     },
     "metadata": {
      "needs_background": "light"
     },
     "output_type": "display_data"
    }
   ],
   "source": [
    "plt.title('Model 2, degree 1')\n",
    "plt.xlabel('X')\n",
    "plt.ylabel('y')\n",
    "plt.scatter(test[[\"X\"]], test[[\"y\"]], label='Test Data')\n",
    "plt.scatter(test[[\"X\"]], predict, c='#a3cfa3', label='Linear regression line')\n",
    "plt.legend(loc=\"upper left\")\n",
    "plt.show()"
   ]
  },
  {
   "cell_type": "code",
   "execution_count": 29,
   "metadata": {},
   "outputs": [
    {
     "name": "stdout",
     "output_type": "stream",
     "text": [
      "[283.75851445861144, 116.77981031374584]\n",
      "[4408628.75292792, 5949604.795132678]\n"
     ]
    }
   ],
   "source": [
    "degree1bias.append((predict - test[[\"y\"]]).y.mean(axis=0))\n",
    "print(degree1bias)\n",
    "degree1variance.append(np.mean((np.square(predict))) - np.square(np.mean(predict)))\n",
    "print(degree1variance)"
   ]
  },
  {
   "cell_type": "markdown",
   "metadata": {},
   "source": [
    "### Model 3"
   ]
  },
  {
   "cell_type": "code",
   "execution_count": 30,
   "metadata": {},
   "outputs": [],
   "source": [
    "clf3 = LinearRegression()"
   ]
  },
  {
   "cell_type": "code",
   "execution_count": 31,
   "metadata": {},
   "outputs": [
    {
     "data": {
      "text/plain": [
       "LinearRegression()"
      ]
     },
     "execution_count": 31,
     "metadata": {},
     "output_type": "execute_result"
    }
   ],
   "source": [
    "clf3.fit(train_dataset[2][[\"X\"]], train_dataset[2][[\"y\"]])"
   ]
  },
  {
   "cell_type": "code",
   "execution_count": 32,
   "metadata": {
    "scrolled": true
   },
   "outputs": [],
   "source": [
    "predict = clf3.predict(test[[\"X\"]])"
   ]
  },
  {
   "cell_type": "code",
   "execution_count": 33,
   "metadata": {},
   "outputs": [
    {
     "data": {
      "text/plain": [
       "0.839507916681895"
      ]
     },
     "execution_count": 33,
     "metadata": {},
     "output_type": "execute_result"
    }
   ],
   "source": [
    "clf3.score(test[[\"X\"]],test[[\"y\"]])"
   ]
  },
  {
   "cell_type": "code",
   "execution_count": 34,
   "metadata": {},
   "outputs": [
    {
     "data": {
      "image/png": "[encoded data removed]",
      "text/plain": [
       "<Figure size 432x288 with 1 Axes>"
      ]
     },
     "metadata": {
      "needs_background": "light"
     },
     "output_type": "display_data"
    }
   ],
   "source": [
    "plt.title('Model 3, degree 1')\n",
    "plt.xlabel('X')\n",
    "plt.ylabel('y')\n",
    "plt.scatter(test[[\"X\"]], test[[\"y\"]], label='Test Data')\n",
    "plt.scatter(test[[\"X\"]], predict, c='#a3cfa3', label='Linear regression line')\n",
    "plt.legend(loc=\"upper left\")\n",
    "plt.show()"
   ]
  },
  {
   "cell_type": "code",
   "execution_count": 35,
   "metadata": {},
   "outputs": [
    {
     "name": "stdout",
     "output_type": "stream",
     "text": [
      "[283.75851445861144, 116.77981031374584, 381.3515225353087]\n",
      "[4408628.75292792, 5949604.795132678, 5288474.208324394]\n"
     ]
    }
   ],
   "source": [
    "degree1bias.append((predict - test[[\"y\"]]).y.mean(axis=0))\n",
    "print(degree1bias)\n",
    "degree1variance.append(np.mean((np.square(predict))) - np.square(np.mean(predict)))\n",
    "print(degree1variance)"
   ]
  },
  {
   "cell_type": "markdown",
   "metadata": {},
   "source": [
    "### Model 4"
   ]
  },
  {
   "cell_type": "code",
   "execution_count": 36,
   "metadata": {},
   "outputs": [],
   "source": [
    "clf4 = LinearRegression()"
   ]
  },
  {
   "cell_type": "code",
   "execution_count": 37,
   "metadata": {},
   "outputs": [
    {
     "data": {
      "text/plain": [
       "LinearRegression()"
      ]
     },
     "execution_count": 37,
     "metadata": {},
     "output_type": "execute_result"
    }
   ],
   "source": [
    "clf4.fit(train_dataset[3][[\"X\"]], train_dataset[3][[\"y\"]])"
   ]
  },
  {
   "cell_type": "code",
   "execution_count": 38,
   "metadata": {
    "scrolled": true
   },
   "outputs": [],
   "source": [
    "predict = clf4.predict(test[[\"X\"]])"
   ]
  },
  {
   "cell_type": "code",
   "execution_count": 39,
   "metadata": {},
   "outputs": [
    {
     "data": {
      "text/plain": [
       "0.8470765739385476"
      ]
     },
     "execution_count": 39,
     "metadata": {},
     "output_type": "execute_result"
    }
   ],
   "source": [
    "clf4.score(test[[\"X\"]],test[[\"y\"]])"
   ]
  },
  {
   "cell_type": "code",
   "execution_count": 40,
   "metadata": {},
   "outputs": [
    {
     "data": {
      "image/png": "[encoded data removed]",
      "text/plain": [
       "<Figure size 432x288 with 1 Axes>"
      ]
     },
     "metadata": {
      "needs_background": "light"
     },
     "output_type": "display_data"
    }
   ],
   "source": [
    "plt.title('Model 4, degree 1')\n",
    "plt.xlabel('X')\n",
    "plt.ylabel('y')\n",
    "plt.scatter(test[[\"X\"]], test[[\"y\"]], label='Test Data')\n",
    "plt.scatter(test[[\"X\"]], predict, c='#a3cfa3', label='Linear regression line')\n",
    "plt.legend(loc=\"upper left\")\n",
    "plt.show()"
   ]
  },
  {
   "cell_type": "code",
   "execution_count": 41,
   "metadata": {},
   "outputs": [
    {
     "name": "stdout",
     "output_type": "stream",
     "text": [
      "[283.75851445861144, 116.77981031374584, 381.3515225353087, 158.2903777045616]\n",
      "[4408628.75292792, 5949604.795132678, 5288474.208324394, 4446122.727622731]\n"
     ]
    }
   ],
   "source": [
    "degree1bias.append((predict - test[[\"y\"]]).y.mean(axis=0))\n",
    "print(degree1bias)\n",
    "degree1variance.append(np.mean((np.square(predict))) - np.square(np.mean(predict)))\n",
    "print(degree1variance)"
   ]
  },
  {
   "cell_type": "markdown",
   "metadata": {},
   "source": [
    "### Model 5"
   ]
  },
  {
   "cell_type": "code",
   "execution_count": 42,
   "metadata": {},
   "outputs": [],
   "source": [
    "clf5 = LinearRegression()"
   ]
  },
  {
   "cell_type": "code",
   "execution_count": 43,
   "metadata": {},
   "outputs": [
    {
     "data": {
      "text/plain": [
       "LinearRegression()"
      ]
     },
     "execution_count": 43,
     "metadata": {},
     "output_type": "execute_result"
    }
   ],
   "source": [
    "clf5.fit(train_dataset[4][[\"X\"]], train_dataset[4][[\"y\"]])"
   ]
  },
  {
   "cell_type": "code",
   "execution_count": 44,
   "metadata": {
    "scrolled": true
   },
   "outputs": [],
   "source": [
    "predict = clf5.predict(test[[\"X\"]])"
   ]
  },
  {
   "cell_type": "code",
   "execution_count": 45,
   "metadata": {},
   "outputs": [
    {
     "data": {
      "text/plain": [
       "0.8414397122975019"
      ]
     },
     "execution_count": 45,
     "metadata": {},
     "output_type": "execute_result"
    }
   ],
   "source": [
    "clf5.score(test[[\"X\"]],test[[\"y\"]])"
   ]
  },
  {
   "cell_type": "code",
   "execution_count": 46,
   "metadata": {},
   "outputs": [
    {
     "data": {
      "image/png": "[encoded data removed]",
      "text/plain": [
       "<Figure size 432x288 with 1 Axes>"
      ]
     },
     "metadata": {
      "needs_background": "light"
     },
     "output_type": "display_data"
    }
   ],
   "source": [
    "plt.title('Model 5, degree 1')\n",
    "plt.xlabel('X')\n",
    "plt.ylabel('y')\n",
    "plt.scatter(test[[\"X\"]], test[[\"y\"]], label='Test Data')\n",
    "plt.scatter(test[[\"X\"]], predict, c='#a3cfa3', label='Linear regression line')\n",
    "plt.legend(loc=\"upper left\")\n",
    "plt.show()"
   ]
  },
  {
   "cell_type": "code",
   "execution_count": 47,
   "metadata": {},
   "outputs": [
    {
     "name": "stdout",
     "output_type": "stream",
     "text": [
      "[283.75851445861144, 116.77981031374584, 381.3515225353087, 158.2903777045616, 314.99376980884296]\n",
      "[4408628.75292792, 5949604.795132678, 5288474.208324394, 4446122.727622731, 4774318.05616947]\n"
     ]
    }
   ],
   "source": [
    "degree1bias.append((predict - test[[\"y\"]]).y.mean(axis=0))\n",
    "print(degree1bias)\n",
    "degree1variance.append(np.mean((np.square(predict))) - np.square(np.mean(predict)))\n",
    "print(degree1variance)"
   ]
  },
  {
   "cell_type": "markdown",
   "metadata": {},
   "source": [
    "### Model 6"
   ]
  },
  {
   "cell_type": "code",
   "execution_count": 48,
   "metadata": {},
   "outputs": [],
   "source": [
    "clf6 = LinearRegression()"
   ]
  },
  {
   "cell_type": "code",
   "execution_count": 49,
   "metadata": {},
   "outputs": [
    {
     "data": {
      "text/plain": [
       "LinearRegression()"
      ]
     },
     "execution_count": 49,
     "metadata": {},
     "output_type": "execute_result"
    }
   ],
   "source": [
    "clf6.fit(train_dataset[5][[\"X\"]], train_dataset[5][[\"y\"]])"
   ]
  },
  {
   "cell_type": "code",
   "execution_count": 50,
   "metadata": {
    "scrolled": true
   },
   "outputs": [],
   "source": [
    "predict = clf6.predict(test[[\"X\"]])"
   ]
  },
  {
   "cell_type": "code",
   "execution_count": 51,
   "metadata": {},
   "outputs": [
    {
     "data": {
      "text/plain": [
       "0.8324647986729733"
      ]
     },
     "execution_count": 51,
     "metadata": {},
     "output_type": "execute_result"
    }
   ],
   "source": [
    "clf6.score(test[[\"X\"]],test[[\"y\"]])"
   ]
  },
  {
   "cell_type": "code",
   "execution_count": 52,
   "metadata": {},
   "outputs": [
    {
     "data": {
      "image/png": "[encoded data removed]",
      "text/plain": [
       "<Figure size 432x288 with 1 Axes>"
      ]
     },
     "metadata": {
      "needs_background": "light"
     },
     "output_type": "display_data"
    }
   ],
   "source": [
    "plt.title('Model 6, degree 1')\n",
    "plt.xlabel('X')\n",
    "plt.ylabel('y')\n",
    "plt.scatter(test[[\"X\"]], test[[\"y\"]], label='Test Data')\n",
    "plt.scatter(test[[\"X\"]], predict, c='#a3cfa3', label='Linear regression line')\n",
    "plt.legend(loc=\"upper left\")\n",
    "plt.show()"
   ]
  },
  {
   "cell_type": "code",
   "execution_count": 53,
   "metadata": {},
   "outputs": [
    {
     "name": "stdout",
     "output_type": "stream",
     "text": [
      "[283.75851445861144, 116.77981031374584, 381.3515225353087, 158.2903777045616, 314.99376980884296, 244.6125415243577]\n",
      "[4408628.75292792, 5949604.795132678, 5288474.208324394, 4446122.727622731, 4774318.05616947, 4056267.9354747147]\n"
     ]
    }
   ],
   "source": [
    "degree1bias.append((predict - test[[\"y\"]]).y.mean(axis=0))\n",
    "print(degree1bias)\n",
    "degree1variance.append(np.mean((np.square(predict))) - np.square(np.mean(predict)))\n",
    "print(degree1variance)"
   ]
  },
  {
   "cell_type": "markdown",
   "metadata": {},
   "source": [
    "### Model 7"
   ]
  },
  {
   "cell_type": "code",
   "execution_count": 54,
   "metadata": {},
   "outputs": [],
   "source": [
    "clf7 = LinearRegression()"
   ]
  },
  {
   "cell_type": "code",
   "execution_count": 55,
   "metadata": {},
   "outputs": [
    {
     "data": {
      "text/plain": [
       "LinearRegression()"
      ]
     },
     "execution_count": 55,
     "metadata": {},
     "output_type": "execute_result"
    }
   ],
   "source": [
    "clf7.fit(train_dataset[6][[\"X\"]], train_dataset[6][[\"y\"]])"
   ]
  },
  {
   "cell_type": "code",
   "execution_count": 56,
   "metadata": {
    "scrolled": true
   },
   "outputs": [],
   "source": [
    "predict = clf7.predict(test[[\"X\"]])"
   ]
  },
  {
   "cell_type": "code",
   "execution_count": 57,
   "metadata": {},
   "outputs": [
    {
     "data": {
      "text/plain": [
       "0.8615281068917898"
      ]
     },
     "execution_count": 57,
     "metadata": {},
     "output_type": "execute_result"
    }
   ],
   "source": [
    "clf7.score(test[[\"X\"]],test[[\"y\"]])"
   ]
  },
  {
   "cell_type": "code",
   "execution_count": 58,
   "metadata": {},
   "outputs": [
    {
     "data": {
      "image/png": "[encoded data removed]",
      "text/plain": [
       "<Figure size 432x288 with 1 Axes>"
      ]
     },
     "metadata": {
      "needs_background": "light"
     },
     "output_type": "display_data"
    }
   ],
   "source": [
    "plt.title('Model 7, degree 1')\n",
    "plt.xlabel('X')\n",
    "plt.ylabel('y')\n",
    "plt.scatter(test[[\"X\"]], test[[\"y\"]], label='Test Data')\n",
    "plt.scatter(test[[\"X\"]], predict, c='#a3cfa3', label='Linear regression line')\n",
    "plt.legend(loc=\"upper left\")\n",
    "plt.show()"
   ]
  },
  {
   "cell_type": "code",
   "execution_count": 59,
   "metadata": {},
   "outputs": [
    {
     "name": "stdout",
     "output_type": "stream",
     "text": [
      "[283.75851445861144, 116.77981031374584, 381.3515225353087, 158.2903777045616, 314.99376980884296, 244.6125415243577, 51.67613383573723]\n",
      "[4408628.75292792, 5949604.795132678, 5288474.208324394, 4446122.727622731, 4774318.05616947, 4056267.9354747147, 5370194.678405515]\n"
     ]
    }
   ],
   "source": [
    "degree1bias.append((predict - test[[\"y\"]]).y.mean(axis=0))\n",
    "print(degree1bias)\n",
    "degree1variance.append(np.mean((np.square(predict))) - np.square(np.mean(predict)))\n",
    "print(degree1variance)"
   ]
  },
  {
   "cell_type": "markdown",
   "metadata": {},
   "source": [
    "### Model 8"
   ]
  },
  {
   "cell_type": "code",
   "execution_count": 60,
   "metadata": {},
   "outputs": [],
   "source": [
    "clf8 = LinearRegression()"
   ]
  },
  {
   "cell_type": "code",
   "execution_count": 61,
   "metadata": {},
   "outputs": [
    {
     "data": {
      "text/plain": [
       "LinearRegression()"
      ]
     },
     "execution_count": 61,
     "metadata": {},
     "output_type": "execute_result"
    }
   ],
   "source": [
    "clf8.fit(train_dataset[7][[\"X\"]], train_dataset[7][[\"y\"]])"
   ]
  },
  {
   "cell_type": "code",
   "execution_count": 62,
   "metadata": {
    "scrolled": true
   },
   "outputs": [],
   "source": [
    "predict = clf8.predict(test[[\"X\"]])"
   ]
  },
  {
   "cell_type": "code",
   "execution_count": 63,
   "metadata": {},
   "outputs": [
    {
     "data": {
      "text/plain": [
       "0.8535402339508228"
      ]
     },
     "execution_count": 63,
     "metadata": {},
     "output_type": "execute_result"
    }
   ],
   "source": [
    "clf8.score(test[[\"X\"]],test[[\"y\"]])"
   ]
  },
  {
   "cell_type": "code",
   "execution_count": 64,
   "metadata": {},
   "outputs": [
    {
     "data": {
      "image/png": "[encoded data removed]",
      "text/plain": [
       "<Figure size 432x288 with 1 Axes>"
      ]
     },
     "metadata": {
      "needs_background": "light"
     },
     "output_type": "display_data"
    }
   ],
   "source": [
    "plt.title('Model 8, degree 1')\n",
    "plt.xlabel('X')\n",
    "plt.ylabel('y')\n",
    "plt.scatter(test[[\"X\"]], test[[\"y\"]], label='Test Data')\n",
    "plt.scatter(test[[\"X\"]], predict, c='#a3cfa3', label='Linear regression line')\n",
    "plt.legend(loc=\"upper left\")\n",
    "plt.show()"
   ]
  },
  {
   "cell_type": "code",
   "execution_count": 65,
   "metadata": {},
   "outputs": [
    {
     "name": "stdout",
     "output_type": "stream",
     "text": [
      "[283.75851445861144, 116.77981031374584, 381.3515225353087, 158.2903777045616, 314.99376980884296, 244.6125415243577, 51.67613383573723, 172.32634609611162]\n",
      "[4408628.75292792, 5949604.795132678, 5288474.208324394, 4446122.727622731, 4774318.05616947, 4056267.9354747147, 5370194.678405515, 4895961.914468985]\n"
     ]
    }
   ],
   "source": [
    "degree1bias.append((predict - test[[\"y\"]]).y.mean(axis=0))\n",
    "print(degree1bias)\n",
    "degree1variance.append(np.mean((np.square(predict))) - np.square(np.mean(predict)))\n",
    "print(degree1variance)"
   ]
  },
  {
   "cell_type": "markdown",
   "metadata": {},
   "source": [
    "### Model 9"
   ]
  },
  {
   "cell_type": "code",
   "execution_count": 66,
   "metadata": {},
   "outputs": [],
   "source": [
    "clf9 = LinearRegression()"
   ]
  },
  {
   "cell_type": "code",
   "execution_count": 67,
   "metadata": {},
   "outputs": [
    {
     "data": {
      "text/plain": [
       "LinearRegression()"
      ]
     },
     "execution_count": 67,
     "metadata": {},
     "output_type": "execute_result"
    }
   ],
   "source": [
    "clf9.fit(train_dataset[8][[\"X\"]], train_dataset[8][[\"y\"]])"
   ]
  },
  {
   "cell_type": "code",
   "execution_count": 68,
   "metadata": {
    "scrolled": true
   },
   "outputs": [],
   "source": [
    "predict = clf9.predict(test[[\"X\"]])"
   ]
  },
  {
   "cell_type": "code",
   "execution_count": 69,
   "metadata": {},
   "outputs": [
    {
     "data": {
      "text/plain": [
       "0.832640342413919"
      ]
     },
     "execution_count": 69,
     "metadata": {},
     "output_type": "execute_result"
    }
   ],
   "source": [
    "clf9.score(test[[\"X\"]],test[[\"y\"]])"
   ]
  },
  {
   "cell_type": "code",
   "execution_count": 70,
   "metadata": {},
   "outputs": [
    {
     "data": {
      "image/png": "[encoded data removed]",
      "text/plain": [
       "<Figure size 432x288 with 1 Axes>"
      ]
     },
     "metadata": {
      "needs_background": "light"
     },
     "output_type": "display_data"
    }
   ],
   "source": [
    "plt.title('Model 9, degree 1')\n",
    "plt.xlabel('X')\n",
    "plt.ylabel('y')\n",
    "plt.scatter(test[[\"X\"]], test[[\"y\"]], label='Test Data')\n",
    "plt.scatter(test[[\"X\"]], predict, c='#a3cfa3', label='Linear regression line')\n",
    "plt.legend(loc=\"upper left\")\n",
    "plt.show()"
   ]
  },
  {
   "cell_type": "code",
   "execution_count": 71,
   "metadata": {},
   "outputs": [
    {
     "name": "stdout",
     "output_type": "stream",
     "text": [
      "[283.75851445861144, 116.77981031374584, 381.3515225353087, 158.2903777045616, 314.99376980884296, 244.6125415243577, 51.67613383573723, 172.32634609611162, 356.6769688774557]\n",
      "[4408628.75292792, 5949604.795132678, 5288474.208324394, 4446122.727622731, 4774318.05616947, 4056267.9354747147, 5370194.678405515, 4895961.914468985, 4498116.711822818]\n"
     ]
    }
   ],
   "source": [
    "degree1bias.append((predict - test[[\"y\"]]).y.mean(axis=0))\n",
    "print(degree1bias)\n",
    "degree1variance.append(np.mean((np.square(predict))) - np.square(np.mean(predict)))\n",
    "print(degree1variance)"
   ]
  },
  {
   "cell_type": "markdown",
   "metadata": {},
   "source": [
    "### Model 10"
   ]
  },
  {
   "cell_type": "code",
   "execution_count": 72,
   "metadata": {},
   "outputs": [],
   "source": [
    "clf10 = LinearRegression()"
   ]
  },
  {
   "cell_type": "code",
   "execution_count": 73,
   "metadata": {},
   "outputs": [
    {
     "data": {
      "text/plain": [
       "LinearRegression()"
      ]
     },
     "execution_count": 73,
     "metadata": {},
     "output_type": "execute_result"
    }
   ],
   "source": [
    "clf10.fit(train_dataset[9][[\"X\"]], train_dataset[9][[\"y\"]])"
   ]
  },
  {
   "cell_type": "code",
   "execution_count": 74,
   "metadata": {
    "scrolled": true
   },
   "outputs": [],
   "source": [
    "predict = clf10.predict(test[[\"X\"]])"
   ]
  },
  {
   "cell_type": "code",
   "execution_count": 75,
   "metadata": {},
   "outputs": [
    {
     "data": {
      "text/plain": [
       "0.839172979971915"
      ]
     },
     "execution_count": 75,
     "metadata": {},
     "output_type": "execute_result"
    }
   ],
   "source": [
    "clf10.score(test[[\"X\"]],test[[\"y\"]])"
   ]
  },
  {
   "cell_type": "code",
   "execution_count": 76,
   "metadata": {},
   "outputs": [
    {
     "data": {
      "image/png": "[encoded data removed]",
      "text/plain": [
       "<Figure size 432x288 with 1 Axes>"
      ]
     },
     "metadata": {
      "needs_background": "light"
     },
     "output_type": "display_data"
    }
   ],
   "source": [
    "plt.title('Model 10, degree 1')\n",
    "plt.xlabel('X')\n",
    "plt.ylabel('y')\n",
    "plt.scatter(test[[\"X\"]], test[[\"y\"]], label='Test Data')\n",
    "plt.scatter(test[[\"X\"]], predict, c='#a3cfa3', label='Linear regression line')\n",
    "plt.legend(loc=\"upper left\")\n",
    "plt.show()"
   ]
  },
  {
   "cell_type": "code",
   "execution_count": 77,
   "metadata": {},
   "outputs": [
    {
     "name": "stdout",
     "output_type": "stream",
     "text": [
      "[283.75851445861144, 116.77981031374584, 381.3515225353087, 158.2903777045616, 314.99376980884296, 244.6125415243577, 51.67613383573723, 172.32634609611162, 356.6769688774557, 221.9961327473652]\n",
      "[4408628.75292792, 5949604.795132678, 5288474.208324394, 4446122.727622731, 4774318.05616947, 4056267.9354747147, 5370194.678405515, 4895961.914468985, 4498116.711822818, 4253063.165787983]\n"
     ]
    }
   ],
   "source": [
    "degree1bias.append((predict - test[[\"y\"]]).y.mean(axis=0))\n",
    "print(degree1bias)\n",
    "degree1variance.append(np.mean((np.square(predict))) - np.square(np.mean(predict)))\n",
    "print(degree1variance)"
   ]
  },
  {
   "cell_type": "markdown",
   "metadata": {},
   "source": [
    "## Analysis"
   ]
  },
  {
   "cell_type": "code",
   "execution_count": 78,
   "metadata": {},
   "outputs": [
    {
     "name": "stdout",
     "output_type": "stream",
     "text": [
      "Mean variance for degree 1 function:  4794075.294613721\n",
      "Mean bias for degree 1 function:  230.24621179020977\n"
     ]
    }
   ],
   "source": [
    "mean_variance = np.mean(degree1variance)\n",
    "mean_bias = np.mean(degree1bias)\n",
    "print(\"Mean variance for degree 1 function: \", mean_variance)\n",
    "print(\"Mean bias for degree 1 function: \", mean_bias)"
   ]
  },
  {
   "cell_type": "markdown",
   "metadata": {},
   "source": [
    "## Polynomial Degree: 2"
   ]
  },
  {
   "cell_type": "code",
   "execution_count": 79,
   "metadata": {},
   "outputs": [],
   "source": [
    "from sklearn.preprocessing import PolynomialFeatures"
   ]
  },
  {
   "cell_type": "code",
   "execution_count": 80,
   "metadata": {},
   "outputs": [],
   "source": [
    "degree2bias = []\n",
    "degree2variance = []"
   ]
  },
  {
   "cell_type": "markdown",
   "metadata": {},
   "source": [
    "### Model 1"
   ]
  },
  {
   "cell_type": "code",
   "execution_count": 81,
   "metadata": {},
   "outputs": [
    {
     "data": {
      "text/plain": [
       "PolynomialFeatures()"
      ]
     },
     "execution_count": 81,
     "metadata": {},
     "output_type": "execute_result"
    }
   ],
   "source": [
    "poly2_1 = PolynomialFeatures(degree=2)\n",
    "x_poly2_1 = poly2_1.fit_transform(train_dataset[0][[\"X\"]])\n",
    "poly2_1.fit(train_dataset[0][[\"X\"]],train_dataset[0][[\"y\"]])"
   ]
  },
  {
   "cell_type": "code",
   "execution_count": 82,
   "metadata": {},
   "outputs": [
    {
     "data": {
      "text/plain": [
       "LinearRegression()"
      ]
     },
     "execution_count": 82,
     "metadata": {},
     "output_type": "execute_result"
    }
   ],
   "source": [
    "clf2_1=LinearRegression()\n",
    "clf2_1.fit(x_poly2_1,train_dataset[0][[\"y\"]])"
   ]
  },
  {
   "cell_type": "code",
   "execution_count": 83,
   "metadata": {
    "scrolled": true
   },
   "outputs": [],
   "source": [
    "predict=clf2_1.predict(poly2_1.fit_transform(test[[\"X\"]]))"
   ]
  },
  {
   "cell_type": "code",
   "execution_count": 84,
   "metadata": {},
   "outputs": [
    {
     "data": {
      "text/plain": [
       "0.852315055743856"
      ]
     },
     "execution_count": 84,
     "metadata": {},
     "output_type": "execute_result"
    }
   ],
   "source": [
    "clf2_1.score(poly2_1.fit_transform(test[[\"X\"]]),test[[\"y\"]])"
   ]
  },
  {
   "cell_type": "code",
   "execution_count": 85,
   "metadata": {},
   "outputs": [
    {
     "data": {
      "image/png": "[encoded data removed]",
      "text/plain": [
       "<Figure size 432x288 with 1 Axes>"
      ]
     },
     "metadata": {
      "needs_background": "light"
     },
     "output_type": "display_data"
    }
   ],
   "source": [
    "plt.title('Model 1, degree 2')\n",
    "plt.xlabel('X')\n",
    "plt.ylabel('y')\n",
    "plt.scatter(test[[\"X\"]], test[[\"y\"]], label='Test Data')\n",
    "plt.scatter(test[[\"X\"]], predict, c='#a3cfa3', label='Polynomial regression curve')\n",
    "plt.legend(loc=\"upper left\")\n",
    "plt.show()"
   ]
  },
  {
   "cell_type": "code",
   "execution_count": 86,
   "metadata": {},
   "outputs": [
    {
     "name": "stdout",
     "output_type": "stream",
     "text": [
      "[266.79049662056036]\n",
      "[4683606.656506397]\n"
     ]
    }
   ],
   "source": [
    "degree2bias.append((predict - test[[\"y\"]]).y.mean(axis=0))\n",
    "print(degree2bias)\n",
    "degree2variance.append(np.var(predict))\n",
    "print(degree2variance)"
   ]
  },
  {
   "cell_type": "markdown",
   "metadata": {},
   "source": [
    "### Model 2"
   ]
  },
  {
   "cell_type": "code",
   "execution_count": 87,
   "metadata": {},
   "outputs": [
    {
     "data": {
      "text/plain": [
       "PolynomialFeatures()"
      ]
     },
     "execution_count": 87,
     "metadata": {},
     "output_type": "execute_result"
    }
   ],
   "source": [
    "poly2_2 = PolynomialFeatures(degree=2)\n",
    "x_poly2_2 = poly2_2.fit_transform(train_dataset[1][[\"X\"]])\n",
    "poly2_2.fit(train_dataset[1][[\"X\"]],train_dataset[1][[\"y\"]])"
   ]
  },
  {
   "cell_type": "code",
   "execution_count": 88,
   "metadata": {},
   "outputs": [
    {
     "data": {
      "text/plain": [
       "LinearRegression()"
      ]
     },
     "execution_count": 88,
     "metadata": {},
     "output_type": "execute_result"
    }
   ],
   "source": [
    "clf2_2=LinearRegression()\n",
    "clf2_2.fit(x_poly2_2,train_dataset[1][[\"y\"]])"
   ]
  },
  {
   "cell_type": "code",
   "execution_count": 89,
   "metadata": {},
   "outputs": [],
   "source": [
    "predict=clf2_2.predict(poly2_2.fit_transform(test[[\"X\"]]))"
   ]
  },
  {
   "cell_type": "code",
   "execution_count": 90,
   "metadata": {},
   "outputs": [
    {
     "data": {
      "text/plain": [
       "0.8673724384333316"
      ]
     },
     "execution_count": 90,
     "metadata": {},
     "output_type": "execute_result"
    }
   ],
   "source": [
    "clf2_2.score(poly2_2.fit_transform(test[[\"X\"]]),test[[\"y\"]])"
   ]
  },
  {
   "cell_type": "code",
   "execution_count": 91,
   "metadata": {},
   "outputs": [
    {
     "data": {
      "image/png": "[encoded data removed]",
      "text/plain": [
       "<Figure size 432x288 with 1 Axes>"
      ]
     },
     "metadata": {
      "needs_background": "light"
     },
     "output_type": "display_data"
    }
   ],
   "source": [
    "plt.title('Model 2, degree 2')\n",
    "plt.xlabel('X')\n",
    "plt.ylabel('y')\n",
    "plt.scatter(test[[\"X\"]], test[[\"y\"]], label='Test Data')\n",
    "plt.scatter(test[[\"X\"]], predict, c='#a3cfa3', label='Polynomial regression curve')\n",
    "plt.legend(loc=\"upper left\")\n",
    "plt.show()"
   ]
  },
  {
   "cell_type": "code",
   "execution_count": 92,
   "metadata": {},
   "outputs": [
    {
     "name": "stdout",
     "output_type": "stream",
     "text": [
      "[266.79049662056036, 113.52433632051557]\n",
      "[4683606.656506397, 6172552.36903442]\n"
     ]
    }
   ],
   "source": [
    "degree2bias.append((predict - test[[\"y\"]]).y.mean(axis=0))\n",
    "print(degree2bias)\n",
    "degree2variance.append(np.var(predict))\n",
    "print(degree2variance)"
   ]
  },
  {
   "cell_type": "markdown",
   "metadata": {},
   "source": [
    "### Model 3"
   ]
  },
  {
   "cell_type": "code",
   "execution_count": 93,
   "metadata": {},
   "outputs": [
    {
     "data": {
      "text/plain": [
       "PolynomialFeatures()"
      ]
     },
     "execution_count": 93,
     "metadata": {},
     "output_type": "execute_result"
    }
   ],
   "source": [
    "poly2_3 = PolynomialFeatures(degree=2)\n",
    "x_poly2_3 = poly2_3.fit_transform(train_dataset[2][[\"X\"]])\n",
    "poly2_3.fit(train_dataset[2][[\"X\"]],train_dataset[2][[\"y\"]])"
   ]
  },
  {
   "cell_type": "code",
   "execution_count": 94,
   "metadata": {},
   "outputs": [
    {
     "data": {
      "text/plain": [
       "LinearRegression()"
      ]
     },
     "execution_count": 94,
     "metadata": {},
     "output_type": "execute_result"
    }
   ],
   "source": [
    "clf2_3=LinearRegression()\n",
    "clf2_3.fit(x_poly2_3,train_dataset[2][[\"y\"]])"
   ]
  },
  {
   "cell_type": "code",
   "execution_count": 95,
   "metadata": {},
   "outputs": [],
   "source": [
    "predict=clf2_3.predict(poly2_3.fit_transform(test[[\"X\"]]))"
   ]
  },
  {
   "cell_type": "code",
   "execution_count": 96,
   "metadata": {},
   "outputs": [
    {
     "data": {
      "text/plain": [
       "0.8259125736419142"
      ]
     },
     "execution_count": 96,
     "metadata": {},
     "output_type": "execute_result"
    }
   ],
   "source": [
    "clf2_3.score(poly2_3.fit_transform(test[[\"X\"]]),test[[\"y\"]])"
   ]
  },
  {
   "cell_type": "code",
   "execution_count": 97,
   "metadata": {},
   "outputs": [
    {
     "data": {
      "image/png": "[encoded data removed]",
      "text/plain": [
       "<Figure size 432x288 with 1 Axes>"
      ]
     },
     "metadata": {
      "needs_background": "light"
     },
     "output_type": "display_data"
    }
   ],
   "source": [
    "plt.title('Model 3, degree 2')\n",
    "plt.xlabel('X')\n",
    "plt.ylabel('y')\n",
    "plt.scatter(test[[\"X\"]], test[[\"y\"]], label='Test Data')\n",
    "plt.scatter(test[[\"X\"]], predict, c='#a3cfa3', label='Polynomial regression curve')\n",
    "plt.legend(loc=\"upper left\")\n",
    "plt.show()"
   ]
  },
  {
   "cell_type": "code",
   "execution_count": 98,
   "metadata": {},
   "outputs": [
    {
     "name": "stdout",
     "output_type": "stream",
     "text": [
      "[266.79049662056036, 113.52433632051557, 390.61411472597763]\n",
      "[4683606.656506397, 6172552.36903442, 5126648.919952233]\n"
     ]
    }
   ],
   "source": [
    "degree2bias.append((predict - test[[\"y\"]]).y.mean(axis=0))\n",
    "print(degree2bias)\n",
    "degree2variance.append(np.var(predict))\n",
    "print(degree2variance)"
   ]
  },
  {
   "cell_type": "markdown",
   "metadata": {},
   "source": [
    "### Model 4"
   ]
  },
  {
   "cell_type": "code",
   "execution_count": 99,
   "metadata": {},
   "outputs": [
    {
     "data": {
      "text/plain": [
       "PolynomialFeatures()"
      ]
     },
     "execution_count": 99,
     "metadata": {},
     "output_type": "execute_result"
    }
   ],
   "source": [
    "poly2_4 = PolynomialFeatures(degree=2)\n",
    "x_poly2_4 = poly2_4.fit_transform(train_dataset[3][[\"X\"]])\n",
    "poly2_4.fit(train_dataset[3][[\"X\"]],train_dataset[3][[\"y\"]])"
   ]
  },
  {
   "cell_type": "code",
   "execution_count": 100,
   "metadata": {},
   "outputs": [
    {
     "data": {
      "text/plain": [
       "LinearRegression()"
      ]
     },
     "execution_count": 100,
     "metadata": {},
     "output_type": "execute_result"
    }
   ],
   "source": [
    "clf2_4=LinearRegression()\n",
    "clf2_4.fit(x_poly2_4,train_dataset[3][[\"y\"]])"
   ]
  },
  {
   "cell_type": "code",
   "execution_count": 101,
   "metadata": {},
   "outputs": [],
   "source": [
    "predict=clf2_4.predict(poly2_4.fit_transform(test[[\"X\"]]))"
   ]
  },
  {
   "cell_type": "code",
   "execution_count": 102,
   "metadata": {},
   "outputs": [
    {
     "data": {
      "text/plain": [
       "0.855134631338777"
      ]
     },
     "execution_count": 102,
     "metadata": {},
     "output_type": "execute_result"
    }
   ],
   "source": [
    "clf2_4.score(poly2_4.fit_transform(test[[\"X\"]]),test[[\"y\"]])"
   ]
  },
  {
   "cell_type": "code",
   "execution_count": 103,
   "metadata": {},
   "outputs": [
    {
     "data": {
      "image/png": "[encoded data removed]",
      "text/plain": [
       "<Figure size 432x288 with 1 Axes>"
      ]
     },
     "metadata": {
      "needs_background": "light"
     },
     "output_type": "display_data"
    }
   ],
   "source": [
    "plt.title('Model 4, degree 2')\n",
    "plt.xlabel('X')\n",
    "plt.ylabel('y')\n",
    "plt.scatter(test[[\"X\"]], test[[\"y\"]], label='Test Data')\n",
    "plt.scatter(test[[\"X\"]], predict, c='#a3cfa3', label='Polynomial regression curve')\n",
    "plt.legend(loc=\"upper left\")\n",
    "plt.show()"
   ]
  },
  {
   "cell_type": "code",
   "execution_count": 104,
   "metadata": {},
   "outputs": [
    {
     "name": "stdout",
     "output_type": "stream",
     "text": [
      "[266.79049662056036, 113.52433632051557, 390.61411472597763, 159.99046841914839]\n",
      "[4683606.656506397, 6172552.36903442, 5126648.919952233, 4565869.719876951]\n"
     ]
    }
   ],
   "source": [
    "degree2bias.append((predict - test[[\"y\"]]).y.mean(axis=0))\n",
    "print(degree2bias)\n",
    "degree2variance.append(np.var(predict))\n",
    "print(degree2variance)"
   ]
  },
  {
   "cell_type": "markdown",
   "metadata": {},
   "source": [
    "### Model 5"
   ]
  },
  {
   "cell_type": "code",
   "execution_count": 105,
   "metadata": {},
   "outputs": [
    {
     "data": {
      "text/plain": [
       "PolynomialFeatures()"
      ]
     },
     "execution_count": 105,
     "metadata": {},
     "output_type": "execute_result"
    }
   ],
   "source": [
    "poly2_5 = PolynomialFeatures(degree=2)\n",
    "x_poly2_5 = poly2_5.fit_transform(train_dataset[4][[\"X\"]])\n",
    "poly2_5.fit(train_dataset[4][[\"X\"]],train_dataset[4][[\"y\"]])"
   ]
  },
  {
   "cell_type": "code",
   "execution_count": 106,
   "metadata": {},
   "outputs": [
    {
     "data": {
      "text/plain": [
       "LinearRegression()"
      ]
     },
     "execution_count": 106,
     "metadata": {},
     "output_type": "execute_result"
    }
   ],
   "source": [
    "clf2_5=LinearRegression()\n",
    "clf2_5.fit(x_poly2_5,train_dataset[4][[\"y\"]])"
   ]
  },
  {
   "cell_type": "code",
   "execution_count": 107,
   "metadata": {},
   "outputs": [],
   "source": [
    "predict=clf2_5.predict(poly2_5.fit_transform(test[[\"X\"]]))"
   ]
  },
  {
   "cell_type": "code",
   "execution_count": 108,
   "metadata": {},
   "outputs": [
    {
     "data": {
      "text/plain": [
       "0.848056104017214"
      ]
     },
     "execution_count": 108,
     "metadata": {},
     "output_type": "execute_result"
    }
   ],
   "source": [
    "clf2_5.score(poly2_5.fit_transform(test[[\"X\"]]),test[[\"y\"]])"
   ]
  },
  {
   "cell_type": "code",
   "execution_count": 109,
   "metadata": {},
   "outputs": [
    {
     "data": {
      "image/png": "[encoded data removed]",
      "text/plain": [
       "<Figure size 432x288 with 1 Axes>"
      ]
     },
     "metadata": {
      "needs_background": "light"
     },
     "output_type": "display_data"
    }
   ],
   "source": [
    "plt.title('Model 5, degree 2')\n",
    "plt.xlabel('X')\n",
    "plt.ylabel('y')\n",
    "plt.scatter(test[[\"X\"]], test[[\"y\"]], label='Test Data')\n",
    "plt.scatter(test[[\"X\"]], predict, c='#a3cfa3', label='Polynomial regression curve')\n",
    "plt.legend(loc=\"upper left\")\n",
    "plt.show()"
   ]
  },
  {
   "cell_type": "code",
   "execution_count": 110,
   "metadata": {},
   "outputs": [
    {
     "name": "stdout",
     "output_type": "stream",
     "text": [
      "[266.79049662056036, 113.52433632051557, 390.61411472597763, 159.99046841914839, 308.2984444733343]\n",
      "[4683606.656506397, 6172552.36903442, 5126648.919952233, 4565869.719876951, 4871837.554750705]\n"
     ]
    }
   ],
   "source": [
    "degree2bias.append((predict - test[[\"y\"]]).y.mean(axis=0))\n",
    "print(degree2bias)\n",
    "degree2variance.append(np.var(predict))\n",
    "print(degree2variance)"
   ]
  },
  {
   "cell_type": "markdown",
   "metadata": {},
   "source": [
    "### Model 6"
   ]
  },
  {
   "cell_type": "code",
   "execution_count": 111,
   "metadata": {},
   "outputs": [
    {
     "data": {
      "text/plain": [
       "PolynomialFeatures()"
      ]
     },
     "execution_count": 111,
     "metadata": {},
     "output_type": "execute_result"
    }
   ],
   "source": [
    "poly2_6 = PolynomialFeatures(degree=2)\n",
    "x_poly2_6 = poly2_6.fit_transform(train_dataset[5][[\"X\"]])\n",
    "poly2_6.fit(train_dataset[5][[\"X\"]],train_dataset[5][[\"y\"]])"
   ]
  },
  {
   "cell_type": "code",
   "execution_count": 112,
   "metadata": {},
   "outputs": [
    {
     "data": {
      "text/plain": [
       "LinearRegression()"
      ]
     },
     "execution_count": 112,
     "metadata": {},
     "output_type": "execute_result"
    }
   ],
   "source": [
    "clf2_6=LinearRegression()\n",
    "clf2_6.fit(x_poly2_6,train_dataset[5][[\"y\"]])"
   ]
  },
  {
   "cell_type": "code",
   "execution_count": 113,
   "metadata": {},
   "outputs": [],
   "source": [
    "predict=clf2_6.predict(poly2_6.fit_transform(test[[\"X\"]]))"
   ]
  },
  {
   "cell_type": "code",
   "execution_count": 114,
   "metadata": {},
   "outputs": [
    {
     "data": {
      "text/plain": [
       "0.8466563664238802"
      ]
     },
     "execution_count": 114,
     "metadata": {},
     "output_type": "execute_result"
    }
   ],
   "source": [
    "clf2_6.score(poly2_6.fit_transform(test[[\"X\"]]),test[[\"y\"]])"
   ]
  },
  {
   "cell_type": "code",
   "execution_count": 115,
   "metadata": {},
   "outputs": [
    {
     "data": {
      "image/png": "[encoded data removed]",
      "text/plain": [
       "<Figure size 432x288 with 1 Axes>"
      ]
     },
     "metadata": {
      "needs_background": "light"
     },
     "output_type": "display_data"
    }
   ],
   "source": [
    "plt.title('Model 6, degree 2')\n",
    "plt.xlabel('X')\n",
    "plt.ylabel('y')\n",
    "plt.scatter(test[[\"X\"]], test[[\"y\"]], label='Test Data')\n",
    "plt.scatter(test[[\"X\"]], predict, c='#a3cfa3', label='Polynomial regression curve')\n",
    "plt.legend(loc=\"upper left\")\n",
    "plt.show()"
   ]
  },
  {
   "cell_type": "code",
   "execution_count": 116,
   "metadata": {},
   "outputs": [
    {
     "name": "stdout",
     "output_type": "stream",
     "text": [
      "[266.79049662056036, 113.52433632051557, 390.61411472597763, 159.99046841914839, 308.2984444733343, 232.75140447739824]\n",
      "[4683606.656506397, 6172552.36903442, 5126648.919952233, 4565869.719876951, 4871837.554750705, 4276169.689931037]\n"
     ]
    }
   ],
   "source": [
    "degree2bias.append((predict - test[[\"y\"]]).y.mean(axis=0))\n",
    "print(degree2bias)\n",
    "degree2variance.append(np.var(predict))\n",
    "print(degree2variance)"
   ]
  },
  {
   "cell_type": "markdown",
   "metadata": {},
   "source": [
    "### Model 7"
   ]
  },
  {
   "cell_type": "code",
   "execution_count": 117,
   "metadata": {},
   "outputs": [
    {
     "data": {
      "text/plain": [
       "PolynomialFeatures()"
      ]
     },
     "execution_count": 117,
     "metadata": {},
     "output_type": "execute_result"
    }
   ],
   "source": [
    "poly2_7 = PolynomialFeatures(degree=2)\n",
    "x_poly2_7 = poly2_7.fit_transform(train_dataset[6][[\"X\"]])\n",
    "poly2_7.fit(train_dataset[6][[\"X\"]],train_dataset[6][[\"y\"]])"
   ]
  },
  {
   "cell_type": "code",
   "execution_count": 118,
   "metadata": {},
   "outputs": [
    {
     "data": {
      "text/plain": [
       "LinearRegression()"
      ]
     },
     "execution_count": 118,
     "metadata": {},
     "output_type": "execute_result"
    }
   ],
   "source": [
    "clf2_7=LinearRegression()\n",
    "clf2_7.fit(x_poly2_7,train_dataset[6][[\"y\"]])"
   ]
  },
  {
   "cell_type": "code",
   "execution_count": 119,
   "metadata": {},
   "outputs": [],
   "source": [
    "predict=clf2_7.predict(poly2_7.fit_transform(test[[\"X\"]]))"
   ]
  },
  {
   "cell_type": "code",
   "execution_count": 120,
   "metadata": {},
   "outputs": [
    {
     "data": {
      "text/plain": [
       "0.863915518523806"
      ]
     },
     "execution_count": 120,
     "metadata": {},
     "output_type": "execute_result"
    }
   ],
   "source": [
    "clf2_7.score(poly2_7.fit_transform(test[[\"X\"]]),test[[\"y\"]])"
   ]
  },
  {
   "cell_type": "code",
   "execution_count": 121,
   "metadata": {},
   "outputs": [
    {
     "data": {
      "image/png": "[encoded data removed]",
      "text/plain": [
       "<Figure size 432x288 with 1 Axes>"
      ]
     },
     "metadata": {
      "needs_background": "light"
     },
     "output_type": "display_data"
    }
   ],
   "source": [
    "plt.title('Model 7, degree 2')\n",
    "plt.xlabel('X')\n",
    "plt.ylabel('y')\n",
    "plt.scatter(test[[\"X\"]], test[[\"y\"]], label='Test Data')\n",
    "plt.scatter(test[[\"X\"]], predict, c='#a3cfa3', label='Polynomial regression curve')\n",
    "plt.legend(loc=\"upper left\")\n",
    "plt.show()"
   ]
  },
  {
   "cell_type": "code",
   "execution_count": 122,
   "metadata": {},
   "outputs": [
    {
     "name": "stdout",
     "output_type": "stream",
     "text": [
      "[266.79049662056036, 113.52433632051557, 390.61411472597763, 159.99046841914839, 308.2984444733343, 232.75140447739824, 49.71140141068238]\n",
      "[4683606.656506397, 6172552.36903442, 5126648.919952233, 4565869.719876951, 4871837.554750705, 4276169.689931037, 5413568.9174210075]\n"
     ]
    }
   ],
   "source": [
    "degree2bias.append((predict - test[[\"y\"]]).y.mean(axis=0))\n",
    "print(degree2bias)\n",
    "degree2variance.append(np.var(predict))\n",
    "print(degree2variance)"
   ]
  },
  {
   "cell_type": "markdown",
   "metadata": {},
   "source": [
    "### Model 8"
   ]
  },
  {
   "cell_type": "code",
   "execution_count": 123,
   "metadata": {},
   "outputs": [
    {
     "data": {
      "text/plain": [
       "PolynomialFeatures()"
      ]
     },
     "execution_count": 123,
     "metadata": {},
     "output_type": "execute_result"
    }
   ],
   "source": [
    "poly2_8 = PolynomialFeatures(degree=2)\n",
    "x_poly2_8 = poly2_8.fit_transform(train_dataset[7][[\"X\"]])\n",
    "poly2_8.fit(train_dataset[7][[\"X\"]],train_dataset[7][[\"y\"]])"
   ]
  },
  {
   "cell_type": "code",
   "execution_count": 124,
   "metadata": {},
   "outputs": [
    {
     "data": {
      "text/plain": [
       "LinearRegression()"
      ]
     },
     "execution_count": 124,
     "metadata": {},
     "output_type": "execute_result"
    }
   ],
   "source": [
    "clf2_8=LinearRegression()\n",
    "clf2_8.fit(x_poly2_8,train_dataset[7][[\"y\"]])"
   ]
  },
  {
   "cell_type": "code",
   "execution_count": 125,
   "metadata": {},
   "outputs": [],
   "source": [
    "predict=clf2_8.predict(poly2_8.fit_transform(test[[\"X\"]]))"
   ]
  },
  {
   "cell_type": "code",
   "execution_count": 126,
   "metadata": {},
   "outputs": [
    {
     "data": {
      "text/plain": [
       "0.8652593184340815"
      ]
     },
     "execution_count": 126,
     "metadata": {},
     "output_type": "execute_result"
    }
   ],
   "source": [
    "clf2_8.score(poly2_8.fit_transform(test[[\"X\"]]),test[[\"y\"]])"
   ]
  },
  {
   "cell_type": "code",
   "execution_count": 127,
   "metadata": {},
   "outputs": [
    {
     "data": {
      "image/png": "[encoded data removed]",
      "text/plain": [
       "<Figure size 432x288 with 1 Axes>"
      ]
     },
     "metadata": {
      "needs_background": "light"
     },
     "output_type": "display_data"
    }
   ],
   "source": [
    "plt.title('Model 8, degree 2')\n",
    "plt.xlabel('X')\n",
    "plt.ylabel('y')\n",
    "plt.scatter(test[[\"X\"]], test[[\"y\"]], label='Test Data')\n",
    "plt.scatter(test[[\"X\"]], predict, c='#a3cfa3', label='Polynomial regression curve')\n",
    "plt.legend(loc=\"upper left\")\n",
    "plt.show()"
   ]
  },
  {
   "cell_type": "code",
   "execution_count": 128,
   "metadata": {},
   "outputs": [
    {
     "name": "stdout",
     "output_type": "stream",
     "text": [
      "[266.79049662056036, 113.52433632051557, 390.61411472597763, 159.99046841914839, 308.2984444733343, 232.75140447739824, 49.71140141068238, 164.48105756111468]\n",
      "[4683606.656506397, 6172552.36903442, 5126648.919952233, 4565869.719876951, 4871837.554750705, 4276169.689931037, 5413568.9174210075, 5165483.4642709335]\n"
     ]
    }
   ],
   "source": [
    "degree2bias.append((predict - test[[\"y\"]]).y.mean(axis=0))\n",
    "print(degree2bias)\n",
    "degree2variance.append(np.var(predict))\n",
    "print(degree2variance)"
   ]
  },
  {
   "cell_type": "markdown",
   "metadata": {},
   "source": [
    "### Model 9"
   ]
  },
  {
   "cell_type": "code",
   "execution_count": 129,
   "metadata": {},
   "outputs": [
    {
     "data": {
      "text/plain": [
       "PolynomialFeatures()"
      ]
     },
     "execution_count": 129,
     "metadata": {},
     "output_type": "execute_result"
    }
   ],
   "source": [
    "poly2_9 = PolynomialFeatures(degree=2)\n",
    "x_poly2_9 = poly2_9.fit_transform(train_dataset[8][[\"X\"]])\n",
    "poly2_9.fit(train_dataset[8][[\"X\"]],train_dataset[8][[\"y\"]])"
   ]
  },
  {
   "cell_type": "code",
   "execution_count": 130,
   "metadata": {},
   "outputs": [
    {
     "data": {
      "text/plain": [
       "LinearRegression()"
      ]
     },
     "execution_count": 130,
     "metadata": {},
     "output_type": "execute_result"
    }
   ],
   "source": [
    "clf2_9=LinearRegression()\n",
    "clf2_9.fit(x_poly2_9,train_dataset[8][[\"y\"]])"
   ]
  },
  {
   "cell_type": "code",
   "execution_count": 131,
   "metadata": {},
   "outputs": [],
   "source": [
    "predict=clf2_9.predict(poly2_9.fit_transform(test[[\"X\"]]))"
   ]
  },
  {
   "cell_type": "code",
   "execution_count": 132,
   "metadata": {},
   "outputs": [
    {
     "data": {
      "text/plain": [
       "0.8236904894013094"
      ]
     },
     "execution_count": 132,
     "metadata": {},
     "output_type": "execute_result"
    }
   ],
   "source": [
    "clf2_9.score(poly2_9.fit_transform(test[[\"X\"]]),test[[\"y\"]])"
   ]
  },
  {
   "cell_type": "code",
   "execution_count": 133,
   "metadata": {},
   "outputs": [
    {
     "data": {
      "image/png": "[encoded data removed]",
      "text/plain": [
       "<Figure size 432x288 with 1 Axes>"
      ]
     },
     "metadata": {
      "needs_background": "light"
     },
     "output_type": "display_data"
    }
   ],
   "source": [
    "plt.title('Model 9, degree 2')\n",
    "plt.xlabel('X')\n",
    "plt.ylabel('y')\n",
    "plt.scatter(test[[\"X\"]], test[[\"y\"]], label='Test Data')\n",
    "plt.scatter(test[[\"X\"]], predict, c='#a3cfa3', label='Polynomial regression curve')\n",
    "plt.legend(loc=\"upper left\")\n",
    "plt.show()"
   ]
  },
  {
   "cell_type": "code",
   "execution_count": 134,
   "metadata": {},
   "outputs": [
    {
     "name": "stdout",
     "output_type": "stream",
     "text": [
      "[266.79049662056036, 113.52433632051557, 390.61411472597763, 159.99046841914839, 308.2984444733343, 232.75140447739824, 49.71140141068238, 164.48105756111468, 363.39905178666993]\n",
      "[4683606.656506397, 6172552.36903442, 5126648.919952233, 4565869.719876951, 4871837.554750705, 4276169.689931037, 5413568.9174210075, 5165483.4642709335, 4440156.498025022]\n"
     ]
    }
   ],
   "source": [
    "degree2bias.append((predict - test[[\"y\"]]).y.mean(axis=0))\n",
    "print(degree2bias)\n",
    "degree2variance.append(np.var(predict))\n",
    "print(degree2variance)"
   ]
  },
  {
   "cell_type": "markdown",
   "metadata": {},
   "source": [
    "### Model 10"
   ]
  },
  {
   "cell_type": "code",
   "execution_count": 135,
   "metadata": {},
   "outputs": [
    {
     "data": {
      "text/plain": [
       "PolynomialFeatures()"
      ]
     },
     "execution_count": 135,
     "metadata": {},
     "output_type": "execute_result"
    }
   ],
   "source": [
    "poly2_10 = PolynomialFeatures(degree=2)\n",
    "x_poly2_10 = poly2_10.fit_transform(train_dataset[9][[\"X\"]])\n",
    "poly2_10.fit(train_dataset[9][[\"X\"]],train_dataset[9][[\"y\"]])"
   ]
  },
  {
   "cell_type": "code",
   "execution_count": 136,
   "metadata": {},
   "outputs": [
    {
     "data": {
      "text/plain": [
       "LinearRegression()"
      ]
     },
     "execution_count": 136,
     "metadata": {},
     "output_type": "execute_result"
    }
   ],
   "source": [
    "clf2_10=LinearRegression()\n",
    "clf2_10.fit(x_poly2_10,train_dataset[9][[\"y\"]])"
   ]
  },
  {
   "cell_type": "code",
   "execution_count": 137,
   "metadata": {},
   "outputs": [],
   "source": [
    "predict=clf2_10.predict(poly2_10.fit_transform(test[[\"X\"]]))"
   ]
  },
  {
   "cell_type": "code",
   "execution_count": 138,
   "metadata": {},
   "outputs": [
    {
     "data": {
      "text/plain": [
       "0.8497608895395513"
      ]
     },
     "execution_count": 138,
     "metadata": {},
     "output_type": "execute_result"
    }
   ],
   "source": [
    "clf2_10.score(poly2_10.fit_transform(test[[\"X\"]]),test[[\"y\"]])"
   ]
  },
  {
   "cell_type": "code",
   "execution_count": 139,
   "metadata": {},
   "outputs": [
    {
     "data": {
      "image/png": "[encoded data removed]",
      "text/plain": [
       "<Figure size 432x288 with 1 Axes>"
      ]
     },
     "metadata": {
      "needs_background": "light"
     },
     "output_type": "display_data"
    }
   ],
   "source": [
    "plt.title('Model 10, degree 2')\n",
    "plt.xlabel('X')\n",
    "plt.ylabel('y')\n",
    "plt.scatter(test[[\"X\"]], test[[\"y\"]], label='Test Data')\n",
    "plt.scatter(test[[\"X\"]], predict, c='#a3cfa3', label='Polynomial regression curve')\n",
    "plt.legend(loc=\"upper left\")\n",
    "plt.show()"
   ]
  },
  {
   "cell_type": "code",
   "execution_count": 140,
   "metadata": {},
   "outputs": [
    {
     "name": "stdout",
     "output_type": "stream",
     "text": [
      "[266.79049662056036, 113.52433632051557, 390.61411472597763, 159.99046841914839, 308.2984444733343, 232.75140447739824, 49.71140141068238, 164.48105756111468, 363.39905178666993, 215.60431419466408]\n",
      "[4683606.656506397, 6172552.36903442, 5126648.919952233, 4565869.719876951, 4871837.554750705, 4276169.689931037, 5413568.9174210075, 5165483.4642709335, 4440156.498025022, 4395207.097609551]\n"
     ]
    }
   ],
   "source": [
    "degree2bias.append((predict - test[[\"y\"]]).y.mean(axis=0))\n",
    "print(degree2bias)\n",
    "degree2variance.append(np.var(predict))\n",
    "print(degree2variance)"
   ]
  },
  {
   "cell_type": "markdown",
   "metadata": {},
   "source": [
    "## Analysis"
   ]
  },
  {
   "cell_type": "code",
   "execution_count": 141,
   "metadata": {},
   "outputs": [
    {
     "name": "stdout",
     "output_type": "stream",
     "text": [
      "Mean variance for degree 2 function:  4911110.088737825\n",
      "Mean bias for degree 2 function:  226.5165089990066\n"
     ]
    }
   ],
   "source": [
    "mean_variance = np.mean(degree2variance)\n",
    "mean_bias = np.mean(degree2bias)\n",
    "print(\"Mean variance for degree 2 function: \", mean_variance)\n",
    "print(\"Mean bias for degree 2 function: \", mean_bias)"
   ]
  },
  {
   "cell_type": "markdown",
   "metadata": {},
   "source": [
    "## Polynomial Degree: 3"
   ]
  },
  {
   "cell_type": "code",
   "execution_count": 142,
   "metadata": {},
   "outputs": [],
   "source": [
    "def higherdegreemodel(d, dataset_X, dataset_y) :\n",
    "    poly = PolynomialFeatures(degree=d)\n",
    "    x_poly = poly.fit_transform(dataset_X)\n",
    "    poly.fit(dataset_X,dataset_y)\n",
    "    clf=LinearRegression()\n",
    "    clf.fit(x_poly,dataset_y)\n",
    "    predict=clf.predict(poly.fit_transform(test[[\"X\"]]))\n",
    "    print(\"Coefficient of determination (R**2): \", clf.score(poly.fit_transform(test[[\"X\"]]),test[[\"y\"]]))\n",
    "    return predict"
   ]
  },
  {
   "cell_type": "code",
   "execution_count": 143,
   "metadata": {},
   "outputs": [],
   "source": [
    "def plot(title, predict) :\n",
    "    plt.title(title)\n",
    "    plt.xlabel('X')\n",
    "    plt.ylabel('y')\n",
    "    plt.scatter(test[[\"X\"]], test[[\"y\"]], label='Test Data')\n",
    "    plt.scatter(test[[\"X\"]], predict, c='#a3cfa3', label='Polynomial regression curve')\n",
    "    plt.legend(loc=\"upper left\")\n",
    "    plt.show()"
   ]
  },
  {
   "cell_type": "code",
   "execution_count": 144,
   "metadata": {},
   "outputs": [],
   "source": [
    "degree3bias = []\n",
    "degree3variance = []"
   ]
  },
  {
   "cell_type": "markdown",
   "metadata": {},
   "source": [
    "### Model 1"
   ]
  },
  {
   "cell_type": "code",
   "execution_count": 145,
   "metadata": {},
   "outputs": [
    {
     "name": "stdout",
     "output_type": "stream",
     "text": [
      "Coefficient of determination (R**2):  0.9895332115801655\n"
     ]
    }
   ],
   "source": [
    "predict = higherdegreemodel(3, train_dataset[0][[\"X\"]], train_dataset[0][[\"y\"]])"
   ]
  },
  {
   "cell_type": "code",
   "execution_count": 146,
   "metadata": {},
   "outputs": [
    {
     "data": {
      "image/png": "[encoded data removed]",
      "text/plain": [
       "<Figure size 432x288 with 1 Axes>"
      ]
     },
     "metadata": {
      "needs_background": "light"
     },
     "output_type": "display_data"
    }
   ],
   "source": [
    "plot(\"Model 1, degree 3\", predict)"
   ]
  },
  {
   "cell_type": "code",
   "execution_count": 147,
   "metadata": {},
   "outputs": [
    {
     "name": "stdout",
     "output_type": "stream",
     "text": [
      "[50.97987551380545]\n",
      "[7193396.87318546]\n"
     ]
    }
   ],
   "source": [
    "degree3bias.append((predict - test[[\"y\"]]).y.mean(axis=0))\n",
    "print(degree3bias)\n",
    "degree3variance.append(np.var(predict))\n",
    "print(degree3variance)"
   ]
  },
  {
   "cell_type": "markdown",
   "metadata": {},
   "source": [
    "### Model 2"
   ]
  },
  {
   "cell_type": "code",
   "execution_count": 148,
   "metadata": {},
   "outputs": [
    {
     "name": "stdout",
     "output_type": "stream",
     "text": [
      "Coefficient of determination (R**2):  0.9773946844525322\n"
     ]
    }
   ],
   "source": [
    "predict = higherdegreemodel(3, train_dataset[1][[\"X\"]], train_dataset[1][[\"y\"]])"
   ]
  },
  {
   "cell_type": "code",
   "execution_count": 149,
   "metadata": {},
   "outputs": [
    {
     "data": {
      "image/png": "[encoded data removed]",
      "text/plain": [
       "<Figure size 432x288 with 1 Axes>"
      ]
     },
     "metadata": {
      "needs_background": "light"
     },
     "output_type": "display_data"
    }
   ],
   "source": [
    "plot(\"Model 2, degree 3\", predict)"
   ]
  },
  {
   "cell_type": "code",
   "execution_count": 150,
   "metadata": {},
   "outputs": [
    {
     "name": "stdout",
     "output_type": "stream",
     "text": [
      "[50.97987551380545, -142.7175500832991]\n",
      "[7193396.87318546, 8464176.300567916]\n"
     ]
    }
   ],
   "source": [
    "degree3bias.append((predict - test[[\"y\"]]).y.mean(axis=0))\n",
    "print(degree3bias)\n",
    "degree3variance.append(np.var(predict))\n",
    "print(degree3variance)"
   ]
  },
  {
   "cell_type": "markdown",
   "metadata": {},
   "source": [
    "### Model 3"
   ]
  },
  {
   "cell_type": "code",
   "execution_count": 151,
   "metadata": {},
   "outputs": [
    {
     "name": "stdout",
     "output_type": "stream",
     "text": [
      "Coefficient of determination (R**2):  0.9915239557606451\n"
     ]
    },
    {
     "data": {
      "image/png": "[encoded data removed]",
      "text/plain": [
       "<Figure size 432x288 with 1 Axes>"
      ]
     },
     "metadata": {
      "needs_background": "light"
     },
     "output_type": "display_data"
    },
    {
     "name": "stdout",
     "output_type": "stream",
     "text": [
      "[50.97987551380545, -142.7175500832991, 58.050719994847825]\n",
      "[7193396.87318546, 8464176.300567916, 7575864.882830414]\n"
     ]
    }
   ],
   "source": [
    "predict = higherdegreemodel(3, train_dataset[2][[\"X\"]], train_dataset[2][[\"y\"]])\n",
    "\n",
    "plot(\"Model 3, degree 3\", predict)\n",
    "\n",
    "degree3bias.append((predict - test[[\"y\"]]).y.mean(axis=0))\n",
    "print(degree3bias)\n",
    "degree3variance.append(np.var(predict))\n",
    "print(degree3variance)"
   ]
  },
  {
   "cell_type": "markdown",
   "metadata": {},
   "source": [
    "### Model 4"
   ]
  },
  {
   "cell_type": "code",
   "execution_count": 152,
   "metadata": {},
   "outputs": [
    {
     "name": "stdout",
     "output_type": "stream",
     "text": [
      "Coefficient of determination (R**2):  0.9849898774279838\n"
     ]
    },
    {
     "data": {
      "image/png": "[encoded data removed]",
      "text/plain": [
       "<Figure size 432x288 with 1 Axes>"
      ]
     },
     "metadata": {
      "needs_background": "light"
     },
     "output_type": "display_data"
    },
    {
     "name": "stdout",
     "output_type": "stream",
     "text": [
      "[50.97987551380545, -142.7175500832991, 58.050719994847825, 0.9234741020957852]\n",
      "[7193396.87318546, 8464176.300567916, 7575864.882830414, 5507536.711567693]\n"
     ]
    }
   ],
   "source": [
    "predict = higherdegreemodel(3, train_dataset[3][[\"X\"]], train_dataset[3][[\"y\"]])\n",
    "\n",
    "plot(\"Model 4, degree 3\", predict)\n",
    "\n",
    "degree3bias.append((predict - test[[\"y\"]]).y.mean(axis=0))\n",
    "print(degree3bias)\n",
    "degree3variance.append(np.var(predict))\n",
    "print(degree3variance)"
   ]
  },
  {
   "cell_type": "markdown",
   "metadata": {},
   "source": [
    "### Model 5"
   ]
  },
  {
   "cell_type": "code",
   "execution_count": 153,
   "metadata": {},
   "outputs": [
    {
     "name": "stdout",
     "output_type": "stream",
     "text": [
      "Coefficient of determination (R**2):  0.9963015052878403\n"
     ]
    },
    {
     "data": {
      "image/png": "[encoded data removed]",
      "text/plain": [
       "<Figure size 432x288 with 1 Axes>"
      ]
     },
     "metadata": {
      "needs_background": "light"
     },
     "output_type": "display_data"
    },
    {
     "name": "stdout",
     "output_type": "stream",
     "text": [
      "[50.97987551380545, -142.7175500832991, 58.050719994847825, 0.9234741020957852, 16.061943583981552]\n",
      "[7193396.87318546, 8464176.300567916, 7575864.882830414, 5507536.711567693, 7342891.387290786]\n"
     ]
    }
   ],
   "source": [
    "predict = higherdegreemodel(3, train_dataset[4][[\"X\"]], train_dataset[4][[\"y\"]])\n",
    "\n",
    "plot(\"Model 5, degree 3\", predict)\n",
    "\n",
    "degree3bias.append((predict - test[[\"y\"]]).y.mean(axis=0))\n",
    "print(degree3bias)\n",
    "degree3variance.append(np.var(predict))\n",
    "print(degree3variance)"
   ]
  },
  {
   "cell_type": "markdown",
   "metadata": {},
   "source": [
    "### Model 6"
   ]
  },
  {
   "cell_type": "code",
   "execution_count": 154,
   "metadata": {},
   "outputs": [
    {
     "name": "stdout",
     "output_type": "stream",
     "text": [
      "Coefficient of determination (R**2):  0.9874974562450484\n"
     ]
    },
    {
     "data": {
      "image/png": "[encoded data removed]",
      "text/plain": [
       "<Figure size 432x288 with 1 Axes>"
      ]
     },
     "metadata": {
      "needs_background": "light"
     },
     "output_type": "display_data"
    },
    {
     "name": "stdout",
     "output_type": "stream",
     "text": [
      "[50.97987551380545, -142.7175500832991, 58.050719994847825, 0.9234741020957852, 16.061943583981552, -43.086202973618995]\n",
      "[7193396.87318546, 8464176.300567916, 7575864.882830414, 5507536.711567693, 7342891.387290786, 6666482.442255769]\n"
     ]
    }
   ],
   "source": [
    "predict = higherdegreemodel(3, train_dataset[5][[\"X\"]], train_dataset[5][[\"y\"]])\n",
    "\n",
    "plot(\"Model 6, degree 3\", predict)\n",
    "\n",
    "degree3bias.append((predict - test[[\"y\"]]).y.mean(axis=0))\n",
    "print(degree3bias)\n",
    "degree3variance.append(np.var(predict))\n",
    "print(degree3variance)"
   ]
  },
  {
   "cell_type": "markdown",
   "metadata": {},
   "source": [
    "### Model 7"
   ]
  },
  {
   "cell_type": "code",
   "execution_count": 155,
   "metadata": {},
   "outputs": [
    {
     "name": "stdout",
     "output_type": "stream",
     "text": [
      "Coefficient of determination (R**2):  0.9893191082216246\n"
     ]
    },
    {
     "data": {
      "image/png": "[encoded data removed]",
      "text/plain": [
       "<Figure size 432x288 with 1 Axes>"
      ]
     },
     "metadata": {
      "needs_background": "light"
     },
     "output_type": "display_data"
    },
    {
     "name": "stdout",
     "output_type": "stream",
     "text": [
      "[50.97987551380545, -142.7175500832991, 58.050719994847825, 0.9234741020957852, 16.061943583981552, -43.086202973618995, -157.06601131671968]\n",
      "[7193396.87318546, 8464176.300567916, 7575864.882830414, 5507536.711567693, 7342891.387290786, 6666482.442255769, 7589754.907146324]\n"
     ]
    }
   ],
   "source": [
    "predict = higherdegreemodel(3, train_dataset[6][[\"X\"]], train_dataset[6][[\"y\"]])\n",
    "\n",
    "plot(\"Model 7, degree 3\", predict)\n",
    "\n",
    "degree3bias.append((predict - test[[\"y\"]]).y.mean(axis=0))\n",
    "print(degree3bias)\n",
    "degree3variance.append(np.var(predict))\n",
    "print(degree3variance)"
   ]
  },
  {
   "cell_type": "markdown",
   "metadata": {},
   "source": [
    "### Model 8"
   ]
  },
  {
   "cell_type": "code",
   "execution_count": 156,
   "metadata": {},
   "outputs": [
    {
     "name": "stdout",
     "output_type": "stream",
     "text": [
      "Coefficient of determination (R**2):  0.9956904055297952\n"
     ]
    },
    {
     "data": {
      "image/png": "[encoded data removed]",
      "text/plain": [
       "<Figure size 432x288 with 1 Axes>"
      ]
     },
     "metadata": {
      "needs_background": "light"
     },
     "output_type": "display_data"
    },
    {
     "name": "stdout",
     "output_type": "stream",
     "text": [
      "[50.97987551380545, -142.7175500832991, 58.050719994847825, 0.9234741020957852, 16.061943583981552, -43.086202973618995, -157.06601131671968, -86.68649223628003]\n",
      "[7193396.87318546, 8464176.300567916, 7575864.882830414, 5507536.711567693, 7342891.387290786, 6666482.442255769, 7589754.907146324, 7062521.789673507]\n"
     ]
    }
   ],
   "source": [
    "predict = higherdegreemodel(3, train_dataset[7][[\"X\"]], train_dataset[7][[\"y\"]])\n",
    "\n",
    "plot(\"Model 8, degree 3\", predict)\n",
    "\n",
    "degree3bias.append((predict - test[[\"y\"]]).y.mean(axis=0))\n",
    "print(degree3bias)\n",
    "degree3variance.append(np.var(predict))\n",
    "print(degree3variance)"
   ]
  },
  {
   "cell_type": "markdown",
   "metadata": {},
   "source": [
    "### Model 9"
   ]
  },
  {
   "cell_type": "code",
   "execution_count": 157,
   "metadata": {},
   "outputs": [
    {
     "name": "stdout",
     "output_type": "stream",
     "text": [
      "Coefficient of determination (R**2):  0.9909924239295399\n"
     ]
    },
    {
     "data": {
      "image/png": "[encoded data removed]",
      "text/plain": [
       "<Figure size 432x288 with 1 Axes>"
      ]
     },
     "metadata": {
      "needs_background": "light"
     },
     "output_type": "display_data"
    },
    {
     "name": "stdout",
     "output_type": "stream",
     "text": [
      "[50.97987551380545, -142.7175500832991, 58.050719994847825, 0.9234741020957852, 16.061943583981552, -43.086202973618995, -157.06601131671968, -86.68649223628003, 131.231727971939]\n",
      "[7193396.87318546, 8464176.300567916, 7575864.882830414, 5507536.711567693, 7342891.387290786, 6666482.442255769, 7589754.907146324, 7062521.789673507, 6374638.430617773]\n"
     ]
    }
   ],
   "source": [
    "predict = higherdegreemodel(3, train_dataset[8][[\"X\"]], train_dataset[8][[\"y\"]])\n",
    "\n",
    "plot(\"Model 9, degree 3\", predict)\n",
    "\n",
    "degree3bias.append((predict - test[[\"y\"]]).y.mean(axis=0))\n",
    "print(degree3bias)\n",
    "degree3variance.append(np.var(predict))\n",
    "print(degree3variance)"
   ]
  },
  {
   "cell_type": "markdown",
   "metadata": {},
   "source": [
    "### Model 10"
   ]
  },
  {
   "cell_type": "code",
   "execution_count": 158,
   "metadata": {},
   "outputs": [
    {
     "name": "stdout",
     "output_type": "stream",
     "text": [
      "Coefficient of determination (R**2):  0.9974864152520797\n"
     ]
    },
    {
     "data": {
      "image/png": "[encoded data removed]",
      "text/plain": [
       "<Figure size 432x288 with 1 Axes>"
      ]
     },
     "metadata": {
      "needs_background": "light"
     },
     "output_type": "display_data"
    },
    {
     "name": "stdout",
     "output_type": "stream",
     "text": [
      "[50.97987551380545, -142.7175500832991, 58.050719994847825, 0.9234741020957852, 16.061943583981552, -43.086202973618995, -157.06601131671968, -86.68649223628003, 131.231727971939, 16.74758667756589]\n",
      "[7193396.87318546, 8464176.300567916, 7575864.882830414, 5507536.711567693, 7342891.387290786, 6666482.442255769, 7589754.907146324, 7062521.789673507, 6374638.430617773, 6441401.5646186005]\n"
     ]
    }
   ],
   "source": [
    "predict = higherdegreemodel(3, train_dataset[9][[\"X\"]], train_dataset[9][[\"y\"]])\n",
    "\n",
    "plot(\"Model 10, degree 3\", predict)\n",
    "\n",
    "degree3bias.append((predict - test[[\"y\"]]).y.mean(axis=0))\n",
    "print(degree3bias)\n",
    "degree3variance.append(np.var(predict))\n",
    "print(degree3variance)"
   ]
  },
  {
   "cell_type": "markdown",
   "metadata": {},
   "source": [
    "## Analysis"
   ]
  },
  {
   "cell_type": "code",
   "execution_count": 159,
   "metadata": {},
   "outputs": [
    {
     "name": "stdout",
     "output_type": "stream",
     "text": [
      "Mean variance for degree 3 function:  7021866.528975424\n",
      "Mean bias for degree 3 function:  -15.556092876568233\n"
     ]
    }
   ],
   "source": [
    "mean_variance = np.mean(degree3variance)\n",
    "mean_bias = np.mean(degree3bias)\n",
    "print(\"Mean variance for degree 3 function: \", mean_variance)\n",
    "print(\"Mean bias for degree 3 function: \", mean_bias)"
   ]
  },
  {
   "cell_type": "markdown",
   "metadata": {},
   "source": [
    "## Polynomial Degree: 4"
   ]
  }
 ],
 "metadata": {
  "kernelspec": {
   "display_name": "Python 3",
   "language": "python",
   "name": "python3"
  },
  "language_info": {
   "codemirror_mode": {
    "name": "ipython",
    "version": 3
   },
   "file_extension": ".py",
   "mimetype": "text/x-python",
   "name": "python",
   "nbconvert_exporter": "python",
   "pygments_lexer": "ipython3",
   "version": "3.8.5"
  }
 },
 "nbformat": 4,
 "nbformat_minor": 4
}
