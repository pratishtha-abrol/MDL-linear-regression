{
 "cells": [
  {
   "cell_type": "markdown",
   "metadata": {},
   "source": [
    "## Task 1\n",
    "\n",
    "### method: LinearRegression().fit()\n",
    "\n"
   ]
  },
  {
   "cell_type": "markdown",
   "metadata": {},
   "source": [
    "The given method basically finds the best value of the intercept and the slope of the line that best fits the given data. Below is a code snippet for the same."
   ]
  },
  {
   "cell_type": "markdown",
   "metadata": {},
   "source": [
    "```\n",
    "from sklearn.linear_model import LinearRegression\n",
    "regressor = LinearRegression()\n",
    "regressor.fit(X_train, y_train)\n",
    "```"
   ]
  },
  {
   "cell_type": "markdown",
   "metadata": {},
   "source": [
    "*LinearRegression* fits a linear model with coefficients\n",
    "$$\\omega = ( \\omega _{1},..., \\omega _{p})$$\n",
    "to minimize the residual sum of squares between the observed targets in the dataset, and the targets predicted by the linear approximation.\n",
    "Mathematically it solves a problem of the form:\n",
    "$$ \\underset{\\omega}{\\textrm{min}} = ||X - \\omega y|| _{2} ^{2} $$"
   ]
  },
  {
   "cell_type": "markdown",
   "metadata": {},
   "source": [
    "The *fit()* method takes in arrays X, and y and store the coefficients in its ```coef_``` member and the intercept in the ```intercept_``` member."
   ]
  },
  {
   "cell_type": "markdown",
   "metadata": {},
   "source": [
    "## Task 2"
   ]
  },
  {
   "cell_type": "markdown",
   "metadata": {},
   "source": [
    "### Importing Data"
   ]
  },
  {
   "cell_type": "code",
   "execution_count": 1,
   "metadata": {},
   "outputs": [],
   "source": [
    "import pickle"
   ]
  },
  {
   "cell_type": "code",
   "execution_count": 2,
   "metadata": {},
   "outputs": [],
   "source": [
    "infile1 = open(\"train.pkl\", 'rb')\n",
    "train = pickle.load(infile1)\n",
    "infile1.close()"
   ]
  },
  {
   "cell_type": "code",
   "execution_count": 3,
   "metadata": {},
   "outputs": [],
   "source": [
    "infile2 = open(\"test.pkl\", 'rb')\n",
    "test_data = pickle.load(infile2)\n",
    "infile2.close()"
   ]
  },
  {
   "cell_type": "code",
   "execution_count": 4,
   "metadata": {},
   "outputs": [],
   "source": [
    "#train"
   ]
  },
  {
   "cell_type": "code",
   "execution_count": 5,
   "metadata": {
    "scrolled": true
   },
   "outputs": [],
   "source": [
    "#test_data"
   ]
  },
  {
   "cell_type": "code",
   "execution_count": 6,
   "metadata": {},
   "outputs": [],
   "source": [
    "import pandas as pd"
   ]
  },
  {
   "cell_type": "code",
   "execution_count": 7,
   "metadata": {},
   "outputs": [],
   "source": [
    "train_df = pd.DataFrame(train, columns=[\"X\",\"y\"])\n",
    "#train_df"
   ]
  },
  {
   "cell_type": "code",
   "execution_count": 8,
   "metadata": {},
   "outputs": [],
   "source": [
    "test = pd.DataFrame(test_data, columns=[\"X\",\"y\"])\n",
    "#test"
   ]
  },
  {
   "cell_type": "code",
   "execution_count": 9,
   "metadata": {
    "scrolled": true
   },
   "outputs": [
    {
     "data": {
      "text/plain": [
       "<matplotlib.collections.PathCollection at 0x7fc343ebaf10>"
      ]
     },
     "execution_count": 9,
     "metadata": {},
     "output_type": "execute_result"
    },
    {
     "data": {
      "image/png": "[encoded data removed]",
      "text/plain": [
       "<Figure size 432x288 with 1 Axes>"
      ]
     },
     "metadata": {
      "needs_background": "light"
     },
     "output_type": "display_data"
    }
   ],
   "source": [
    "import matplotlib.pyplot as plt\n",
    "%matplotlib inline\n",
    "plt.scatter(train_df.X, train_df.y)"
   ]
  },
  {
   "cell_type": "code",
   "execution_count": 10,
   "metadata": {},
   "outputs": [
    {
     "data": {
      "text/plain": [
       "<matplotlib.collections.PathCollection at 0x7fc34361e910>"
      ]
     },
     "execution_count": 10,
     "metadata": {},
     "output_type": "execute_result"
    },
    {
     "data": {
      "image/png": "[encoded data removed]",
      "text/plain": [
       "<Figure size 432x288 with 1 Axes>"
      ]
     },
     "metadata": {
      "needs_background": "light"
     },
     "output_type": "display_data"
    }
   ],
   "source": [
    "%matplotlib inline\n",
    "plt.scatter(test.X, test.y)"
   ]
  },
  {
   "cell_type": "markdown",
   "metadata": {},
   "source": [
    "### Splitting Data"
   ]
  },
  {
   "cell_type": "code",
   "execution_count": 11,
   "metadata": {},
   "outputs": [],
   "source": [
    "# from sklearn.model_selection import train_test_split\n",
    "import numpy as np "
   ]
  },
  {
   "cell_type": "code",
   "execution_count": 12,
   "metadata": {},
   "outputs": [],
   "source": [
    "# train,test=train_test_split(df,test_size=0.1,random_state=1)"
   ]
  },
  {
   "cell_type": "code",
   "execution_count": 13,
   "metadata": {},
   "outputs": [
    {
     "data": {
      "text/plain": [
       "10"
      ]
     },
     "execution_count": 13,
     "metadata": {},
     "output_type": "execute_result"
    }
   ],
   "source": [
    "# split the train set to 10 equal sets\n",
    "\n",
    "# uncommnent this later:\n",
    "\n",
    "train_dataset=np.split(train_df,10)\n",
    "len(train_dataset)"
   ]
  },
  {
   "cell_type": "code",
   "execution_count": 14,
   "metadata": {},
   "outputs": [],
   "source": [
    "from sklearn.linear_model import LinearRegression"
   ]
  },
  {
   "cell_type": "code",
   "execution_count": 15,
   "metadata": {},
   "outputs": [],
   "source": [
    "from sklearn.preprocessing import PolynomialFeatures"
   ]
  },
  {
   "cell_type": "markdown",
   "metadata": {},
   "source": [
    "### Functions"
   ]
  },
  {
   "cell_type": "code",
   "execution_count": 19,
   "metadata": {},
   "outputs": [],
   "source": [
    "def higherdegreemodel(d, dataset_X, dataset_y) :\n",
    "    poly = PolynomialFeatures(degree=d)\n",
    "    x_poly = poly.fit_transform(dataset_X)\n",
    "    poly.fit(dataset_X,dataset_y)\n",
    "    clf=LinearRegression()\n",
    "    clf.fit(x_poly,dataset_y)\n",
    "    predict=clf.predict(poly.fit_transform(test[[\"X\"]]))\n",
    "    #print(\"Coefficient of determination (R**2): \", clf.score(poly.fit_transform(test[[\"X\"]]),test[[\"y\"]]))\n",
    "    return predict"
   ]
  },
  {
   "cell_type": "code",
   "execution_count": 20,
   "metadata": {},
   "outputs": [],
   "source": [
    "def plot(title, predict) :\n",
    "    plt.title(title)\n",
    "    plt.xlabel('X')\n",
    "    plt.ylabel('y')\n",
    "    plt.scatter(test[[\"X\"]], test[[\"y\"]], label='Test Data')\n",
    "    plt.scatter(test[[\"X\"]], predict, c='#a3cfa3', label='Polynomial regression curve')\n",
    "    plt.legend(loc=\"upper left\")\n",
    "    plt.show()"
   ]
  },
  {
   "cell_type": "markdown",
   "metadata": {},
   "source": [
    "# Main Function"
   ]
  },
  {
   "cell_type": "code",
   "execution_count": 24,
   "metadata": {
    "scrolled": true
   },
   "outputs": [
    {
     "name": "stdout",
     "output_type": "stream",
     "text": [
      "\n",
      "\n",
      "\t\t\t\t\tPolynomial of degree:  1\n",
      "\n",
      "Bias of degree 1 ,all 10 models:\n",
      "[283.75851445861144, 116.77981031374559, 381.3515225353087, 158.29037770456154, 314.99376980884296, 244.6125415243577, 51.676133835737254, 172.32634609611165, 356.6769688774557, 221.99613274736515]\n",
      "\n",
      "Mean Bias of degree 1\n",
      "230.24621179020977\n",
      "\n",
      "Variance of degree 1 ,all 10 models:\n",
      "[4408628.7529279245, 5949604.795132676, 5288474.20832439, 4446122.7276227325, 4774318.05616947, 4056267.93547471, 5370194.678405515, 4895961.914468983, 4498116.711822818, 4253063.1657879865]\n",
      "\n",
      "Mean Variance of degree 1\n",
      "4794075.294613721\n",
      "\n",
      "\n",
      "\t\t\t\t\tPolynomial of degree:  2\n",
      "\n",
      "Bias of degree 2 ,all 10 models:\n",
      "[266.79049662056013, 113.52433632051557, 390.61411472597763, 159.99046841914824, 308.2984444733343, 232.75140447739756, 49.71140141068238, 164.48105756111462, 363.3990517866693, 215.60431419466408]\n",
      "\n",
      "Mean Bias of degree 2\n",
      "226.51650899900633\n",
      "\n",
      "Variance of degree 2 ,all 10 models:\n",
      "[4683606.656506409, 6172552.36903442, 5126648.919952233, 4565869.7198769525, 4871837.554750705, 4276169.689931052, 5413568.9174210075, 5165483.464270929, 4440156.498025015, 4395207.097609551]\n",
      "\n",
      "Mean Variance of degree 2\n",
      "4911110.088737828\n",
      "\n",
      "\n",
      "\t\t\t\t\tPolynomial of degree:  3\n",
      "\n",
      "Bias of degree 3 ,all 10 models:\n",
      "[50.979875513805425, -142.7175500832994, 58.050719994847746, 0.9234741020946441, 16.061943583988704, -43.0862029736201, -157.06601131671968, -86.6864922362817, 131.23172797193934, 16.74758667756045]\n",
      "\n",
      "Mean Bias of degree 3\n",
      "-15.556092876568453\n",
      "\n",
      "Variance of degree 3 ,all 10 models:\n",
      "[7193396.873185461, 8464176.300567925, 7575864.882830414, 5507536.711567727, 7342891.38729054, 6666482.4422558015, 7589754.907146324, 7062521.789673569, 6374638.430617764, 6441401.564618804]\n",
      "\n",
      "Mean Variance of degree 3\n",
      "7021866.528975433\n",
      "\n",
      "\n",
      "\t\t\t\t\tPolynomial of degree:  4\n",
      "\n",
      "Bias of degree 4 ,all 10 models:\n",
      "[58.571953172899974, -146.4418452404895, 47.676993871497515, 52.39265483428615, -54.254887021721416, -29.475395388040774, -242.69071912372974, -43.19175548096037, 144.63514013026443, 74.39118123339198]\n",
      "\n",
      "Mean Bias of degree 4\n",
      "-13.83866790126018\n",
      "\n",
      "Variance of degree 4 ,all 10 models:\n",
      "[7141981.557668726, 8498447.213984499, 7673622.928177017, 5276153.633059943, 7998354.593782539, 6536942.077269072, 8433517.279647559, 6803290.158823004, 6241843.530443064, 6153639.376116058]\n",
      "\n",
      "Mean Variance of degree 4\n",
      "7075779.234897147\n",
      "\n",
      "\n",
      "\t\t\t\t\tPolynomial of degree:  5\n",
      "\n",
      "Bias of degree 5 ,all 10 models:\n",
      "[81.5585596213497, -160.21574874693033, 50.18514199971775, 53.16250770414881, -59.5873862415297, -63.051039739580986, -240.50035857315342, -31.484577316935294, 141.28666486090697, 98.51223369290685]\n",
      "\n",
      "Mean Bias of degree 5\n",
      "-13.013400273909966\n",
      "\n",
      "Variance of degree 5 ,all 10 models:\n",
      "[6899711.986734155, 8697671.840098936, 7625877.295470986, 5262139.457810448, 8134521.977375152, 7042410.619594887, 8408466.42978305, 6641330.114414185, 6273376.9181498, 5976946.360339155]\n",
      "\n",
      "Mean Variance of degree 5\n",
      "7096245.299977074\n",
      "\n",
      "\n",
      "\t\t\t\t\tPolynomial of degree:  6\n",
      "\n",
      "Bias of degree 6 ,all 10 models:\n",
      "[87.22422903512324, -153.9511801619204, 48.232061287416784, 53.4609347024322, -57.184963604420545, -66.41551998540929, -240.63482060515744, -53.64253003812589, 141.3194472611713, 108.60902138779161]\n",
      "\n",
      "Mean Bias of degree 6\n",
      "-13.298332072109844\n",
      "\n",
      "Variance of degree 6 ,all 10 models:\n",
      "[7060314.463318835, 8871320.90623646, 7695425.046371423, 5208950.489195308, 8199813.513925895, 6876424.295575798, 8423425.530498067, 6522661.875888497, 6264398.139684918, 6121378.386648072]\n",
      "\n",
      "Mean Variance of degree 6\n",
      "7124411.264734326\n",
      "\n",
      "\n",
      "\t\t\t\t\tPolynomial of degree:  7\n",
      "\n",
      "Bias of degree 7 ,all 10 models:\n",
      "[95.27318927910784, -155.12035409859791, 75.09549246402274, 56.20306566475928, -55.19879059540625, -66.65966566280098, -230.3492362312375, -44.76520178485382, 127.65762420447099, 112.64055201318357]\n",
      "\n",
      "Mean Bias of degree 7\n",
      "-8.522332474735212\n",
      "\n",
      "Variance of degree 7 ,all 10 models:\n",
      "[6996652.945821839, 8906354.475050364, 7334763.9775195075, 5102912.731839462, 8111822.707691866, 6879524.635883989, 8219369.910206857, 6424819.952108154, 6578429.979526306, 6345930.573484371]\n",
      "\n",
      "Mean Variance of degree 7\n",
      "7090058.188913271\n",
      "\n",
      "\n",
      "\t\t\t\t\tPolynomial of degree:  8\n",
      "\n",
      "Bias of degree 8 ,all 10 models:\n",
      "[94.35209253598228, -195.44186833585647, 103.6359328211116, 51.18415387495024, -82.0543480101125, -85.1340759314462, -235.3199334724899, -31.35537399388239, 121.65684004172383, 127.30206788311907]\n",
      "\n",
      "Mean Bias of degree 8\n",
      "-13.117451258690053\n",
      "\n",
      "Variance of degree 8 ,all 10 models:\n",
      "[7000000.74497666, 8957783.513323262, 7367898.872239193, 5093521.368565519, 8150525.599397284, 6923449.236920759, 8234482.803294698, 6470422.320415415, 6586785.568869914, 6393676.41273831]\n",
      "\n",
      "Mean Variance of degree 8\n",
      "7117854.644074102\n",
      "\n",
      "\n",
      "\t\t\t\t\tPolynomial of degree:  9\n",
      "\n",
      "Bias of degree 9 ,all 10 models:\n",
      "[91.74586342110993, -195.73899103970544, 98.51494549112839, 62.32773196353121, -78.96064838267054, -85.19527997516944, -235.25508229238372, -37.743409188110846, 121.94637875713272, 112.4426083350912]\n",
      "\n",
      "Mean Bias of degree 9\n",
      "-14.591588291004658\n",
      "\n",
      "Variance of degree 9 ,all 10 models:\n",
      "[7118107.165749858, 8949211.89256453, 7322225.256936531, 5307244.24841323, 8192389.498708075, 6917519.714444319, 8338465.106849313, 6437293.552638514, 6576484.118958982, 6295145.252305603]\n",
      "\n",
      "Mean Variance of degree 9\n",
      "7145408.580756895\n",
      "\n",
      "\n",
      "\t\t\t\t\tPolynomial of degree:  10\n",
      "\n",
      "Bias of degree 10 ,all 10 models:\n",
      "[84.03918028453923, -193.69727180942556, 95.49140471483418, 38.61329139743912, -89.10059726282773, -88.66584076793342, -238.44057859147657, -38.087565948187034, 124.24665379186433, 122.87334598244877]\n",
      "\n",
      "Mean Bias of degree 10\n",
      "-18.272797820872466\n",
      "\n",
      "Variance of degree 10 ,all 10 models:\n",
      "[7342364.24345918, 8994867.701169217, 7421787.5038937, 5087224.357346223, 8145357.682693015, 6893619.440736784, 8263111.674572972, 6397496.923488585, 6623321.287216906, 6155832.323501717]\n",
      "\n",
      "Mean Variance of degree 10\n",
      "7132498.31380783\n",
      "\n",
      "\n",
      "\t\t\t\t\tPolynomial of degree:  11\n",
      "\n",
      "Bias of degree 11 ,all 10 models:\n",
      "[66.96341982661349, -166.82450319295077, 119.54864981416078, 44.03266772639906, -77.35241755690933, -99.0971253815608, -231.48337382916466, -42.1248612651262, 136.3022480304062, 61.30855645786839]\n",
      "\n",
      "Mean Bias of degree 11\n",
      "-18.872673937026384\n",
      "\n",
      "Variance of degree 11 ,all 10 models:\n",
      "[6915666.890868989, 8959664.777957823, 7471145.29070656, 5388630.879678239, 8172261.219779322, 6848014.993029287, 8415697.45909285, 6407596.143212177, 6579503.878004695, 6207042.149931625]\n",
      "\n",
      "Mean Variance of degree 11\n",
      "7136522.3682261575\n",
      "\n",
      "\n",
      "\t\t\t\t\tPolynomial of degree:  12\n",
      "\n",
      "Bias of degree 12 ,all 10 models:\n",
      "[88.28420019354948, -169.46227160017952, 100.62342318540506, 18.28449323654349, -95.79618620625713, -66.29684612595358, -237.84192323672306, -35.87039930126311, 161.2775896467886, 101.33232121095126]\n",
      "\n",
      "Mean Bias of degree 12\n",
      "-13.54655989971385\n",
      "\n",
      "Variance of degree 12 ,all 10 models:\n",
      "[7383844.679448645, 8932468.22175766, 7321487.640243022, 5112239.069080213, 8182804.331882454, 6797916.371457085, 8304283.347045121, 6363348.230261112, 6569972.74496429, 5978779.052685959]\n",
      "\n",
      "Mean Variance of degree 12\n",
      "7094714.368882556\n",
      "\n",
      "\n",
      "\t\t\t\t\tPolynomial of degree:  13\n",
      "\n",
      "Bias of degree 13 ,all 10 models:\n",
      "[57.26531052455035, -173.4577355718397, 108.94545235520518, 40.44171413542759, -54.50960886015561, -102.98433894858663, -216.9952873556396, -47.29907711298401, 129.12533751541017, 28.39266486342826]\n",
      "\n",
      "Mean Bias of degree 13\n",
      "-23.107556845518406\n",
      "\n",
      "Variance of degree 13 ,all 10 models:\n",
      "[6900662.831040928, 9047228.291233089, 7486464.062962997, 5355594.78032209, 8266249.430152228, 6798892.744610014, 8412018.183187794, 6398131.370498151, 6569422.5569205675, 6072263.544083164]\n",
      "\n",
      "Mean Variance of degree 13\n",
      "7130692.779501103\n",
      "\n",
      "\n",
      "\t\t\t\t\tPolynomial of degree:  14\n",
      "\n",
      "Bias of degree 14 ,all 10 models:\n",
      "[36.912072723527395, -200.4591731895709, 70.2760372788441, 21.25607552804875, -59.72323952908423, -98.73023378709065, -205.9250695350368, -50.17414538797967, 125.68003482319497, 23.51997668104064]\n",
      "\n",
      "Mean Bias of degree 14\n",
      "-33.73676643941064\n",
      "\n",
      "Variance of degree 14 ,all 10 models:\n",
      "[7206152.926105785, 8868615.390689066, 7389832.507485144, 5163921.804650592, 8164726.048110552, 6728249.9484704165, 8302037.448680681, 6334588.252497686, 6500063.625917219, 6027877.126712672]\n",
      "\n",
      "Mean Variance of degree 14\n",
      "7068606.50793198\n",
      "\n",
      "\n",
      "\t\t\t\t\tPolynomial of degree:  15\n",
      "\n",
      "Bias of degree 15 ,all 10 models:\n",
      "[36.91346294295632, -207.66288980439623, 67.77134693693554, 15.17497919955026, -67.16198709634573, -109.16744791850888, -207.6209314470224, -55.58055066614347, 111.66038789956983, 0.14003553868021043]\n",
      "\n",
      "Mean Bias of degree 15\n",
      "-41.553359441472445\n",
      "\n",
      "Variance of degree 15 ,all 10 models:\n",
      "[7065036.919077675, 8829116.444890458, 7391241.05061592, 5143013.124286182, 8156297.898615269, 6698490.503122867, 8216546.70072892, 6292817.634481511, 6402435.4559998, 6009212.517478218]\n",
      "\n",
      "Mean Variance of degree 15\n",
      "7020420.824929683\n",
      "\n",
      "\n",
      "\t\t\t\t\tPolynomial of degree:  16\n"
     ]
    },
    {
     "name": "stdout",
     "output_type": "stream",
     "text": [
      "\n",
      "Bias of degree 16 ,all 10 models:\n",
      "[16.330442795047436, -212.72125954311346, 69.91744907402617, 17.8091429154421, -61.59726301064113, -105.375348770724, -203.7905608312148, -55.2023388584793, 111.93889298510706, -1.2233705322656563]\n",
      "\n",
      "Mean Bias of degree 16\n",
      "-42.39142137768157\n",
      "\n",
      "Variance of degree 16 ,all 10 models:\n",
      "[7311273.79150078, 8754673.537652347, 7347528.34161215, 5178205.883062296, 8242631.694618548, 6614031.02922582, 8209222.363709165, 6284864.438803927, 6341892.072728461, 6010229.976565627]\n",
      "\n",
      "Mean Variance of degree 16\n",
      "7029455.312947912\n",
      "\n",
      "\n",
      "\t\t\t\t\tPolynomial of degree:  17\n",
      "\n",
      "Bias of degree 17 ,all 10 models:\n",
      "[9.635530769233226, -221.25063327964455, 60.66286890927877, 4.093448160678657, -71.294129475665, -114.20514496727739, -210.3136475426548, -64.57526240526087, 95.04161140653432, -26.928441722013076]\n",
      "\n",
      "Mean Bias of degree 17\n",
      "-53.91338001467907\n",
      "\n",
      "Variance of degree 17 ,all 10 models:\n",
      "[7120375.10246264, 8701517.898172501, 7316260.396216117, 5092228.3028339865, 8221817.328815321, 6562494.230432266, 8057209.446902573, 6207241.632091027, 6186337.138746175, 5875743.45956803]\n",
      "\n",
      "Mean Variance of degree 17\n",
      "6934122.493624063\n",
      "\n",
      "\n",
      "\t\t\t\t\tPolynomial of degree:  18\n",
      "\n",
      "Bias of degree 18 ,all 10 models:\n",
      "[-15.037941571897766, -226.6257332146687, 61.08482058351001, 5.93083657234509, -65.43842711016087, -114.43150853556537, -209.16425659350688, -64.79068197762935, 88.06234701870873, -25.750724026964456]\n",
      "\n",
      "Mean Bias of degree 18\n",
      "-56.61612688558296\n",
      "\n",
      "Variance of degree 18 ,all 10 models:\n",
      "[7367584.061832184, 8592515.97268021, 7306478.252291635, 5135242.133730015, 8360930.634249439, 6481679.645073105, 8057769.210284802, 6204612.627110913, 6106377.38770711, 5897681.836975306]\n",
      "\n",
      "Mean Variance of degree 18\n",
      "6951087.176193473\n",
      "\n",
      "\n",
      "\t\t\t\t\tPolynomial of degree:  19\n",
      "\n",
      "Bias of degree 19 ,all 10 models:\n",
      "[-26.344406195017967, -233.82734729119412, 45.737627782528314, -14.291206556233572, -78.23269325351805, -121.76304269311098, -218.47053908630232, -76.86296943834866, 72.75629529644777, -47.84988762412217]\n",
      "\n",
      "Mean Bias of degree 19\n",
      "-69.91481690588718\n",
      "\n",
      "Variance of degree 19 ,all 10 models:\n",
      "[7149480.13887199, 8546998.368234482, 7225187.228354305, 5007095.881404218, 8316014.63707458, 6427321.9481415395, 7877842.552432927, 6114601.612842525, 5937711.702926496, 5710256.415044429]\n",
      "\n",
      "Mean Variance of degree 19\n",
      "6831251.0485327495\n",
      "\n",
      "\n",
      "\t\t\t\t\tPolynomial of degree:  20\n",
      "\n",
      "Bias of degree 20 ,all 10 models:\n",
      "[-53.767876185298384, -241.97669189638978, 44.378040913362256, -13.433389450135246, -71.60088527526781, -123.99699538522952, -220.7927039344792, -76.2541636863142, 62.21829934726047, -43.6423222457458]\n",
      "\n",
      "Mean Bias of degree 20\n",
      "-73.88686877982373\n",
      "\n",
      "Variance of degree 20 ,all 10 models:\n",
      "[7358627.8763987, 8399755.173313847, 7233341.952348542, 5030994.458637166, 8481680.777298335, 6356183.706683882, 7866586.615295854, 6117072.985606878, 5858480.340853993, 5744546.8048944995]\n",
      "\n",
      "Mean Variance of degree 20\n",
      "6844727.069133168\n"
     ]
    }
   ],
   "source": [
    "all_bias=[]\n",
    "all_var=[]\n",
    "for degree in range (1,21):\n",
    "    local_bias=[]\n",
    "    local_var=[]\n",
    "    print(\"\\n\\n\\t\\t\\t\\t\\tPolynomial of degree: \",degree)\n",
    "    for model_index in range (10):\n",
    "        predict = higherdegreemodel(degree, train_dataset[model_index][[\"X\"]], train_dataset[model_index][[\"y\"]])\n",
    "        #plot(f' degree {degree},Model {model_index+1}:',predict)\n",
    "        local_bias.append((predict - test[[\"y\"]]).y.mean(axis=0))\n",
    "        local_var.append(np.var(predict))\n",
    "    all_bias.append(local_bias)\n",
    "    all_var.append(local_var)\n",
    "    print(\"\\nBias of degree\",degree,\",all 10 models:\")\n",
    "    print(local_bias)\n",
    "    print(\"\\nMean Bias of degree\",degree)\n",
    "    print(np.mean(local_bias))\n",
    "    print(\"\\nVariance of degree\",degree,\",all 10 models:\")\n",
    "    print(local_var)\n",
    "    print(\"\\nMean Variance of degree\",degree)\n",
    "    print(np.mean(local_var))\n"
   ]
  },
  {
   "cell_type": "code",
   "execution_count": null,
   "metadata": {},
   "outputs": [],
   "source": []
  }
 ],
 "metadata": {
  "kernelspec": {
   "display_name": "Python 3",
   "language": "python",
   "name": "python3"
  },
  "language_info": {
   "codemirror_mode": {
    "name": "ipython",
    "version": 3
   },
   "file_extension": ".py",
   "mimetype": "text/x-python",
   "name": "python",
   "nbconvert_exporter": "python",
   "pygments_lexer": "ipython3",
   "version": "3.8.5"
  }
 },
 "nbformat": 4,
 "nbformat_minor": 4
}
