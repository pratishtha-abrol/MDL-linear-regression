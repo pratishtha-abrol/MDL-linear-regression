{
 "cells": [
  {
   "cell_type": "code",
   "execution_count": 40,
   "metadata": {
    "scrolled": false
   },
   "outputs": [
    {
     "name": "stdout",
     "output_type": "stream",
     "text": [
      "irreducible error 0 -- 2.3283064365386963e-10\n",
      "irreducible error 1 -- 0.0\n",
      "irreducible error 2 -- 1.4551915228366852e-11\n",
      "irreducible error 3 -- 1.4551915228366852e-11\n",
      "irreducible error 4 -- 2.9103830456733704e-11\n",
      "irreducible error 5 -- 0.0\n",
      "irreducible error 6 -- 0.0\n",
      "irreducible error 7 -- -2.9103830456733704e-11\n",
      "irreducible error 8 -- 0.0\n",
      "irreducible error 9 -- -5.820766091346741e-11\n",
      "irreducible error 10 -- 0.0\n",
      "irreducible error 11 -- -1.1641532182693481e-10\n",
      "irreducible error 12 -- -2.9103830456733704e-11\n",
      "irreducible error 13 -- 0.0\n",
      "irreducible error 14 -- 0.0\n",
      "irreducible error 15 -- -5.820766091346741e-11\n",
      "irreducible error 16 -- 0.0\n",
      "irreducible error 17 -- 0.0\n",
      "irreducible error 18 -- 5.820766091346741e-11\n",
      "irreducible error 19 -- 0.0\n"
     ]
    }
   ],
   "source": [
    "import numpy as np\n",
    "import pickle \n",
    "import matplotlib.pyplot as plot\n",
    "from sklearn.preprocessing import PolynomialFeatures\n",
    "from sklearn.linear_model import LinearRegression\n",
    "from sklearn.pipeline import Pipeline\n",
    "from sklearn.metrics import mean_squared_error, r2_score\n",
    "from sklearn.model_selection import train_test_split\n",
    "import pandas as pd\n",
    "\n",
    "\n",
    "#get train data\n",
    "with open('./train.pkl', 'rb') as train:\n",
    "    data1 = pickle.load(train)\n",
    "    \n",
    "#shuffle data everytime to get diff models\n",
    "# np.random.shuffle(data1)\n",
    "\n",
    "#getting x and y coordinates separately\n",
    "x_tr=data1[:,:-1]\n",
    "y_tr=data1[:,1]\n",
    "\n",
    "#get test data\n",
    "with open('./test.pkl','rb') as test:\n",
    "    data2 = pickle.load(test)\n",
    "x_test=data2[:,:-1]\n",
    "y_test=data2[:,1]\n",
    "#print(y_test)\n",
    "#split train data into 10 sets\n",
    "x_train=np.array(np.array_split(x_tr,10))\n",
    "y_train=np.array(np.array_split(y_tr,10))\n",
    "\n",
    "#print(len(x_train[0]))\n",
    "    \n",
    "#declare bias and variance array of size 20 \n",
    "bias=np.zeros(20)\n",
    "biassq=np.zeros(20)\n",
    "variance=np.zeros(20)\n",
    "mse_return=np.zeros(20)\n",
    "irred_error=np.zeros(20)\n",
    "\n",
    "# print(mse_return)\n",
    "mse=np.zeros(20)\n",
    "\n",
    "\n",
    "\n",
    "\n",
    "reg = LinearRegression()\n",
    "#for each degree run fit on 10 models,800 data points each,pass test data and get output\n",
    "for i in range(20): #degree1\n",
    "    difference = np.zeros((10,80))\n",
    "    temp=np.zeros(80)\n",
    "    y_return=np.zeros((10,80)) #create output array to get predicted values\n",
    "    for j in range(10):\n",
    "        polynomial = PolynomialFeatures(degree=i+1 , include_bias=False)\n",
    "        \n",
    "        X_TRAIN = polynomial.fit_transform(x_train[j])\n",
    "        X_TEST = polynomial.fit_transform(x_test)\n",
    "        \n",
    "        reg.fit(X_TRAIN , y_train[j])\n",
    "        \n",
    "        prediction = []\n",
    "        prediction = (reg.predict(X_TEST))\n",
    "        y_return[j]=prediction\n",
    "        difference[j] = ((y_test - y_return[j])**2)\n",
    "    \n",
    "        #print(len(y_return[j]),j)\n",
    "        #mse_return[j]=np.mean((y_return[j]-y_test)**2)\n",
    "        #print(mse_return[j],j)\n",
    "    \n",
    "    for j in range (10):\n",
    "        temp += difference[j]\n",
    "    \n",
    "    temp /= 10\n",
    "#     print(len(temp))\n",
    "    \n",
    "    #for each degree ,calculate bias\n",
    "    y_mean=np.mean(y_return,axis=0)\n",
    "    \n",
    "    #print(len(y_mean))\n",
    "    bias[i]=np.mean(abs(y_mean - y_test))\n",
    "    biassq[i] = np.mean((y_mean - y_test)**2)\n",
    "    \n",
    "    mse_ret=np.mean((y_test-y_mean)**2)\n",
    "#     print(mse_ret)\n",
    "    #mse[i]=np.mean(mse_return)\n",
    "    #print(\"mean is\",mse[i])\n",
    "    #for each degree , calc variance\n",
    "    y_var=np.var(y_return,axis=0)\n",
    "    variance[i]=np.mean(y_var)\n",
    "    #print(variance[i])\n",
    "    \n",
    "    #calculate irreducible error\n",
    "#     print(np.mean(temp))\n",
    "    irred_error[i]=np.mean(temp) - (biassq[i] +variance[i])\n",
    "    print(\"irreducible error\",i,\"--\",irred_error[i])\n",
    "    \n",
    "    \n",
    "#plotting bias-variance graphs for all 20 degrees\n",
    "#plot.plot(x_test,y_mean,'o',label='Actual', color = 'red')\n",
    " #plot.plot(x_test,y_test,\"o\") \n",
    "\n"
   ]
  },
  {
   "cell_type": "code",
   "execution_count": 41,
   "metadata": {},
   "outputs": [
    {
     "name": "stdout",
     "output_type": "stream",
     "text": [
      " Degree        Bias       Variance   bias square  irreducible error\n",
      "      1  819.717436   25999.093010  1.001683e+06       2.328306e-10\n",
      "      2  810.763391   39105.833813  9.538361e+05       0.000000e+00\n",
      "      3   68.510851   56095.893210  9.533344e+03       1.455192e-11\n",
      "      4   81.339711  114907.291529  1.058830e+04       1.455192e-11\n",
      "      5   78.958414  151434.027857  9.952445e+03       2.910383e-11\n",
      "      6   78.364801  174226.744550  9.999198e+03       0.000000e+00\n",
      "      7   86.916241  198849.684616  1.042593e+04       0.000000e+00\n",
      "      8   90.327445  221551.968136  1.099837e+04      -2.910383e-11\n",
      "      9   92.450149  232378.905956  1.160477e+04       0.000000e+00\n",
      "     10   93.509377  236185.285585  1.292357e+04      -5.820766e-11\n",
      "     11   91.163645  238090.836956  1.249108e+04       0.000000e+00\n",
      "     12  125.170874  219356.681407  3.068093e+04      -1.164153e-10\n",
      "     13   93.628111  234171.303968  1.625411e+04      -2.910383e-11\n",
      "     14  130.174210  212545.070291  3.923089e+04       0.000000e+00\n",
      "     15  166.459281  221715.121438  6.292827e+04       0.000000e+00\n",
      "     16  170.417979  239355.637249  6.982166e+04      -5.820766e-11\n",
      "     17  236.714480  242992.950957  1.152399e+05       0.000000e+00\n",
      "     18  239.127012  269050.631916  1.205828e+05       0.000000e+00\n",
      "     19  304.866074  270101.241167  1.919786e+05       5.820766e-11\n",
      "     20  305.459406  299029.012048  1.973065e+05       0.000000e+00\n"
     ]
    }
   ],
   "source": [
    "    \n",
    "table_bias=pd.DataFrame({'Degree':np.array(range(1,21)),'Bias':bias,'Variance': variance, \\\n",
    "                         'bias square':biassq , 'irreducible error': irred_error})\n",
    "print(table_bias.to_string(index=False))"
   ]
  },
  {
   "cell_type": "markdown",
   "metadata": {},
   "source": [
    "# plot.plot(irred_error,label='error', color = 'black')\n",
    "plot.plot(bias**2,label='Bias', color = 'blue')\n",
    "#plot.plot(variance,label='Variance', color = 'red')\n",
    "plot.xlabel('Model Complexity', fontsize='medium')\n",
    "plot.ylabel('Error', fontsize='medium')\n",
    "plot.title(\"Bias vs Variance\")\n",
    "plot.legend()"
   ]
  },
  {
   "cell_type": "code",
   "execution_count": 35,
   "metadata": {},
   "outputs": [
    {
     "data": {
      "text/plain": [
       "[<matplotlib.lines.Line2D at 0x7f8d5522ecc0>]"
      ]
     },
     "execution_count": 35,
     "metadata": {},
     "output_type": "execute_result"
    },
    {
     "data": {
      "image/png": "[encoded data removed]",
      "text/plain": [
       "<Figure size 432x288 with 1 Axes>"
      ]
     },
     "metadata": {
      "needs_background": "light"
     },
     "output_type": "display_data"
    }
   ],
   "source": [
    "# plot.plot(bias,label='Bias', color = 'orange')\n",
    "plot.plot(biassq,label='Bias', color = 'green') \n",
    "plot.plot(variance,label='Variance', color = 'red')\n",
    "# plot.plot(irred_error,label='irreducible error', color = 'blue')\n",
    "#plot.xlabel('Model Complexity', fontsize='medium') plot.ylabel('Error', fontsize='medium') plot.title(\"Bias vs Variance\") plot.legend()"
   ]
  },
  {
   "cell_type": "code",
   "execution_count": null,
   "metadata": {},
   "outputs": [],
   "source": []
  }
 ],
 "metadata": {
  "kernelspec": {
   "display_name": "Python 3",
   "language": "python",
   "name": "python3"
  },
  "language_info": {
   "codemirror_mode": {
    "name": "ipython",
    "version": 3
   },
   "file_extension": ".py",
   "mimetype": "text/x-python",
   "name": "python",
   "nbconvert_exporter": "python",
   "pygments_lexer": "ipython3",
   "version": "3.8.5"
  }
 },
 "nbformat": 4,
 "nbformat_minor": 4
}
