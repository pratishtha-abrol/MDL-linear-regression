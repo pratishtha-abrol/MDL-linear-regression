{
 "cells": [
  {
   "cell_type": "markdown",
   "metadata": {},
   "source": [
    "## Task 1\n",
    "\n",
    "### method: LinearRegression().fit()\n",
    "\n"
   ]
  },
  {
   "cell_type": "markdown",
   "metadata": {},
   "source": [
    "The given method basically finds the best value of the intercept and the slope of the line that best fits the given data. Below is a code snippet for the same."
   ]
  },
  {
   "cell_type": "markdown",
   "metadata": {},
   "source": [
    "```\n",
    "from sklearn.linear_model import LinearRegression\n",
    "regressor = LinearRegression()\n",
    "regressor.fit(X_train, y_train)\n",
    "```"
   ]
  },
  {
   "cell_type": "markdown",
   "metadata": {},
   "source": [
    "*LinearRegression* fits a linear model with coefficients\n",
    "$$\\omega = ( \\omega _{1},..., \\omega _{p})$$\n",
    "to minimize the residual sum of squares between the observed targets in the dataset, and the targets predicted by the linear approximation.\n",
    "Mathematically it solves a problem of the form:\n",
    "$$ \\underset{\\omega}{\\textrm{min}} = ||X - \\omega y|| _{2} ^{2} $$"
   ]
  },
  {
   "cell_type": "markdown",
   "metadata": {},
   "source": [
    "The *fit()* method takes in arrays X, and y and store the coefficients in its ```coef_``` member and the intercept in the ```intercept_``` member."
   ]
  },
  {
   "cell_type": "markdown",
   "metadata": {},
   "source": [
    "## Task 2"
   ]
  },
  {
   "cell_type": "markdown",
   "metadata": {},
   "source": [
    "### Importing Data"
   ]
  },
  {
   "cell_type": "code",
   "execution_count": 1,
   "metadata": {},
   "outputs": [],
   "source": [
    "import pickle"
   ]
  },
  {
   "cell_type": "code",
   "execution_count": 2,
   "metadata": {},
   "outputs": [],
   "source": [
    "infile1 = open(\"train.pkl\", 'rb')\n",
    "train = pickle.load(infile1)\n",
    "infile1.close()"
   ]
  },
  {
   "cell_type": "code",
   "execution_count": 3,
   "metadata": {},
   "outputs": [],
   "source": [
    "infile2 = open(\"test.pkl\", 'rb')\n",
    "test_data = pickle.load(infile2)\n",
    "infile2.close()"
   ]
  },
  {
   "cell_type": "code",
   "execution_count": 4,
   "metadata": {},
   "outputs": [
    {
     "data": {
      "text/plain": [
       "array([[  39.18236666, 4765.40421584],\n",
       "       [  -7.08833508, 3782.0037892 ],\n",
       "       [ -39.80170787,  743.90527908],\n",
       "       ...,\n",
       "       [  39.35145933, 2470.61226356],\n",
       "       [  12.8210855 , 1806.34100101],\n",
       "       [ -28.09216372,  -77.523256  ]])"
      ]
     },
     "execution_count": 4,
     "metadata": {},
     "output_type": "execute_result"
    }
   ],
   "source": [
    "train"
   ]
  },
  {
   "cell_type": "code",
   "execution_count": 5,
   "metadata": {
    "scrolled": true
   },
   "outputs": [
    {
     "data": {
      "text/plain": [
       "array([[-2.14700000e+01, -5.02846044e+02],\n",
       "       [-3.71100000e+01, -2.58147766e+03],\n",
       "       [-6.40000000e+00, -1.28624000e+01],\n",
       "       [ 3.61000000e+00,  3.05555205e+00],\n",
       "       [ 2.57700000e+01,  8.43144144e+02],\n",
       "       [-3.68500000e+01, -2.52776216e+03],\n",
       "       [ 4.54200000e+01,  4.64430568e+03],\n",
       "       [ 9.72000000e+00,  4.49297344e+01],\n",
       "       [ 1.21600000e+01,  8.78233728e+01],\n",
       "       [ 3.21500000e+01,  1.64155422e+03],\n",
       "       [ 3.73700000e+01,  2.58208779e+03],\n",
       "       [ 3.30200000e+01,  1.77898237e+03],\n",
       "       [ 6.13000000e+00,  1.17044818e+01],\n",
       "       [-8.12000000e+00, -2.70068544e+01],\n",
       "       [-4.63000000e+01, -5.00405315e+03],\n",
       "       [ 3.81000000e+00,  3.43689505e+00],\n",
       "       [-2.39000000e+00,  2.27062050e-01],\n",
       "       [-5.01000000e+00, -5.73947705e+00],\n",
       "       [-4.98100000e+01, -6.22714303e+03],\n",
       "       [-1.44000000e+00,  8.23628800e-01],\n",
       "       [ 1.71000000e+00,  1.17442855e+00],\n",
       "       [-3.26900000e+01, -1.76673153e+03],\n",
       "       [ 3.87600000e+01,  2.88209592e+03],\n",
       "       [-6.51000000e+00, -1.35772246e+01],\n",
       "       [ 4.24000000e+00,  4.40929920e+00],\n",
       "       [-3.82100000e+01, -2.81715582e+03],\n",
       "       [ 1.05800000e+01,  5.78698276e+01],\n",
       "       [-2.98200000e+01, -1.34233196e+03],\n",
       "       [-4.88200000e+01, -5.86404050e+03],\n",
       "       [-3.28400000e+01, -1.79108143e+03],\n",
       "       [ 4.91000000e+01,  5.87083135e+03],\n",
       "       [-2.37200000e+01, -6.77304710e+02],\n",
       "       [ 3.93100000e+01,  3.00694155e+03],\n",
       "       [-1.61700000e+01, -2.15465284e+02],\n",
       "       [ 1.42900000e+01,  1.42676847e+02],\n",
       "       [-4.61900000e+01, -4.96856385e+03],\n",
       "       [ 4.20200000e+01,  3.67496071e+03],\n",
       "       [ 4.42300000e+01,  4.28777359e+03],\n",
       "       [-4.12500000e+01, -3.54209141e+03],\n",
       "       [-3.27000000e+01, -1.76834795e+03],\n",
       "       [ 3.70300000e+01,  2.51202078e+03],\n",
       "       [-8.13000000e+00, -2.71090279e+01],\n",
       "       [-4.87100000e+01, -5.82458960e+03],\n",
       "       [-3.00300000e+01, -1.37078977e+03],\n",
       "       [ 4.57300000e+01,  4.74032207e+03],\n",
       "       [ 2.40100000e+01,  6.81294658e+02],\n",
       "       [ 3.00700000e+01,  1.34208727e+03],\n",
       "       [-4.26400000e+01, -3.91127458e+03],\n",
       "       [ 2.63100000e+01,  8.97502858e+02],\n",
       "       [-4.63800000e+01, -5.02996939e+03],\n",
       "       [-4.69100000e+01, -5.20392743e+03],\n",
       "       [ 1.70300000e+01,  2.41982078e+02],\n",
       "       [ 3.20400000e+01,  1.62470005e+03],\n",
       "       [-1.97000000e+01, -3.88833450e+02],\n",
       "       [ 1.22200000e+01,  8.91308844e+01],\n",
       "       [ 3.19900000e+01,  1.61707738e+03],\n",
       "       [ 2.12800000e+01,  4.73550490e+02],\n",
       "       [ 2.16500000e+01,  4.98801156e+02],\n",
       "       [-1.13600000e+01, -7.47675648e+01],\n",
       "       [-4.02200000e+01, -3.28404170e+03],\n",
       "       [-1.06200000e+01, -6.10380044e+01],\n",
       "       [ 9.90000000e-01,  1.01901295e+00],\n",
       "       [-2.26300000e+01, -5.88476310e+02],\n",
       "       [ 1.35000000e+01,  1.20238750e+02],\n",
       "       [-6.65000000e+00, -1.45219313e+01],\n",
       "       [-4.92600000e+01, -6.02362509e+03],\n",
       "       [-8.38000000e+00, -2.97447116e+01],\n",
       "       [ 2.31000000e+00,  1.48649755e+00],\n",
       "       [ 3.64000000e+01,  2.38556400e+03],\n",
       "       [-2.72500000e+01, -1.02532016e+03],\n",
       "       [ 1.89100000e+01,  3.31758687e+02],\n",
       "       [-4.92800000e+01, -6.03094691e+03],\n",
       "       [-7.66000000e+00, -2.25696668e+01],\n",
       "       [ 2.91800000e+01,  1.22597698e+03],\n",
       "       [ 8.96000000e+00,  3.52709248e+01],\n",
       "       [ 3.20300000e+01,  1.62317360e+03],\n",
       "       [ 8.45000000e+00,  2.96550062e+01],\n",
       "       [ 1.29400000e+01,  1.05857737e+02],\n",
       "       [-4.43100000e+01, -4.38768417e+03],\n",
       "       [ 4.80000000e-01,  9.96121600e-01]])"
      ]
     },
     "execution_count": 5,
     "metadata": {},
     "output_type": "execute_result"
    }
   ],
   "source": [
    "test_data"
   ]
  },
  {
   "cell_type": "code",
   "execution_count": 6,
   "metadata": {},
   "outputs": [],
   "source": [
    "import pandas as pd"
   ]
  },
  {
   "cell_type": "code",
   "execution_count": 7,
   "metadata": {},
   "outputs": [
    {
     "data": {
      "text/html": [
       "<div>\n",
       "<style scoped>\n",
       "    .dataframe tbody tr th:only-of-type {\n",
       "        vertical-align: middle;\n",
       "    }\n",
       "\n",
       "    .dataframe tbody tr th {\n",
       "        vertical-align: top;\n",
       "    }\n",
       "\n",
       "    .dataframe thead th {\n",
       "        text-align: right;\n",
       "    }\n",
       "</style>\n",
       "<table border=\"1\" class=\"dataframe\">\n",
       "  <thead>\n",
       "    <tr style=\"text-align: right;\">\n",
       "      <th></th>\n",
       "      <th>X</th>\n",
       "      <th>y</th>\n",
       "    </tr>\n",
       "  </thead>\n",
       "  <tbody>\n",
       "    <tr>\n",
       "      <th>0</th>\n",
       "      <td>39.182367</td>\n",
       "      <td>4765.404216</td>\n",
       "    </tr>\n",
       "    <tr>\n",
       "      <th>1</th>\n",
       "      <td>-7.088335</td>\n",
       "      <td>3782.003789</td>\n",
       "    </tr>\n",
       "    <tr>\n",
       "      <th>2</th>\n",
       "      <td>-39.801708</td>\n",
       "      <td>743.905279</td>\n",
       "    </tr>\n",
       "    <tr>\n",
       "      <th>3</th>\n",
       "      <td>-21.923343</td>\n",
       "      <td>5027.035592</td>\n",
       "    </tr>\n",
       "    <tr>\n",
       "      <th>4</th>\n",
       "      <td>4.096181</td>\n",
       "      <td>-4596.715255</td>\n",
       "    </tr>\n",
       "    <tr>\n",
       "      <th>...</th>\n",
       "      <td>...</td>\n",
       "      <td>...</td>\n",
       "    </tr>\n",
       "    <tr>\n",
       "      <th>7995</th>\n",
       "      <td>23.063270</td>\n",
       "      <td>-1486.452375</td>\n",
       "    </tr>\n",
       "    <tr>\n",
       "      <th>7996</th>\n",
       "      <td>29.566674</td>\n",
       "      <td>909.864473</td>\n",
       "    </tr>\n",
       "    <tr>\n",
       "      <th>7997</th>\n",
       "      <td>39.351459</td>\n",
       "      <td>2470.612264</td>\n",
       "    </tr>\n",
       "    <tr>\n",
       "      <th>7998</th>\n",
       "      <td>12.821086</td>\n",
       "      <td>1806.341001</td>\n",
       "    </tr>\n",
       "    <tr>\n",
       "      <th>7999</th>\n",
       "      <td>-28.092164</td>\n",
       "      <td>-77.523256</td>\n",
       "    </tr>\n",
       "  </tbody>\n",
       "</table>\n",
       "<p>8000 rows × 2 columns</p>\n",
       "</div>"
      ],
      "text/plain": [
       "              X            y\n",
       "0     39.182367  4765.404216\n",
       "1     -7.088335  3782.003789\n",
       "2    -39.801708   743.905279\n",
       "3    -21.923343  5027.035592\n",
       "4      4.096181 -4596.715255\n",
       "...         ...          ...\n",
       "7995  23.063270 -1486.452375\n",
       "7996  29.566674   909.864473\n",
       "7997  39.351459  2470.612264\n",
       "7998  12.821086  1806.341001\n",
       "7999 -28.092164   -77.523256\n",
       "\n",
       "[8000 rows x 2 columns]"
      ]
     },
     "execution_count": 7,
     "metadata": {},
     "output_type": "execute_result"
    }
   ],
   "source": [
    "train_df = pd.DataFrame(train, columns=[\"X\",\"y\"])\n",
    "train_df"
   ]
  },
  {
   "cell_type": "code",
   "execution_count": 8,
   "metadata": {},
   "outputs": [
    {
     "data": {
      "text/html": [
       "<div>\n",
       "<style scoped>\n",
       "    .dataframe tbody tr th:only-of-type {\n",
       "        vertical-align: middle;\n",
       "    }\n",
       "\n",
       "    .dataframe tbody tr th {\n",
       "        vertical-align: top;\n",
       "    }\n",
       "\n",
       "    .dataframe thead th {\n",
       "        text-align: right;\n",
       "    }\n",
       "</style>\n",
       "<table border=\"1\" class=\"dataframe\">\n",
       "  <thead>\n",
       "    <tr style=\"text-align: right;\">\n",
       "      <th></th>\n",
       "      <th>X</th>\n",
       "      <th>y</th>\n",
       "    </tr>\n",
       "  </thead>\n",
       "  <tbody>\n",
       "    <tr>\n",
       "      <th>0</th>\n",
       "      <td>-21.47</td>\n",
       "      <td>-502.846044</td>\n",
       "    </tr>\n",
       "    <tr>\n",
       "      <th>1</th>\n",
       "      <td>-37.11</td>\n",
       "      <td>-2581.477664</td>\n",
       "    </tr>\n",
       "    <tr>\n",
       "      <th>2</th>\n",
       "      <td>-6.40</td>\n",
       "      <td>-12.862400</td>\n",
       "    </tr>\n",
       "    <tr>\n",
       "      <th>3</th>\n",
       "      <td>3.61</td>\n",
       "      <td>3.055552</td>\n",
       "    </tr>\n",
       "    <tr>\n",
       "      <th>4</th>\n",
       "      <td>25.77</td>\n",
       "      <td>843.144144</td>\n",
       "    </tr>\n",
       "    <tr>\n",
       "      <th>...</th>\n",
       "      <td>...</td>\n",
       "      <td>...</td>\n",
       "    </tr>\n",
       "    <tr>\n",
       "      <th>75</th>\n",
       "      <td>32.03</td>\n",
       "      <td>1623.173603</td>\n",
       "    </tr>\n",
       "    <tr>\n",
       "      <th>76</th>\n",
       "      <td>8.45</td>\n",
       "      <td>29.655006</td>\n",
       "    </tr>\n",
       "    <tr>\n",
       "      <th>77</th>\n",
       "      <td>12.94</td>\n",
       "      <td>105.857737</td>\n",
       "    </tr>\n",
       "    <tr>\n",
       "      <th>78</th>\n",
       "      <td>-44.31</td>\n",
       "      <td>-4387.684172</td>\n",
       "    </tr>\n",
       "    <tr>\n",
       "      <th>79</th>\n",
       "      <td>0.48</td>\n",
       "      <td>0.996122</td>\n",
       "    </tr>\n",
       "  </tbody>\n",
       "</table>\n",
       "<p>80 rows × 2 columns</p>\n",
       "</div>"
      ],
      "text/plain": [
       "        X            y\n",
       "0  -21.47  -502.846044\n",
       "1  -37.11 -2581.477664\n",
       "2   -6.40   -12.862400\n",
       "3    3.61     3.055552\n",
       "4   25.77   843.144144\n",
       "..    ...          ...\n",
       "75  32.03  1623.173603\n",
       "76   8.45    29.655006\n",
       "77  12.94   105.857737\n",
       "78 -44.31 -4387.684172\n",
       "79   0.48     0.996122\n",
       "\n",
       "[80 rows x 2 columns]"
      ]
     },
     "execution_count": 8,
     "metadata": {},
     "output_type": "execute_result"
    }
   ],
   "source": [
    "test = pd.DataFrame(test_data, columns=[\"X\",\"y\"])\n",
    "test"
   ]
  },
  {
   "cell_type": "code",
   "execution_count": 9,
   "metadata": {
    "scrolled": true
   },
   "outputs": [
    {
     "data": {
      "text/plain": [
       "<matplotlib.collections.PathCollection at 0x7f6ef4b87df0>"
      ]
     },
     "execution_count": 9,
     "metadata": {},
     "output_type": "execute_result"
    },
    {
     "data": {
      "image/png": "[encoded data removed]",
      "text/plain": [
       "<Figure size 432x288 with 1 Axes>"
      ]
     },
     "metadata": {
      "needs_background": "light"
     },
     "output_type": "display_data"
    }
   ],
   "source": [
    "import matplotlib.pyplot as plt\n",
    "%matplotlib inline\n",
    "plt.scatter(train_df.X, train_df.y)"
   ]
  },
  {
   "cell_type": "code",
   "execution_count": 10,
   "metadata": {},
   "outputs": [
    {
     "data": {
      "text/plain": [
       "<matplotlib.collections.PathCollection at 0x7f6ef42eb1f0>"
      ]
     },
     "execution_count": 10,
     "metadata": {},
     "output_type": "execute_result"
    },
    {
     "data": {
      "image/png": "[encoded data removed]",
      "text/plain": [
       "<Figure size 432x288 with 1 Axes>"
      ]
     },
     "metadata": {
      "needs_background": "light"
     },
     "output_type": "display_data"
    }
   ],
   "source": [
    "%matplotlib inline\n",
    "plt.scatter(test.X, test.y)"
   ]
  },
  {
   "cell_type": "markdown",
   "metadata": {},
   "source": [
    "### Splitting Data"
   ]
  },
  {
   "cell_type": "code",
   "execution_count": 11,
   "metadata": {},
   "outputs": [],
   "source": [
    "# from sklearn.model_selection import train_test_split\n",
    "import numpy as np "
   ]
  },
  {
   "cell_type": "code",
   "execution_count": 12,
   "metadata": {},
   "outputs": [],
   "source": [
    "# train,test=train_test_split(df,test_size=0.1,random_state=1)"
   ]
  },
  {
   "cell_type": "code",
   "execution_count": 13,
   "metadata": {},
   "outputs": [
    {
     "data": {
      "text/plain": [
       "10"
      ]
     },
     "execution_count": 13,
     "metadata": {},
     "output_type": "execute_result"
    }
   ],
   "source": [
    "# split the train set to 10 equal sets\n",
    "\n",
    "# uncommnent this later:\n",
    "\n",
    "train_dataset=np.split(train_df,10)\n",
    "len(train_dataset)"
   ]
  },
  {
   "cell_type": "markdown",
   "metadata": {},
   "source": [
    "## Polynomial Degree: 1"
   ]
  },
  {
   "cell_type": "code",
   "execution_count": 14,
   "metadata": {},
   "outputs": [],
   "source": [
    "from sklearn.linear_model import LinearRegression"
   ]
  },
  {
   "cell_type": "markdown",
   "metadata": {},
   "source": [
    "### Model 1"
   ]
  },
  {
   "cell_type": "code",
   "execution_count": 15,
   "metadata": {},
   "outputs": [],
   "source": [
    "clf1 = LinearRegression()"
   ]
  },
  {
   "cell_type": "code",
   "execution_count": 16,
   "metadata": {},
   "outputs": [
    {
     "data": {
      "text/plain": [
       "LinearRegression()"
      ]
     },
     "execution_count": 16,
     "metadata": {},
     "output_type": "execute_result"
    }
   ],
   "source": [
    "clf1.fit(train_dataset[0][[\"X\"]], train_dataset[0][[\"y\"]])"
   ]
  },
  {
   "cell_type": "code",
   "execution_count": 17,
   "metadata": {
    "scrolled": true
   },
   "outputs": [
    {
     "data": {
      "text/plain": [
       "array([[-1507.48489867],\n",
       "       [-2622.00459695],\n",
       "       [ -433.58388505],\n",
       "       [  279.73722619],\n",
       "       [ 1858.87766826],\n",
       "       [-2603.47677588],\n",
       "       [ 3259.15337614],\n",
       "       [  715.14102137],\n",
       "       [  889.01749604],\n",
       "       [ 2313.52189301],\n",
       "       [ 2685.50353144],\n",
       "       [ 2375.51883275],\n",
       "       [  459.31456888],\n",
       "       [ -556.15254752],\n",
       "       [-3276.89181097],\n",
       "       [  293.98939625],\n",
       "       [ -147.82787545],\n",
       "       [ -334.53130317],\n",
       "       [-3527.01739543],\n",
       "       [  -80.13006769],\n",
       "       [  144.34161067],\n",
       "       [-2307.03163874],\n",
       "       [ 2784.55611332],\n",
       "       [ -441.42257858],\n",
       "       [  324.63156187],\n",
       "       [-2700.39153226],\n",
       "       [  776.4253526 ],\n",
       "       [-2102.51299846],\n",
       "       [-3456.46915366],\n",
       "       [-2317.72076629],\n",
       "       [ 3521.39330515],\n",
       "       [-1667.82181179],\n",
       "       [ 2823.74958097],\n",
       "       [-1129.80239222],\n",
       "       [ 1040.80310712],\n",
       "       [-3269.05311744],\n",
       "       [ 3016.86648521],\n",
       "       [ 3174.35296432],\n",
       "       [-2917.02451709],\n",
       "       [-2307.74424725],\n",
       "       [ 2661.27484234],\n",
       "       [ -556.86515602],\n",
       "       [-3448.63046013],\n",
       "       [-2117.47777702],\n",
       "       [ 3281.24423973],\n",
       "       [ 1733.45857178],\n",
       "       [ 2165.29932444],\n",
       "       [-3016.07709897],\n",
       "       [ 1897.35852741],\n",
       "       [-3282.59267899],\n",
       "       [-3320.36092964],\n",
       "       [ 1236.05783687],\n",
       "       [ 2305.68319948],\n",
       "       [-1381.35319369],\n",
       "       [  893.29314705],\n",
       "       [ 2302.12015696],\n",
       "       [ 1538.91645053],\n",
       "       [ 1565.28296513],\n",
       "       [ -787.0377024 ],\n",
       "       [-2843.62584131],\n",
       "       [ -734.3046732 ],\n",
       "       [   93.03379848],\n",
       "       [-1590.14748499],\n",
       "       [  984.5070354 ],\n",
       "       [ -451.39909761],\n",
       "       [-3487.82392778],\n",
       "       [ -574.68036859],\n",
       "       [  187.09812084],\n",
       "       [ 2616.38050667],\n",
       "       [-1919.37261325],\n",
       "       [ 1370.02823538],\n",
       "       [-3489.24914479],\n",
       "       [ -523.37255639],\n",
       "       [ 2101.8771677 ],\n",
       "       [  660.98277516],\n",
       "       [ 2304.97059098],\n",
       "       [  624.63974152],\n",
       "       [  944.60095925],\n",
       "       [-3135.08271893],\n",
       "       [   56.69076484]])"
      ]
     },
     "execution_count": 17,
     "metadata": {},
     "output_type": "execute_result"
    }
   ],
   "source": [
    "clf1.predict(test[[\"X\"]])"
   ]
  },
  {
   "cell_type": "code",
   "execution_count": 19,
   "metadata": {},
   "outputs": [
    {
     "data": {
      "text/plain": [
       "0.8379216315589444"
      ]
     },
     "execution_count": 19,
     "metadata": {},
     "output_type": "execute_result"
    }
   ],
   "source": [
    "clf1.score(test[[\"X\"]],test[[\"y\"]])"
   ]
  },
  {
   "cell_type": "markdown",
   "metadata": {},
   "source": [
    "### Model 2"
   ]
  },
  {
   "cell_type": "code",
   "execution_count": 20,
   "metadata": {},
   "outputs": [],
   "source": [
    "clf2 = LinearRegression()"
   ]
  },
  {
   "cell_type": "code",
   "execution_count": 21,
   "metadata": {},
   "outputs": [
    {
     "data": {
      "text/plain": [
       "LinearRegression()"
      ]
     },
     "execution_count": 21,
     "metadata": {},
     "output_type": "execute_result"
    }
   ],
   "source": [
    "clf2.fit(train_dataset[1][[\"X\"]], train_dataset[1][[\"y\"]])"
   ]
  },
  {
   "cell_type": "code",
   "execution_count": 22,
   "metadata": {
    "scrolled": true
   },
   "outputs": [
    {
     "data": {
      "text/plain": [
       "array([[-1897.79523305],\n",
       "       [-3192.52771485],\n",
       "       [ -650.2492931 ],\n",
       "       [  178.41260862],\n",
       "       [ 2012.89290253],\n",
       "       [-3171.00402909],\n",
       "       [ 3639.58684546],\n",
       "       [  684.21922395],\n",
       "       [  886.21073646],\n",
       "       [ 2541.05103769],\n",
       "       [ 2973.180421  ],\n",
       "       [ 2613.07260157],\n",
       "       [  387.02679366],\n",
       "       [ -792.63675274],\n",
       "       [-3953.30722302],\n",
       "       [  194.96928997],\n",
       "       [ -318.28783197],\n",
       "       [ -535.1803577 ],\n",
       "       [-4243.87698076],\n",
       "       [ -239.64359555],\n",
       "       [   21.12413576],\n",
       "       [-2826.62505695],\n",
       "       [ 3088.2493564 ],\n",
       "       [ -659.35546784],\n",
       "       [  230.56615488],\n",
       "       [-3283.58946229],\n",
       "       [  755.41295377],\n",
       "       [-2589.03667953],\n",
       "       [-4161.92140807],\n",
       "       [-2839.04256796],\n",
       "       [ 3944.22978235],\n",
       "       [-2084.05789827],\n",
       "       [ 3133.78023012],\n",
       "       [-1459.04317719],\n",
       "       [ 1062.53939287],\n",
       "       [-3944.20104828],\n",
       "       [ 3358.12326246],\n",
       "       [ 3541.07459141],\n",
       "       [-3535.25101886],\n",
       "       [-2827.45289102],\n",
       "       [ 2945.0340627 ],\n",
       "       [ -793.4645868 ],\n",
       "       [-4152.81523332],\n",
       "       [-2606.42119495],\n",
       "       [ 3665.24970155],\n",
       "       [ 1867.19410662],\n",
       "       [ 2368.86155162],\n",
       "       [-3650.31995426],\n",
       "       [ 2057.59594218],\n",
       "       [-3959.92989556],\n",
       "       [-4003.80510115],\n",
       "       [ 1289.3659274 ],\n",
       "       [ 2531.94486294],\n",
       "       [-1751.26860307],\n",
       "       [  891.17774086],\n",
       "       [ 2527.8056926 ],\n",
       "       [ 1641.19540615],\n",
       "       [ 1671.82526666],\n",
       "       [-1060.85499065],\n",
       "       [-3449.98410989],\n",
       "       [ -999.59526965],\n",
       "       [  -38.47991711],\n",
       "       [-1993.82398489],\n",
       "       [  997.14050152],\n",
       "       [ -670.94514479],\n",
       "       [-4198.34610704],\n",
       "       [ -814.16043849],\n",
       "       [   70.79417982],\n",
       "       [ 2892.88051644],\n",
       "       [-2376.28332415],\n",
       "       [ 1444.99873212],\n",
       "       [-4200.00177518],\n",
       "       [ -754.55638562],\n",
       "       [ 2295.18431959],\n",
       "       [  621.30383481],\n",
       "       [ 2531.11702887],\n",
       "       [  579.08429736],\n",
       "       [  950.78179373],\n",
       "       [-3788.56824356],\n",
       "       [  -80.69945456]])"
      ]
     },
     "execution_count": 22,
     "metadata": {},
     "output_type": "execute_result"
    }
   ],
   "source": [
    "clf2.predict(test[[\"X\"]])"
   ]
  },
  {
   "cell_type": "code",
   "execution_count": 23,
   "metadata": {},
   "outputs": [
    {
     "data": {
      "text/plain": [
       "0.8602338315816415"
      ]
     },
     "execution_count": 23,
     "metadata": {},
     "output_type": "execute_result"
    }
   ],
   "source": [
    "clf2.score(test[[\"X\"]],test[[\"y\"]])"
   ]
  },
  {
   "cell_type": "markdown",
   "metadata": {},
   "source": [
    "### Model 3"
   ]
  },
  {
   "cell_type": "code",
   "execution_count": 24,
   "metadata": {},
   "outputs": [],
   "source": [
    "clf3 = LinearRegression()"
   ]
  },
  {
   "cell_type": "code",
   "execution_count": 25,
   "metadata": {},
   "outputs": [
    {
     "data": {
      "text/plain": [
       "LinearRegression()"
      ]
     },
     "execution_count": 25,
     "metadata": {},
     "output_type": "execute_result"
    }
   ],
   "source": [
    "clf3.fit(train_dataset[2][[\"X\"]], train_dataset[2][[\"y\"]])"
   ]
  },
  {
   "cell_type": "code",
   "execution_count": 26,
   "metadata": {
    "scrolled": true
   },
   "outputs": [
    {
     "data": {
      "text/plain": [
       "array([[-1541.45051347],\n",
       "       [-2762.12868828],\n",
       "       [ -365.25997036],\n",
       "       [  416.00528091],\n",
       "       [ 2145.55952347],\n",
       "       [-2741.83608435],\n",
       "       [ 3679.21208965],\n",
       "       [  892.88147324],\n",
       "       [ 1083.31975627],\n",
       "       [ 2643.5088045 ],\n",
       "       [ 3050.92185261],\n",
       "       [ 2711.41097919],\n",
       "       [  612.68744207],\n",
       "       [ -499.5033502 ],\n",
       "       [-3479.39418869],\n",
       "       [  431.61497624],\n",
       "       [  -52.28557899],\n",
       "       [ -256.77258781],\n",
       "       [-3753.34434173],\n",
       "       [   21.86047383],\n",
       "       [  267.71317527],\n",
       "       [-2417.15442149],\n",
       "       [ 3159.40923516],\n",
       "       [ -373.84530279],\n",
       "       [  465.1758212 ],\n",
       "       [-2847.98201259],\n",
       "       [  960.00316316],\n",
       "       [-2193.1552935 ],\n",
       "       [-3676.07634985],\n",
       "       [-2428.86169298],\n",
       "       [ 3966.43048372],\n",
       "       [-1717.05958594],\n",
       "       [ 3202.33589732],\n",
       "       [-1127.79358723],\n",
       "       [ 1249.56301153],\n",
       "       [-3470.80885626],\n",
       "       [ 3413.84726904],\n",
       "       [ 3586.33440243],\n",
       "       [-3085.24938161],\n",
       "       [-2417.93490625],\n",
       "       [ 3024.38537055],\n",
       "       [ -500.28383496],\n",
       "       [-3667.49101742],\n",
       "       [-2209.5454736 ],\n",
       "       [ 3703.40711741],\n",
       "       [ 2008.19420457],\n",
       "       [ 2481.16797307],\n",
       "       [-3193.73676415],\n",
       "       [ 2187.70570087],\n",
       "       [-3485.63806683],\n",
       "       [-3527.00375945],\n",
       "       [ 1463.41583755],\n",
       "       [ 2634.92347207],\n",
       "       [-1403.3047098 ],\n",
       "       [ 1088.00266487],\n",
       "       [ 2631.02104824],\n",
       "       [ 1795.12186332],\n",
       "       [ 1823.99979968],\n",
       "       [ -752.38041454],\n",
       "       [-3004.85945066],\n",
       "       [ -694.62454182],\n",
       "       [  211.51827209],\n",
       "       [-1631.98674639],\n",
       "       [ 1187.90471498],\n",
       "       [ -384.77208952],\n",
       "       [-3710.41767958],\n",
       "       [ -519.79595412],\n",
       "       [  314.54226126],\n",
       "       [ 2975.21483026],\n",
       "       [-1992.57070851],\n",
       "       [ 1610.14697366],\n",
       "       [-3711.97864911],\n",
       "       [ -463.60105094],\n",
       "       [ 2411.70482885],\n",
       "       [  833.56463099],\n",
       "       [ 2634.1429873 ],\n",
       "       [  793.7599079 ],\n",
       "       [ 1144.19756805],\n",
       "       [-3324.07772016],\n",
       "       [  171.713549  ]])"
      ]
     },
     "execution_count": 26,
     "metadata": {},
     "output_type": "execute_result"
    }
   ],
   "source": [
    "clf3.predict(test[[\"X\"]])"
   ]
  },
  {
   "cell_type": "code",
   "execution_count": 27,
   "metadata": {},
   "outputs": [
    {
     "data": {
      "text/plain": [
       "0.839507916681895"
      ]
     },
     "execution_count": 27,
     "metadata": {},
     "output_type": "execute_result"
    }
   ],
   "source": [
    "clf3.score(test[[\"X\"]],test[[\"y\"]])"
   ]
  },
  {
   "cell_type": "markdown",
   "metadata": {},
   "source": [
    "### Model 4"
   ]
  },
  {
   "cell_type": "code",
   "execution_count": 28,
   "metadata": {},
   "outputs": [],
   "source": [
    "clf4 = LinearRegression()"
   ]
  },
  {
   "cell_type": "code",
   "execution_count": 29,
   "metadata": {},
   "outputs": [
    {
     "data": {
      "text/plain": [
       "LinearRegression()"
      ]
     },
     "execution_count": 29,
     "metadata": {},
     "output_type": "execute_result"
    }
   ],
   "source": [
    "clf4.fit(train_dataset[3][[\"X\"]], train_dataset[3][[\"y\"]])"
   ]
  },
  {
   "cell_type": "code",
   "execution_count": 30,
   "metadata": {
    "scrolled": true
   },
   "outputs": [
    {
     "data": {
      "text/plain": [
       "array([[-1638.81387582],\n",
       "       [-2758.06285657],\n",
       "       [ -560.3559385 ],\n",
       "       [  155.99203447],\n",
       "       [ 1741.83330131],\n",
       "       [-2739.45641571],\n",
       "       [ 3148.05085064],\n",
       "       [  593.2433946 ],\n",
       "       [  767.85768571],\n",
       "       [ 2198.40673463],\n",
       "       [ 2571.96681643],\n",
       "       [ 2260.66674826],\n",
       "       [  336.33138431],\n",
       "       [ -683.44470108],\n",
       "       [-3415.7289776 ],\n",
       "       [  170.30468129],\n",
       "       [ -273.3873699 ],\n",
       "       [ -460.88304315],\n",
       "       [-3666.91592916],\n",
       "       [ -205.40229754],\n",
       "       [   20.02188975],\n",
       "       [-2441.75336201],\n",
       "       [ 2671.43971178],\n",
       "       [ -568.22789424],\n",
       "       [  201.07687193],\n",
       "       [-2836.78241404],\n",
       "       [  654.78777589],\n",
       "       [-2236.36688025],\n",
       "       [-3596.06832744],\n",
       "       [-2452.48784712],\n",
       "       [ 3411.40355199],\n",
       "       [-1799.83115247],\n",
       "       [ 2710.79949052],\n",
       "       [-1259.52873529],\n",
       "       [  920.28737426],\n",
       "       [-3407.85702186],\n",
       "       [ 2904.73585483],\n",
       "       [ 3062.89060211],\n",
       "       [-3054.33464559],\n",
       "       [-2442.46899435],\n",
       "       [ 2547.63531685],\n",
       "       [ -684.16033343],\n",
       "       [-3588.1963717 ],\n",
       "       [-2251.3951594 ],\n",
       "       [ 3170.2354532 ],\n",
       "       [ 1615.88200935],\n",
       "       [ 2049.55520778],\n",
       "       [-3153.80754093],\n",
       "       [ 1780.4774477 ],\n",
       "       [-3421.45403633],\n",
       "       [-3459.38255038],\n",
       "       [ 1116.3706356 ],\n",
       "       [ 2190.53477888],\n",
       "       [-1512.14695153],\n",
       "       [  772.15147975],\n",
       "       [ 2186.95661718],\n",
       "       [ 1420.51438036],\n",
       "       [ 1446.99277697],\n",
       "       [ -915.30957945],\n",
       "       [-2980.6245145 ],\n",
       "       [ -862.35278624],\n",
       "       [  -31.50363877],\n",
       "       [-1721.82722734],\n",
       "       [  863.75241935],\n",
       "       [ -578.24674701],\n",
       "       [-3627.55615043],\n",
       "       [ -702.05114194],\n",
       "       [   62.95983019],\n",
       "       [ 2502.55047939],\n",
       "       [-2052.44936871],\n",
       "       [ 1250.90951563],\n",
       "       [-3628.98741511],\n",
       "       [ -650.52561342],\n",
       "       [ 1985.86392946],\n",
       "       [  538.85533671],\n",
       "       [ 2189.81914654],\n",
       "       [  502.35808734],\n",
       "       [  823.67700828],\n",
       "       [-3273.31814182],\n",
       "       [  -68.00088814]])"
      ]
     },
     "execution_count": 30,
     "metadata": {},
     "output_type": "execute_result"
    }
   ],
   "source": [
    "clf4.predict(test[[\"X\"]])"
   ]
  },
  {
   "cell_type": "code",
   "execution_count": 31,
   "metadata": {},
   "outputs": [
    {
     "data": {
      "text/plain": [
       "0.8470765739385476"
      ]
     },
     "execution_count": 31,
     "metadata": {},
     "output_type": "execute_result"
    }
   ],
   "source": [
    "clf4.score(test[[\"X\"]],test[[\"y\"]])"
   ]
  },
  {
   "cell_type": "markdown",
   "metadata": {},
   "source": [
    "### Model 5"
   ]
  },
  {
   "cell_type": "code",
   "execution_count": 32,
   "metadata": {},
   "outputs": [],
   "source": [
    "clf5 = LinearRegression()"
   ]
  },
  {
   "cell_type": "code",
   "execution_count": 33,
   "metadata": {},
   "outputs": [
    {
     "data": {
      "text/plain": [
       "LinearRegression()"
      ]
     },
     "execution_count": 33,
     "metadata": {},
     "output_type": "execute_result"
    }
   ],
   "source": [
    "clf5.fit(train_dataset[4][[\"X\"]], train_dataset[4][[\"y\"]])"
   ]
  },
  {
   "cell_type": "code",
   "execution_count": 34,
   "metadata": {
    "scrolled": true
   },
   "outputs": [
    {
     "data": {
      "text/plain": [
       "array([[-1532.3923042 ],\n",
       "       [-2692.21514732],\n",
       "       [ -414.83921943],\n",
       "       [  327.47706316],\n",
       "       [ 1970.80661581],\n",
       "       [-2672.93420491],\n",
       "       [ 3428.00091679],\n",
       "       [  780.57920967],\n",
       "       [  961.52343839],\n",
       "       [ 2443.93127944],\n",
       "       [ 2831.03327695],\n",
       "       [ 2508.44827902],\n",
       "       [  514.35388954],\n",
       "       [ -542.39006918],\n",
       "       [-3373.72230386],\n",
       "       [  342.30855731],\n",
       "       [ -117.46776157],\n",
       "       [ -311.76033503],\n",
       "       [-3634.01502632],\n",
       "       [  -47.01816432],\n",
       "       [  186.57786866],\n",
       "       [-2364.43912644],\n",
       "       [ 2934.11216134],\n",
       "       [ -422.99654122],\n",
       "       [  374.19626975],\n",
       "       [-2773.78836519],\n",
       "       [  844.35463455],\n",
       "       [-2151.60718528],\n",
       "       [-3560.59913024],\n",
       "       [-2375.56274706],\n",
       "       [ 3700.90040929],\n",
       "       [-1699.24661347],\n",
       "       [ 2974.89877028],\n",
       "       [-1139.35770902],\n",
       "       [ 1119.47885117],\n",
       "       [-3365.56498207],\n",
       "       [ 3175.86551611],\n",
       "       [ 3339.75352655],\n",
       "       [-2999.22707638],\n",
       "       [-2365.18070115],\n",
       "       [ 2805.81973688],\n",
       "       [ -543.13164389],\n",
       "       [-3552.44180846],\n",
       "       [-2167.18025414],\n",
       "       [ 3450.98973273],\n",
       "       [ 1840.28946722],\n",
       "       [ 2289.6837402 ],\n",
       "       [-3102.30596077],\n",
       "       [ 2010.85165004],\n",
       "       [-3379.65490152],\n",
       "       [-3418.95836104],\n",
       "       [ 1322.67032113],\n",
       "       [ 2435.77395765],\n",
       "       [-1401.13358091],\n",
       "       [  965.97288664],\n",
       "       [ 2432.06608411],\n",
       "       [ 1637.83957197],\n",
       "       [ 1665.27783616],\n",
       "       [ -782.66027454],\n",
       "       [-2922.84488147],\n",
       "       [ -727.78374615],\n",
       "       [  133.18448969],\n",
       "       [-1618.41497031],\n",
       "       [ 1060.89444925],\n",
       "       [ -433.37858713],\n",
       "       [-3593.22841739],\n",
       "       [ -561.67101159],\n",
       "       [  231.07235113],\n",
       "       [ 2759.10053028],\n",
       "       [-1961.02248535],\n",
       "       [ 1462.08636621],\n",
       "       [-3594.7115668 ],\n",
       "       [ -508.27763262],\n",
       "       [ 2223.6835912 ],\n",
       "       [  724.21953187],\n",
       "       [ 2435.03238294],\n",
       "       [  686.39922177],\n",
       "       [ 1019.3662656 ],\n",
       "       [-3226.14893699],\n",
       "       [   95.36417959]])"
      ]
     },
     "execution_count": 34,
     "metadata": {},
     "output_type": "execute_result"
    }
   ],
   "source": [
    "clf5.predict(test[[\"X\"]])"
   ]
  },
  {
   "cell_type": "code",
   "execution_count": 35,
   "metadata": {},
   "outputs": [
    {
     "data": {
      "text/plain": [
       "0.8414397122975019"
      ]
     },
     "execution_count": 35,
     "metadata": {},
     "output_type": "execute_result"
    }
   ],
   "source": [
    "clf5.score(test[[\"X\"]],test[[\"y\"]])"
   ]
  },
  {
   "cell_type": "markdown",
   "metadata": {},
   "source": [
    "### Model 6"
   ]
  },
  {
   "cell_type": "code",
   "execution_count": 36,
   "metadata": {},
   "outputs": [],
   "source": [
    "clf6 = LinearRegression()"
   ]
  },
  {
   "cell_type": "code",
   "execution_count": 37,
   "metadata": {},
   "outputs": [
    {
     "data": {
      "text/plain": [
       "LinearRegression()"
      ]
     },
     "execution_count": 37,
     "metadata": {},
     "output_type": "execute_result"
    }
   ],
   "source": [
    "clf6.fit(train_dataset[5][[\"X\"]], train_dataset[5][[\"y\"]])"
   ]
  },
  {
   "cell_type": "code",
   "execution_count": 38,
   "metadata": {
    "scrolled": true
   },
   "outputs": [
    {
     "data": {
      "text/plain": [
       "array([[-1490.28572263],\n",
       "       [-2559.33888255],\n",
       "       [ -460.1942188 ],\n",
       "       [  224.02714506],\n",
       "       [ 1738.74696754],\n",
       "       [-2541.56689907],\n",
       "       [ 3081.8987957 ],\n",
       "       [  641.66875676],\n",
       "       [  808.45198631],\n",
       "       [ 2174.84410055],\n",
       "       [ 2531.65084574],\n",
       "       [ 2234.31189142],\n",
       "       [  396.27867722],\n",
       "       [ -577.76272488],\n",
       "       [-3187.51014467],\n",
       "       [  237.69790158],\n",
       "       [ -186.09555056],\n",
       "       [ -365.18246098],\n",
       "       [-3427.43192161],\n",
       "       [ -121.15945709],\n",
       "       [   94.15495811],\n",
       "       [-2257.21516344],\n",
       "       [ 2626.66260356],\n",
       "       [ -467.71313489],\n",
       "       [  267.0900281 ],\n",
       "       [-2634.52804341],\n",
       "       [  700.4530098 ],\n",
       "       [-2061.03980737],\n",
       "       [-3359.76167683],\n",
       "       [-2267.46823083],\n",
       "       [ 3333.44071568],\n",
       "       [-1644.08173349],\n",
       "       [ 2664.25718399],\n",
       "       [-1128.01067484],\n",
       "       [  954.04554326],\n",
       "       [-3179.99122858],\n",
       "       [ 2849.49593485],\n",
       "       [ 3000.5577944 ],\n",
       "       [-2842.32354252],\n",
       "       [-2257.89870127],\n",
       "       [ 2508.41055966],\n",
       "       [ -578.44626271],\n",
       "       [-3352.24276074],\n",
       "       [-2075.39410172],\n",
       "       [ 3103.0884683 ],\n",
       "       [ 1618.44431016],\n",
       "       [ 2032.66823274],\n",
       "       [-2937.33530034],\n",
       "       [ 1775.65801015],\n",
       "       [-3192.97844728],\n",
       "       [-3229.20595206],\n",
       "       [ 1141.33490759],\n",
       "       [ 2167.32518447],\n",
       "       [-1369.29952742],\n",
       "       [  812.55321327],\n",
       "       [ 2163.90749534],\n",
       "       [ 1431.83848366],\n",
       "       [ 1457.12938322],\n",
       "       [ -799.22898051],\n",
       "       [-2771.91914644],\n",
       "       [ -748.64718139],\n",
       "       [   44.94023464],\n",
       "       [-1569.57611045],\n",
       "       [  900.046055  ],\n",
       "       [ -477.28266445],\n",
       "       [-3389.83734118],\n",
       "       [ -595.53470836],\n",
       "       [  135.16722767],\n",
       "       [ 2465.34767662],\n",
       "       [-1885.37058608],\n",
       "       [ 1269.84001889],\n",
       "       [-3391.20441683],\n",
       "       [ -546.31998488],\n",
       "       [ 1971.83336622],\n",
       "       [  589.71988198],\n",
       "       [ 2166.64164664],\n",
       "       [  554.85945286],\n",
       "       [  861.76793674],\n",
       "       [-3051.48611729],\n",
       "       [   10.07980551]])"
      ]
     },
     "execution_count": 38,
     "metadata": {},
     "output_type": "execute_result"
    }
   ],
   "source": [
    "clf6.predict(test[[\"X\"]])"
   ]
  },
  {
   "cell_type": "code",
   "execution_count": 39,
   "metadata": {},
   "outputs": [
    {
     "data": {
      "text/plain": [
       "0.8324647986729732"
      ]
     },
     "execution_count": 39,
     "metadata": {},
     "output_type": "execute_result"
    }
   ],
   "source": [
    "clf6.score(test[[\"X\"]],test[[\"y\"]])"
   ]
  },
  {
   "cell_type": "markdown",
   "metadata": {},
   "source": [
    "### Model 7"
   ]
  },
  {
   "cell_type": "code",
   "execution_count": 40,
   "metadata": {},
   "outputs": [],
   "source": [
    "clf7 = LinearRegression()"
   ]
  },
  {
   "cell_type": "code",
   "execution_count": 41,
   "metadata": {},
   "outputs": [
    {
     "data": {
      "text/plain": [
       "LinearRegression()"
      ]
     },
     "execution_count": 41,
     "metadata": {},
     "output_type": "execute_result"
    }
   ],
   "source": [
    "clf7.fit(train_dataset[6][[\"X\"]], train_dataset[6][[\"y\"]])"
   ]
  },
  {
   "cell_type": "code",
   "execution_count": 42,
   "metadata": {
    "scrolled": true
   },
   "outputs": [
    {
     "data": {
      "text/plain": [
       "array([[-1882.76899044],\n",
       "       [-3112.84231157],\n",
       "       [ -697.52570722],\n",
       "       [   89.75267797],\n",
       "       [ 1832.61871354],\n",
       "       [-3092.39352234],\n",
       "       [ 3378.07528389],\n",
       "       [  570.29922479],\n",
       "       [  762.20324675],\n",
       "       [ 2334.40054147],\n",
       "       [ 2744.94930978],\n",
       "       [ 2402.82533619],\n",
       "       [  287.94863509],\n",
       "       [ -832.80231287],\n",
       "       [-3835.62836152],\n",
       "       [  105.48251584],\n",
       "       [ -382.14245801],\n",
       "       [ -588.20333405],\n",
       "       [-4111.68701607],\n",
       "       [ -307.42572814],\n",
       "       [  -59.68078175],\n",
       "       [-2765.21289473],\n",
       "       [ 2854.27168295],\n",
       "       [ -706.17711805],\n",
       "       [  139.30166725],\n",
       "       [-3199.35641983],\n",
       "       [  637.93752761],\n",
       "       [-2539.48972135],\n",
       "       [-4033.82431863],\n",
       "       [-2777.01027313],\n",
       "       [ 3667.50430062],\n",
       "       [-2059.72966643],\n",
       "       [ 2897.52873708],\n",
       "       [-1465.92828698],\n",
       "       [  929.72602003],\n",
       "       [-3826.97695069],\n",
       "       [ 3110.66804016],\n",
       "       [ 3284.48274858],\n",
       "       [-3438.4499554 ],\n",
       "       [-2765.99938662],\n",
       "       [ 2718.2085854 ],\n",
       "       [ -833.58880477],\n",
       "       [-4025.1729078 ],\n",
       "       [-2556.00605111],\n",
       "       [ 3402.45653258],\n",
       "       [ 1694.19614032],\n",
       "       [ 2170.81022766],\n",
       "       [-3547.77232857],\n",
       "       [ 1875.08927578],\n",
       "       [-3841.92029666],\n",
       "       [-3883.60436701],\n",
       "       [ 1145.22479879],\n",
       "       [ 2325.74913064],\n",
       "       [-1743.55992532],\n",
       "       [  766.92219811],\n",
       "       [ 2321.81667118],\n",
       "       [ 1479.48385345],\n",
       "       [ 1508.5840535 ],\n",
       "       [-1087.6256863 ],\n",
       "       [-3357.44129039],\n",
       "       [-1029.4252862 ],\n",
       "       [ -116.30819807],\n",
       "       [-1974.00205006],\n",
       "       [  867.59316045],\n",
       "       [ -717.18800456],\n",
       "       [-4068.42996193],\n",
       "       [ -853.2511021 ],\n",
       "       [  -12.49126815],\n",
       "       [ 2668.65959613],\n",
       "       [-2337.36130477],\n",
       "       [ 1293.08527473],\n",
       "       [-4070.00294572],\n",
       "       [ -796.62368578],\n",
       "       [ 2100.81244916],\n",
       "       [  510.52584089],\n",
       "       [ 2324.96263875],\n",
       "       [  470.41475434],\n",
       "       [  823.54961443],\n",
       "       [-3679.11647475],\n",
       "       [ -156.41928463]])"
      ]
     },
     "execution_count": 42,
     "metadata": {},
     "output_type": "execute_result"
    }
   ],
   "source": [
    "clf7.predict(test[[\"X\"]])"
   ]
  },
  {
   "cell_type": "code",
   "execution_count": 43,
   "metadata": {},
   "outputs": [
    {
     "data": {
      "text/plain": [
       "0.8615281068917898"
      ]
     },
     "execution_count": 43,
     "metadata": {},
     "output_type": "execute_result"
    }
   ],
   "source": [
    "clf7.score(test[[\"X\"]],test[[\"y\"]])"
   ]
  },
  {
   "cell_type": "markdown",
   "metadata": {},
   "source": [
    "### Model 8"
   ]
  },
  {
   "cell_type": "code",
   "execution_count": 44,
   "metadata": {},
   "outputs": [],
   "source": [
    "clf8 = LinearRegression()"
   ]
  },
  {
   "cell_type": "code",
   "execution_count": 45,
   "metadata": {},
   "outputs": [
    {
     "data": {
      "text/plain": [
       "LinearRegression()"
      ]
     },
     "execution_count": 45,
     "metadata": {},
     "output_type": "execute_result"
    }
   ],
   "source": [
    "clf8.fit(train_dataset[7][[\"X\"]], train_dataset[7][[\"y\"]])"
   ]
  },
  {
   "cell_type": "code",
   "execution_count": 46,
   "metadata": {
    "scrolled": true
   },
   "outputs": [
    {
     "data": {
      "text/plain": [
       "array([[-1693.25526507],\n",
       "       [-2867.76061598],\n",
       "       [ -561.5547767 ],\n",
       "       [  190.15868638],\n",
       "       [ 1854.29158766],\n",
       "       [-2848.23559096],\n",
       "       [ 3329.93290129],\n",
       "       [  648.99677423],\n",
       "       [  832.23162437],\n",
       "       [ 2333.40566303],\n",
       "       [ 2725.40808833],\n",
       "       [ 2398.73940058],\n",
       "       [  379.40123652],\n",
       "       [ -690.7203268 ],\n",
       "       [-3557.89515401],\n",
       "       [  205.17793639],\n",
       "       [ -260.41881397],\n",
       "       [ -457.17098912],\n",
       "       [-3821.48299171],\n",
       "       [ -189.07737642],\n",
       "       [   47.47581127],\n",
       "       [-2535.83519072],\n",
       "       [ 2829.79187591],\n",
       "       [ -569.81536421],\n",
       "       [  237.46932391],\n",
       "       [-2950.36649104],\n",
       "       [  713.57954928],\n",
       "       [-2320.30895306],\n",
       "       [-3747.13770416],\n",
       "       [-2547.09962823],\n",
       "       [ 3606.28710151],\n",
       "       [-1862.2218277 ],\n",
       "       [ 2871.09481344],\n",
       "       [-1295.24513977],\n",
       "       [  992.18663699],\n",
       "       [-3549.6345665 ],\n",
       "       [ 3074.6056511 ],\n",
       "       [ 3240.56836373],\n",
       "       [-3178.65909122],\n",
       "       [-2536.58615322],\n",
       "       [ 2699.87536331],\n",
       "       [ -691.4712893 ],\n",
       "       [-3738.87711665],\n",
       "       [-2336.07916557],\n",
       "       [ 3353.21273881],\n",
       "       [ 1722.12218756],\n",
       "       [ 2177.20546291],\n",
       "       [-3283.0428788 ],\n",
       "       [ 1894.84356269],\n",
       "       [-3563.90285401],\n",
       "       [-3603.70386655],\n",
       "       [ 1197.95036215],\n",
       "       [ 2325.14507552],\n",
       "       [-1560.33490247],\n",
       "       [  836.73739937],\n",
       "       [ 2321.39026302],\n",
       "       [ 1517.1094249 ],\n",
       "       [ 1544.89503742],\n",
       "       [ -934.03217699],\n",
       "       [-3101.30995366],\n",
       "       [ -878.46095195],\n",
       "       [   -6.59348878],\n",
       "       [-1780.36691514],\n",
       "       [  932.86059945],\n",
       "       [ -580.32883922],\n",
       "       [-3780.18005418],\n",
       "       [ -710.24535182],\n",
       "       [   92.5335613 ],\n",
       "       [ 2652.56472577],\n",
       "       [-2127.31159041],\n",
       "       [ 1339.13131226],\n",
       "       [-3781.68197918],\n",
       "       [ -656.17605178],\n",
       "       [ 2110.36980036],\n",
       "       [  591.92362419],\n",
       "       [ 2324.39411302],\n",
       "       [  553.62453666],\n",
       "       [  890.80669942],\n",
       "       [-3408.4536164 ],\n",
       "       [  -44.8925763 ]])"
      ]
     },
     "execution_count": 46,
     "metadata": {},
     "output_type": "execute_result"
    }
   ],
   "source": [
    "clf8.predict(test[[\"X\"]])"
   ]
  },
  {
   "cell_type": "code",
   "execution_count": 47,
   "metadata": {},
   "outputs": [
    {
     "data": {
      "text/plain": [
       "0.8535402339508228"
      ]
     },
     "execution_count": 47,
     "metadata": {},
     "output_type": "execute_result"
    }
   ],
   "source": [
    "clf8.score(test[[\"X\"]],test[[\"y\"]])"
   ]
  },
  {
   "cell_type": "markdown",
   "metadata": {},
   "source": [
    "### Model 9"
   ]
  },
  {
   "cell_type": "code",
   "execution_count": 48,
   "metadata": {},
   "outputs": [],
   "source": [
    "clf9 = LinearRegression()"
   ]
  },
  {
   "cell_type": "code",
   "execution_count": 49,
   "metadata": {},
   "outputs": [
    {
     "data": {
      "text/plain": [
       "LinearRegression()"
      ]
     },
     "execution_count": 49,
     "metadata": {},
     "output_type": "execute_result"
    }
   ],
   "source": [
    "clf9.fit(train_dataset[8][[\"X\"]], train_dataset[8][[\"y\"]])"
   ]
  },
  {
   "cell_type": "code",
   "execution_count": 50,
   "metadata": {
    "scrolled": true
   },
   "outputs": [
    {
     "data": {
      "text/plain": [
       "array([[-1448.51393847],\n",
       "       [-2574.28827522],\n",
       "       [ -363.76846182],\n",
       "       [  356.75590588],\n",
       "       [ 1951.84281779],\n",
       "       [-2555.57335657],\n",
       "       [ 3366.25878435],\n",
       "       [  796.55649395],\n",
       "       [  972.18880736],\n",
       "       [ 2411.07812907],\n",
       "       [ 2786.81611103],\n",
       "       [ 2473.70112606],\n",
       "       [  538.14665579],\n",
       "       [ -487.57484668],\n",
       "       [-3235.78866874],\n",
       "       [  371.15199714],\n",
       "       [  -75.126832  ],\n",
       "       [ -263.71562755],\n",
       "       [-3488.4400704 ],\n",
       "       [   -6.74539851],\n",
       "       [  219.99303888],\n",
       "       [-2256.13465831],\n",
       "       [ 2886.8689453 ],\n",
       "       [ -371.68631202],\n",
       "       [  402.10359336],\n",
       "       [-2653.46677716],\n",
       "       [  858.45968638],\n",
       "       [-2049.55074869],\n",
       "       [-3417.17941865],\n",
       "       [-2266.93172676],\n",
       "       [ 3631.14686359],\n",
       "       [-1610.46996518],\n",
       "       [ 2926.45819628],\n",
       "       [-1067.01752001],\n",
       "       [ 1125.50717931],\n",
       "       [-3227.87081854],\n",
       "       [ 3121.52523289],\n",
       "       [ 3280.60204134],\n",
       "       [-2872.28736435],\n",
       "       [-2256.85446287],\n",
       "       [ 2762.34275588],\n",
       "       [ -488.29465124],\n",
       "       [-3409.26156845],\n",
       "       [-2064.66664451],\n",
       "       [ 3388.57272581],\n",
       "       [ 1825.15721468],\n",
       "       [ 2261.35877994],\n",
       "       [-2972.34019863],\n",
       "       [ 1990.7122642 ],\n",
       "       [-3241.54710524],\n",
       "       [-3279.69674709],\n",
       "       [ 1322.73362961],\n",
       "       [ 2403.16027888],\n",
       "       [-1321.10853079],\n",
       "       [  976.50763474],\n",
       "       [ 2399.56125606],\n",
       "       [ 1628.65056894],\n",
       "       [ 1655.28333778],\n",
       "       [ -720.79152514],\n",
       "       [-2798.14749435],\n",
       "       [ -667.52598747],\n",
       "       [  168.16711034],\n",
       "       [-1532.01126779],\n",
       "       [ 1068.64261882],\n",
       "       [ -381.7635759 ],\n",
       "       [-3448.85081943],\n",
       "       [ -506.28976532],\n",
       "       [  263.18131267],\n",
       "       [ 2716.9950684 ],\n",
       "       [-1864.56097596],\n",
       "       [ 1458.05688748],\n",
       "       [-3450.29042855],\n",
       "       [ -454.46383678],\n",
       "       [ 2197.29617382],\n",
       "       [  741.85134716],\n",
       "       [ 2402.44047431],\n",
       "       [  705.14131444],\n",
       "       [ 1028.33356328],\n",
       "       [-3092.54756067],\n",
       "       [  131.45707762]])"
      ]
     },
     "execution_count": 50,
     "metadata": {},
     "output_type": "execute_result"
    }
   ],
   "source": [
    "clf9.predict(test[[\"X\"]])"
   ]
  },
  {
   "cell_type": "code",
   "execution_count": 51,
   "metadata": {},
   "outputs": [
    {
     "data": {
      "text/plain": [
       "0.832640342413919"
      ]
     },
     "execution_count": 51,
     "metadata": {},
     "output_type": "execute_result"
    }
   ],
   "source": [
    "clf9.score(test[[\"X\"]],test[[\"y\"]])"
   ]
  },
  {
   "cell_type": "markdown",
   "metadata": {},
   "source": [
    "### Model 10"
   ]
  },
  {
   "cell_type": "code",
   "execution_count": 52,
   "metadata": {},
   "outputs": [],
   "source": [
    "clf10 = LinearRegression()"
   ]
  },
  {
   "cell_type": "code",
   "execution_count": 53,
   "metadata": {},
   "outputs": [
    {
     "data": {
      "text/plain": [
       "LinearRegression()"
      ]
     },
     "execution_count": 53,
     "metadata": {},
     "output_type": "execute_result"
    }
   ],
   "source": [
    "clf10.fit(train_dataset[9][[\"X\"]], train_dataset[9][[\"y\"]])"
   ]
  },
  {
   "cell_type": "code",
   "execution_count": 54,
   "metadata": {
    "scrolled": true
   },
   "outputs": [
    {
     "data": {
      "text/plain": [
       "array([[-1544.65972748],\n",
       "       [-2639.33901469],\n",
       "       [ -489.87604089],\n",
       "       [  210.74669984],\n",
       "       [ 1761.77566433],\n",
       "       [-2621.14102143],\n",
       "       [ 3137.12400153],\n",
       "       [  638.39954158],\n",
       "       [  809.18070915],\n",
       "       [ 2208.32642216],\n",
       "       [ 2573.68613311],\n",
       "       [ 2269.21970732],\n",
       "       [  387.12724995],\n",
       "       [ -610.26276557],\n",
       "       [-3282.56808435],\n",
       "       [  224.7451562 ],\n",
       "       [ -209.20699091],\n",
       "       [ -392.5867692 ],\n",
       "       [-3528.24099344],\n",
       "       [ -142.71432321],\n",
       "       [   77.76136444],\n",
       "       [-2329.97312918],\n",
       "       [ 2670.9754048 ],\n",
       "       [ -497.57519189],\n",
       "       [  254.84183737],\n",
       "       [-2716.33052466],\n",
       "       [  698.59290392],\n",
       "       [-2129.09528044],\n",
       "       [-3458.94863447],\n",
       "       [-2340.47197145],\n",
       "       [ 3394.69559852],\n",
       "       [-1702.14236151],\n",
       "       [ 2709.47115978],\n",
       "       [-1173.70063399],\n",
       "       [  958.26426937],\n",
       "       [-3274.86893336],\n",
       "       [ 2899.15024344],\n",
       "       [ 3053.83318619],\n",
       "       [-2929.10706131],\n",
       "       [-2330.673052  ],\n",
       "       [ 2549.8887573 ],\n",
       "       [ -610.96268839],\n",
       "       [-3451.24948347],\n",
       "       [-2143.79365961],\n",
       "       [ 3158.82160888],\n",
       "       [ 1638.58924838],\n",
       "       [ 2062.74247603],\n",
       "       [-3026.396333  ],\n",
       "       [ 1799.5714965 ],\n",
       "       [-3288.1674669 ],\n",
       "       [-3325.26337625],\n",
       "       [ 1150.04312148],\n",
       "       [ 2200.62727116],\n",
       "       [-1420.77338871],\n",
       "       [  813.38024606],\n",
       "       [ 2197.12765707],\n",
       "       [ 1447.51031909],\n",
       "       [ 1473.40746335],\n",
       "       [ -837.03775857],\n",
       "       [-2857.01501106],\n",
       "       [ -785.24347005],\n",
       "       [   27.36692155],\n",
       "       [-1625.85077436],\n",
       "       [  902.97036675],\n",
       "       [ -507.37411134],\n",
       "       [-3489.74523846],\n",
       "       [ -628.46075884],\n",
       "       [  119.75673351],\n",
       "       [ 2505.79361977],\n",
       "       [-1949.21511623],\n",
       "       [ 1281.62861124],\n",
       "       [-3491.14508409],\n",
       "       [ -578.06631595],\n",
       "       [ 2000.44934524],\n",
       "       [  585.20540742],\n",
       "       [ 2199.92734834],\n",
       "       [  549.50934371],\n",
       "       [  863.77468895],\n",
       "       [-3143.28344359],\n",
       "       [   -8.32914217]])"
      ]
     },
     "execution_count": 54,
     "metadata": {},
     "output_type": "execute_result"
    }
   ],
   "source": [
    "clf10.predict(test[[\"X\"]])"
   ]
  },
  {
   "cell_type": "code",
   "execution_count": 56,
   "metadata": {},
   "outputs": [
    {
     "data": {
      "text/plain": [
       "0.839172979971915"
      ]
     },
     "execution_count": 56,
     "metadata": {},
     "output_type": "execute_result"
    }
   ],
   "source": [
    "clf10.score(test[[\"X\"]],test[[\"y\"]])"
   ]
  },
  {
   "cell_type": "code",
   "execution_count": 68,
   "metadata": {},
   "outputs": [],
   "source": [
    "from sklearn.preprocessing import PolynomialFeatures"
   ]
  },
  {
   "cell_type": "markdown",
   "metadata": {},
   "source": [
    "## Polynomial Degree: 2"
   ]
  },
  {
   "cell_type": "markdown",
   "metadata": {},
   "source": [
    "### Model 1"
   ]
  },
  {
   "cell_type": "code",
   "execution_count": 106,
   "metadata": {},
   "outputs": [
    {
     "data": {
      "text/plain": [
       "PolynomialFeatures()"
      ]
     },
     "execution_count": 106,
     "metadata": {},
     "output_type": "execute_result"
    }
   ],
   "source": [
    "poly2_1 = PolynomialFeatures(degree=2)\n",
    "x_poly2_1 = poly2_1.fit_transform(train_dataset[0][[\"X\"]])\n",
    "poly2_1.fit(train_dataset[0][[\"X\"]],train_dataset[0][[\"y\"]])"
   ]
  },
  {
   "cell_type": "code",
   "execution_count": 107,
   "metadata": {},
   "outputs": [
    {
     "data": {
      "text/plain": [
       "LinearRegression()"
      ]
     },
     "execution_count": 107,
     "metadata": {},
     "output_type": "execute_result"
    }
   ],
   "source": [
    "clf2_1=LinearRegression()\n",
    "clf2_1.fit(x_poly2_1,train_dataset[0][[\"y\"]])"
   ]
  },
  {
   "cell_type": "code",
   "execution_count": 120,
   "metadata": {
    "scrolled": true
   },
   "outputs": [],
   "source": [
    "predict=clf2_1.predict(poly2_1.fit_transform(test[[\"X\"]]))"
   ]
  },
  {
   "cell_type": "code",
   "execution_count": 109,
   "metadata": {},
   "outputs": [
    {
     "data": {
      "text/plain": [
       "0.8523150557438561"
      ]
     },
     "execution_count": 109,
     "metadata": {},
     "output_type": "execute_result"
    }
   ],
   "source": [
    "clf2_1.score(poly2_1.fit_transform(test[[\"X\"]]),test[[\"y\"]])"
   ]
  },
  {
   "cell_type": "markdown",
   "metadata": {},
   "source": [
    "### Model 2"
   ]
  },
  {
   "cell_type": "code",
   "execution_count": 115,
   "metadata": {},
   "outputs": [
    {
     "data": {
      "text/plain": [
       "PolynomialFeatures()"
      ]
     },
     "execution_count": 115,
     "metadata": {},
     "output_type": "execute_result"
    }
   ],
   "source": [
    "poly2_2 = PolynomialFeatures(degree=2)\n",
    "x_poly2_2 = poly2_2.fit_transform(train_dataset[1][[\"X\"]])\n",
    "poly2_2.fit(train_dataset[1][[\"X\"]],train_dataset[1][[\"y\"]])"
   ]
  },
  {
   "cell_type": "code",
   "execution_count": 111,
   "metadata": {},
   "outputs": [
    {
     "data": {
      "text/plain": [
       "LinearRegression()"
      ]
     },
     "execution_count": 111,
     "metadata": {},
     "output_type": "execute_result"
    }
   ],
   "source": [
    "clf2_2=LinearRegression()\n",
    "clf2_2.fit(x_poly2_2,train_dataset[1][[\"y\"]])"
   ]
  },
  {
   "cell_type": "code",
   "execution_count": 119,
   "metadata": {},
   "outputs": [],
   "source": [
    "predict=clf2_2.predict(poly2_2.fit_transform(test[[\"X\"]]))"
   ]
  },
  {
   "cell_type": "code",
   "execution_count": 113,
   "metadata": {},
   "outputs": [
    {
     "data": {
      "text/plain": [
       "0.8673724384333316"
      ]
     },
     "execution_count": 113,
     "metadata": {},
     "output_type": "execute_result"
    }
   ],
   "source": [
    "clf2_2.score(poly2_2.fit_transform(test[[\"X\"]]),test[[\"y\"]])"
   ]
  },
  {
   "cell_type": "markdown",
   "metadata": {},
   "source": [
    "### Model 3"
   ]
  },
  {
   "cell_type": "code",
   "execution_count": 124,
   "metadata": {},
   "outputs": [
    {
     "data": {
      "text/plain": [
       "PolynomialFeatures()"
      ]
     },
     "execution_count": 124,
     "metadata": {},
     "output_type": "execute_result"
    }
   ],
   "source": [
    "poly2_3 = PolynomialFeatures(degree=2)\n",
    "x_poly2_3 = poly2_3.fit_transform(train_dataset[2][[\"X\"]])\n",
    "poly2_3.fit(train_dataset[2][[\"X\"]],train_dataset[2][[\"y\"]])"
   ]
  },
  {
   "cell_type": "code",
   "execution_count": 125,
   "metadata": {},
   "outputs": [
    {
     "data": {
      "text/plain": [
       "LinearRegression()"
      ]
     },
     "execution_count": 125,
     "metadata": {},
     "output_type": "execute_result"
    }
   ],
   "source": [
    "clf2_3=LinearRegression()\n",
    "clf2_3.fit(x_poly2_3,train_dataset[2][[\"y\"]])"
   ]
  },
  {
   "cell_type": "code",
   "execution_count": 126,
   "metadata": {},
   "outputs": [],
   "source": [
    "predict=clf2_3.predict(poly2_3.fit_transform(test[[\"X\"]]))"
   ]
  },
  {
   "cell_type": "code",
   "execution_count": 127,
   "metadata": {},
   "outputs": [
    {
     "data": {
      "text/plain": [
       "0.8259125736419142"
      ]
     },
     "execution_count": 127,
     "metadata": {},
     "output_type": "execute_result"
    }
   ],
   "source": [
    "clf2_3.score(poly2_3.fit_transform(test[[\"X\"]]),test[[\"y\"]])"
   ]
  },
  {
   "cell_type": "markdown",
   "metadata": {},
   "source": [
    "### Model 4"
   ]
  },
  {
   "cell_type": "code",
   "execution_count": 128,
   "metadata": {},
   "outputs": [
    {
     "data": {
      "text/plain": [
       "PolynomialFeatures()"
      ]
     },
     "execution_count": 128,
     "metadata": {},
     "output_type": "execute_result"
    }
   ],
   "source": [
    "poly2_4 = PolynomialFeatures(degree=2)\n",
    "x_poly2_4 = poly2_4.fit_transform(train_dataset[3][[\"X\"]])\n",
    "poly2_4.fit(train_dataset[3][[\"X\"]],train_dataset[3][[\"y\"]])"
   ]
  },
  {
   "cell_type": "code",
   "execution_count": 129,
   "metadata": {},
   "outputs": [
    {
     "data": {
      "text/plain": [
       "LinearRegression()"
      ]
     },
     "execution_count": 129,
     "metadata": {},
     "output_type": "execute_result"
    }
   ],
   "source": [
    "clf2_4=LinearRegression()\n",
    "clf2_4.fit(x_poly2_4,train_dataset[3][[\"y\"]])"
   ]
  },
  {
   "cell_type": "code",
   "execution_count": 130,
   "metadata": {},
   "outputs": [],
   "source": [
    "predict=clf2_4.predict(poly2_4.fit_transform(test[[\"X\"]]))"
   ]
  },
  {
   "cell_type": "code",
   "execution_count": 131,
   "metadata": {},
   "outputs": [
    {
     "data": {
      "text/plain": [
       "0.8551346313387771"
      ]
     },
     "execution_count": 131,
     "metadata": {},
     "output_type": "execute_result"
    }
   ],
   "source": [
    "clf2_4.score(poly2_4.fit_transform(test[[\"X\"]]),test[[\"y\"]])"
   ]
  },
  {
   "cell_type": "markdown",
   "metadata": {},
   "source": [
    "### Model 5"
   ]
  },
  {
   "cell_type": "code",
   "execution_count": 132,
   "metadata": {},
   "outputs": [
    {
     "data": {
      "text/plain": [
       "PolynomialFeatures()"
      ]
     },
     "execution_count": 132,
     "metadata": {},
     "output_type": "execute_result"
    }
   ],
   "source": [
    "poly2_5 = PolynomialFeatures(degree=2)\n",
    "x_poly2_5 = poly2_5.fit_transform(train_dataset[4][[\"X\"]])\n",
    "poly2_5.fit(train_dataset[4][[\"X\"]],train_dataset[4][[\"y\"]])"
   ]
  },
  {
   "cell_type": "code",
   "execution_count": 133,
   "metadata": {},
   "outputs": [
    {
     "data": {
      "text/plain": [
       "LinearRegression()"
      ]
     },
     "execution_count": 133,
     "metadata": {},
     "output_type": "execute_result"
    }
   ],
   "source": [
    "clf2_5=LinearRegression()\n",
    "clf2_5.fit(x_poly2_5,train_dataset[4][[\"y\"]])"
   ]
  },
  {
   "cell_type": "code",
   "execution_count": 134,
   "metadata": {},
   "outputs": [],
   "source": [
    "predict=clf2_5.predict(poly2_5.fit_transform(test[[\"X\"]]))"
   ]
  },
  {
   "cell_type": "code",
   "execution_count": 135,
   "metadata": {},
   "outputs": [
    {
     "data": {
      "text/plain": [
       "0.848056104017214"
      ]
     },
     "execution_count": 135,
     "metadata": {},
     "output_type": "execute_result"
    }
   ],
   "source": [
    "clf2_5.score(poly2_5.fit_transform(test[[\"X\"]]),test[[\"y\"]])"
   ]
  },
  {
   "cell_type": "markdown",
   "metadata": {},
   "source": [
    "### Model 6"
   ]
  },
  {
   "cell_type": "code",
   "execution_count": 136,
   "metadata": {},
   "outputs": [
    {
     "data": {
      "text/plain": [
       "PolynomialFeatures()"
      ]
     },
     "execution_count": 136,
     "metadata": {},
     "output_type": "execute_result"
    }
   ],
   "source": [
    "poly2_6 = PolynomialFeatures(degree=2)\n",
    "x_poly2_6 = poly2_6.fit_transform(train_dataset[5][[\"X\"]])\n",
    "poly2_6.fit(train_dataset[5][[\"X\"]],train_dataset[5][[\"y\"]])"
   ]
  },
  {
   "cell_type": "code",
   "execution_count": 137,
   "metadata": {},
   "outputs": [
    {
     "data": {
      "text/plain": [
       "LinearRegression()"
      ]
     },
     "execution_count": 137,
     "metadata": {},
     "output_type": "execute_result"
    }
   ],
   "source": [
    "clf2_6=LinearRegression()\n",
    "clf2_6.fit(x_poly2_6,train_dataset[5][[\"y\"]])"
   ]
  },
  {
   "cell_type": "code",
   "execution_count": 138,
   "metadata": {},
   "outputs": [],
   "source": [
    "predict=clf2_6.predict(poly2_6.fit_transform(test[[\"X\"]]))"
   ]
  },
  {
   "cell_type": "code",
   "execution_count": 139,
   "metadata": {},
   "outputs": [
    {
     "data": {
      "text/plain": [
       "0.8466563664238809"
      ]
     },
     "execution_count": 139,
     "metadata": {},
     "output_type": "execute_result"
    }
   ],
   "source": [
    "clf2_6.score(poly2_6.fit_transform(test[[\"X\"]]),test[[\"y\"]])"
   ]
  },
  {
   "cell_type": "markdown",
   "metadata": {},
   "source": [
    "### Model 7"
   ]
  },
  {
   "cell_type": "code",
   "execution_count": 140,
   "metadata": {},
   "outputs": [
    {
     "data": {
      "text/plain": [
       "PolynomialFeatures()"
      ]
     },
     "execution_count": 140,
     "metadata": {},
     "output_type": "execute_result"
    }
   ],
   "source": [
    "poly2_7 = PolynomialFeatures(degree=2)\n",
    "x_poly2_7 = poly2_7.fit_transform(train_dataset[6][[\"X\"]])\n",
    "poly2_7.fit(train_dataset[6][[\"X\"]],train_dataset[6][[\"y\"]])"
   ]
  },
  {
   "cell_type": "code",
   "execution_count": 141,
   "metadata": {},
   "outputs": [
    {
     "data": {
      "text/plain": [
       "LinearRegression()"
      ]
     },
     "execution_count": 141,
     "metadata": {},
     "output_type": "execute_result"
    }
   ],
   "source": [
    "clf2_7=LinearRegression()\n",
    "clf2_7.fit(x_poly2_7,train_dataset[6][[\"y\"]])"
   ]
  },
  {
   "cell_type": "code",
   "execution_count": 142,
   "metadata": {},
   "outputs": [],
   "source": [
    "predict=clf2_7.predict(poly2_7.fit_transform(test[[\"X\"]]))"
   ]
  },
  {
   "cell_type": "code",
   "execution_count": 143,
   "metadata": {},
   "outputs": [
    {
     "data": {
      "text/plain": [
       "0.863915518523806"
      ]
     },
     "execution_count": 143,
     "metadata": {},
     "output_type": "execute_result"
    }
   ],
   "source": [
    "clf2_7.score(poly2_7.fit_transform(test[[\"X\"]]),test[[\"y\"]])"
   ]
  },
  {
   "cell_type": "markdown",
   "metadata": {},
   "source": [
    "### Model 8"
   ]
  },
  {
   "cell_type": "code",
   "execution_count": 144,
   "metadata": {},
   "outputs": [
    {
     "data": {
      "text/plain": [
       "PolynomialFeatures()"
      ]
     },
     "execution_count": 144,
     "metadata": {},
     "output_type": "execute_result"
    }
   ],
   "source": [
    "poly2_8 = PolynomialFeatures(degree=2)\n",
    "x_poly2_8 = poly2_8.fit_transform(train_dataset[7][[\"X\"]])\n",
    "poly2_8.fit(train_dataset[7][[\"X\"]],train_dataset[7][[\"y\"]])"
   ]
  },
  {
   "cell_type": "code",
   "execution_count": 145,
   "metadata": {},
   "outputs": [
    {
     "data": {
      "text/plain": [
       "LinearRegression()"
      ]
     },
     "execution_count": 145,
     "metadata": {},
     "output_type": "execute_result"
    }
   ],
   "source": [
    "clf2_8=LinearRegression()\n",
    "clf2_8.fit(x_poly2_8,train_dataset[7][[\"y\"]])"
   ]
  },
  {
   "cell_type": "code",
   "execution_count": 146,
   "metadata": {},
   "outputs": [],
   "source": [
    "predict=clf2_8.predict(poly2_8.fit_transform(test[[\"X\"]]))"
   ]
  },
  {
   "cell_type": "code",
   "execution_count": 147,
   "metadata": {},
   "outputs": [
    {
     "data": {
      "text/plain": [
       "0.8652593184340815"
      ]
     },
     "execution_count": 147,
     "metadata": {},
     "output_type": "execute_result"
    }
   ],
   "source": [
    "clf2_8.score(poly2_8.fit_transform(test[[\"X\"]]),test[[\"y\"]])"
   ]
  },
  {
   "cell_type": "markdown",
   "metadata": {},
   "source": [
    "### Model 9"
   ]
  },
  {
   "cell_type": "code",
   "execution_count": 148,
   "metadata": {},
   "outputs": [
    {
     "data": {
      "text/plain": [
       "PolynomialFeatures()"
      ]
     },
     "execution_count": 148,
     "metadata": {},
     "output_type": "execute_result"
    }
   ],
   "source": [
    "poly2_9 = PolynomialFeatures(degree=2)\n",
    "x_poly2_9 = poly2_9.fit_transform(train_dataset[8][[\"X\"]])\n",
    "poly2_9.fit(train_dataset[8][[\"X\"]],train_dataset[8][[\"y\"]])"
   ]
  },
  {
   "cell_type": "code",
   "execution_count": 149,
   "metadata": {},
   "outputs": [
    {
     "data": {
      "text/plain": [
       "LinearRegression()"
      ]
     },
     "execution_count": 149,
     "metadata": {},
     "output_type": "execute_result"
    }
   ],
   "source": [
    "clf2_9=LinearRegression()\n",
    "clf2_9.fit(x_poly2_9,train_dataset[8][[\"y\"]])"
   ]
  },
  {
   "cell_type": "code",
   "execution_count": 150,
   "metadata": {},
   "outputs": [],
   "source": [
    "predict=clf2_9.predict(poly2_9.fit_transform(test[[\"X\"]]))"
   ]
  },
  {
   "cell_type": "code",
   "execution_count": 151,
   "metadata": {},
   "outputs": [
    {
     "data": {
      "text/plain": [
       "0.82369048940131"
      ]
     },
     "execution_count": 151,
     "metadata": {},
     "output_type": "execute_result"
    }
   ],
   "source": [
    "clf2_9.score(poly2_9.fit_transform(test[[\"X\"]]),test[[\"y\"]])"
   ]
  },
  {
   "cell_type": "markdown",
   "metadata": {},
   "source": [
    "### Model 10"
   ]
  },
  {
   "cell_type": "code",
   "execution_count": 154,
   "metadata": {},
   "outputs": [
    {
     "data": {
      "text/plain": [
       "PolynomialFeatures()"
      ]
     },
     "execution_count": 154,
     "metadata": {},
     "output_type": "execute_result"
    }
   ],
   "source": [
    "poly2_10 = PolynomialFeatures(degree=2)\n",
    "x_poly2_10 = poly2_10.fit_transform(train_dataset[9][[\"X\"]])\n",
    "poly2_10.fit(train_dataset[9][[\"X\"]],train_dataset[9][[\"y\"]])"
   ]
  },
  {
   "cell_type": "code",
   "execution_count": 155,
   "metadata": {},
   "outputs": [
    {
     "data": {
      "text/plain": [
       "LinearRegression()"
      ]
     },
     "execution_count": 155,
     "metadata": {},
     "output_type": "execute_result"
    }
   ],
   "source": [
    "clf2_10=LinearRegression()\n",
    "clf2_10.fit(x_poly2_10,train_dataset[9][[\"y\"]])"
   ]
  },
  {
   "cell_type": "code",
   "execution_count": 156,
   "metadata": {},
   "outputs": [],
   "source": [
    "predict=clf2_10.predict(poly2_10.fit_transform(test[[\"X\"]]))"
   ]
  },
  {
   "cell_type": "code",
   "execution_count": 157,
   "metadata": {},
   "outputs": [
    {
     "data": {
      "text/plain": [
       "0.8497608895395513"
      ]
     },
     "execution_count": 157,
     "metadata": {},
     "output_type": "execute_result"
    }
   ],
   "source": [
    "clf2_10.score(poly2_10.fit_transform(test[[\"X\"]]),test[[\"y\"]])"
   ]
  }
 ],
 "metadata": {
  "kernelspec": {
   "display_name": "Python 3",
   "language": "python",
   "name": "python3"
  },
  "language_info": {
   "codemirror_mode": {
    "name": "ipython",
    "version": 3
   },
   "file_extension": ".py",
   "mimetype": "text/x-python",
   "name": "python",
   "nbconvert_exporter": "python",
   "pygments_lexer": "ipython3",
   "version": "3.8.5"
  }
 },
 "nbformat": 4,
 "nbformat_minor": 4
}
